{
 "cells": [
  {
   "cell_type": "markdown",
   "id": "9271ebc7",
   "metadata": {},
   "source": [
    "# Aula Prática 03 - Visualização interativa\n",
    "\n",
    "**SCC0252/5836 - Visualização Computacional (2022/2)**\n",
    "\n",
    "Monitor:    Breno Lívio Silva de Almeida, brenoslivio@usp.br\n",
    "\n",
    "Docente:    Maria Cristina Ferreira de Oliveira, cristina@icmc.usp.br\n",
    "\n",
    "Material base de Eric Macedo Cabral.\n",
    "\n",
    "[Repositório no GitHub](https://github.com/brenoslivio/CompVis_ICMC)."
   ]
  },
  {
   "cell_type": "markdown",
   "id": "ee8b5b33",
   "metadata": {},
   "source": [
    "---"
   ]
  },
  {
   "cell_type": "markdown",
   "id": "37829702",
   "metadata": {},
   "source": [
    "## Motivação"
   ]
  },
  {
   "cell_type": "markdown",
   "id": "8bba15f9",
   "metadata": {},
   "source": [
    "- Permitir ao usuário interagir com os dados sendo visualizados, pode ampliar as oportunidades de\n",
    "obter novos insights\n",
    "\n",
    "- O usuário pode explorar várias perspectivas sobre os dados\n",
    "\n",
    "    - Alternar entre diferentes mapeamentos\n",
    "\n",
    "- O usuário pode decidir o que é mais importante na visualização\n",
    "\n",
    "    - Filtrar ou ressaltar dados\n",
    "    \n",
    "- Explorar os dispositivos de interação (teclado, mouse, tela, etc)"
   ]
  },
  {
   "cell_type": "code",
   "execution_count": 1,
   "id": "6bde5fe8",
   "metadata": {},
   "outputs": [
    {
     "data": {
      "application/vnd.jupyter.widget-view+json": {
       "model_id": "ab511dc072d44d698db7e121be49cbc9",
       "version_major": 2,
       "version_minor": 0
      },
      "text/plain": [
       "IntSlider(value=1, continuous_update=False, description='Slider:', max=10)"
      ]
     },
     "metadata": {},
     "output_type": "display_data"
    }
   ],
   "source": [
    "import ipywidgets as widgets\n",
    "\n",
    "widgets.IntSlider(\n",
    "    value=1,\n",
    "    min=0,\n",
    "    max=10,\n",
    "    step=1,\n",
    "    description='Slider:',\n",
    "    disabled=False,\n",
    "    continuous_update=False,\n",
    "    orientation='horizontal', #horizontal\n",
    "    readout=True\n",
    ")\n"
   ]
  },
  {
   "cell_type": "markdown",
   "id": "90c51c9f",
   "metadata": {},
   "source": [
    "## Ferramentas"
   ]
  },
  {
   "cell_type": "markdown",
   "id": "cd237850",
   "metadata": {},
   "source": [
    "![](https://global-uploads.webflow.com/5d3ec351b1eba4332d213004/5f99e10dafbd69a99c875340_C8_qX8dvzv60T4LVZ9GftX-ZH-VJzq3sjUroWWH5XSWw8RFHnCCPPrC6jB3EFVuQdwiqhoEMQKFV-dFz7t6fqaRpSZGvBKI0i1Utj38_j9a54GXMuzi1BiepdIMjOK4ATVdF2131.png)\n",
    "\n",
    "Fonte da imagem: [Data Revenue](https://www.datarevenue.com/en-blog/data-dashboarding-streamlit-vs-dash-vs-shiny-vs-voila)"
   ]
  },
  {
   "cell_type": "markdown",
   "id": "d8e49be9",
   "metadata": {},
   "source": [
    "### ipywidgets"
   ]
  },
  {
   "cell_type": "code",
   "execution_count": null,
   "id": "4255f2c7",
   "metadata": {},
   "outputs": [],
   "source": []
  }
 ],
 "metadata": {
  "kernelspec": {
   "display_name": "Python 3 (ipykernel)",
   "language": "python",
   "name": "python3"
  },
  "language_info": {
   "codemirror_mode": {
    "name": "ipython",
    "version": 3
   },
   "file_extension": ".py",
   "mimetype": "text/x-python",
   "name": "python",
   "nbconvert_exporter": "python",
   "pygments_lexer": "ipython3",
   "version": "3.9.9"
  },
  "vscode": {
   "interpreter": {
    "hash": "b81992fdbbc2f2492ce7427ae934e8a0e829317357e8c190a0902dda284cf392"
   }
  }
 },
 "nbformat": 4,
 "nbformat_minor": 5
}
