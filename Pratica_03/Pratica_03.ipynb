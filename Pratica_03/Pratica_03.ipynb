{
 "cells": [
  {
   "cell_type": "markdown",
   "id": "9271ebc7",
   "metadata": {},
   "source": [
    "# Aula Prática 03 - Visualização interativa\n",
    "\n",
    "**SCC0252/5836 - Visualização Computacional (2022/2)**\n",
    "\n",
    "Monitor:    Breno Lívio Silva de Almeida, brenoslivio@usp.br\n",
    "\n",
    "Docente:    Maria Cristina Ferreira de Oliveira, cristina@icmc.usp.br\n",
    "\n",
    "Material base de Eric Macedo Cabral.\n",
    "\n",
    "[Repositório no GitHub](https://github.com/brenoslivio/CompVis_ICMC)."
   ]
  },
  {
   "cell_type": "markdown",
   "id": "ee8b5b33",
   "metadata": {},
   "source": [
    "---"
   ]
  },
  {
   "cell_type": "markdown",
   "id": "37829702",
   "metadata": {},
   "source": [
    "## Motivação"
   ]
  },
  {
   "cell_type": "markdown",
   "id": "8bba15f9",
   "metadata": {},
   "source": [
    "- Permitir ao usuário interagir com os dados sendo visualizados, pode ampliar as oportunidades de\n",
    "obter novos insights\n",
    "\n",
    "- O usuário pode explorar várias perspectivas sobre os dados\n",
    "    - Alternar entre diferentes mapeamentos\n",
    "\n",
    "- O usuário pode decidir o que é mais importante na visualização\n",
    "    - Filtrar ou ressaltar dados\n",
    "    \n",
    "- Explorar os dispositivos de interação (teclado, mouse, tela, etc)"
   ]
  },
  {
   "cell_type": "markdown",
   "id": "1f38f91f",
   "metadata": {},
   "source": [
    "Trabalharemos com: \n",
    "\n",
    "- Incorporação de elementos de interface ao Jupyter Notebook\n",
    "- Como fazer a comunicação entre elementos de interface\n",
    "- Controlar parâmetros de visualização por meio da interação\n",
    "- Técnicas de interação"
   ]
  },
  {
   "cell_type": "markdown",
   "id": "90c51c9f",
   "metadata": {},
   "source": [
    "## Ferramentas"
   ]
  },
  {
   "cell_type": "markdown",
   "id": "cd237850",
   "metadata": {},
   "source": [
    "Popularidade de ferramentas para geração de Dashboards:\n",
    "\n",
    "![](https://global-uploads.webflow.com/5d3ec351b1eba4332d213004/5f99e10dafbd69a99c875340_C8_qX8dvzv60T4LVZ9GftX-ZH-VJzq3sjUroWWH5XSWw8RFHnCCPPrC6jB3EFVuQdwiqhoEMQKFV-dFz7t6fqaRpSZGvBKI0i1Utj38_j9a54GXMuzi1BiepdIMjOK4ATVdF2131.png)\n",
    "\n",
    "Fonte da imagem: [Data Revenue](https://www.datarevenue.com/en-blog/data-dashboarding-streamlit-vs-dash-vs-shiny-vs-voila)\n",
    "\n",
    "Iremos trabalhar principalmente com o ipywidgets com o Voilà, tendo a intenção de transformar um Jupyter Notebook em um Dashboard interativo."
   ]
  },
  {
   "cell_type": "markdown",
   "id": "94a0d37c",
   "metadata": {},
   "source": [
    "### ipywidgets"
   ]
  },
  {
   "cell_type": "markdown",
   "id": "260726a7",
   "metadata": {},
   "source": [
    "[Documentação do ipywidgets](https://ipywidgets.readthedocs.io/)\n",
    "\n",
    "- Elementos HTML incorporados ao Jupyter Notebook\n",
    "- Interativos e programáveis\n",
    "- Baseado em eventos\n",
    "    - Interação do usuário\n",
    "    - Mudança do valor de alguma variável\n",
    "    - Término do processamento de um algoritmo"
   ]
  },
  {
   "cell_type": "markdown",
   "id": "d8e49be9",
   "metadata": {},
   "source": [
    "## Elementos de interface"
   ]
  },
  {
   "cell_type": "markdown",
   "id": "56526f97",
   "metadata": {},
   "source": [
    "Existem diversos elementos de interface para o ipywidgets. [Lista de elementos de interface](https://ipywidgets.readthedocs.io/en/latest/examples/Widget%20List.html).\n",
    "\n",
    "Vamos carregar o dataset Gapminder para ver o funcionamento desses elementos."
   ]
  },
  {
   "cell_type": "code",
   "execution_count": 1,
   "id": "bb27d767",
   "metadata": {},
   "outputs": [
    {
     "data": {
      "text/html": [
       "<div>\n",
       "<style scoped>\n",
       "    .dataframe tbody tr th:only-of-type {\n",
       "        vertical-align: middle;\n",
       "    }\n",
       "\n",
       "    .dataframe tbody tr th {\n",
       "        vertical-align: top;\n",
       "    }\n",
       "\n",
       "    .dataframe thead th {\n",
       "        text-align: right;\n",
       "    }\n",
       "</style>\n",
       "<table border=\"1\" class=\"dataframe\">\n",
       "  <thead>\n",
       "    <tr style=\"text-align: right;\">\n",
       "      <th></th>\n",
       "      <th>country</th>\n",
       "      <th>continent</th>\n",
       "      <th>year</th>\n",
       "      <th>lifeExp</th>\n",
       "      <th>pop</th>\n",
       "      <th>gdpPercap</th>\n",
       "      <th>iso_alpha</th>\n",
       "      <th>iso_num</th>\n",
       "    </tr>\n",
       "  </thead>\n",
       "  <tbody>\n",
       "    <tr>\n",
       "      <th>0</th>\n",
       "      <td>Afghanistan</td>\n",
       "      <td>Asia</td>\n",
       "      <td>1952</td>\n",
       "      <td>28.801</td>\n",
       "      <td>8425333</td>\n",
       "      <td>779.445314</td>\n",
       "      <td>AFG</td>\n",
       "      <td>4</td>\n",
       "    </tr>\n",
       "    <tr>\n",
       "      <th>1</th>\n",
       "      <td>Afghanistan</td>\n",
       "      <td>Asia</td>\n",
       "      <td>1957</td>\n",
       "      <td>30.332</td>\n",
       "      <td>9240934</td>\n",
       "      <td>820.853030</td>\n",
       "      <td>AFG</td>\n",
       "      <td>4</td>\n",
       "    </tr>\n",
       "    <tr>\n",
       "      <th>2</th>\n",
       "      <td>Afghanistan</td>\n",
       "      <td>Asia</td>\n",
       "      <td>1962</td>\n",
       "      <td>31.997</td>\n",
       "      <td>10267083</td>\n",
       "      <td>853.100710</td>\n",
       "      <td>AFG</td>\n",
       "      <td>4</td>\n",
       "    </tr>\n",
       "    <tr>\n",
       "      <th>3</th>\n",
       "      <td>Afghanistan</td>\n",
       "      <td>Asia</td>\n",
       "      <td>1967</td>\n",
       "      <td>34.020</td>\n",
       "      <td>11537966</td>\n",
       "      <td>836.197138</td>\n",
       "      <td>AFG</td>\n",
       "      <td>4</td>\n",
       "    </tr>\n",
       "    <tr>\n",
       "      <th>4</th>\n",
       "      <td>Afghanistan</td>\n",
       "      <td>Asia</td>\n",
       "      <td>1972</td>\n",
       "      <td>36.088</td>\n",
       "      <td>13079460</td>\n",
       "      <td>739.981106</td>\n",
       "      <td>AFG</td>\n",
       "      <td>4</td>\n",
       "    </tr>\n",
       "  </tbody>\n",
       "</table>\n",
       "</div>"
      ],
      "text/plain": [
       "       country continent  year  lifeExp       pop   gdpPercap iso_alpha  \\\n",
       "0  Afghanistan      Asia  1952   28.801   8425333  779.445314       AFG   \n",
       "1  Afghanistan      Asia  1957   30.332   9240934  820.853030       AFG   \n",
       "2  Afghanistan      Asia  1962   31.997  10267083  853.100710       AFG   \n",
       "3  Afghanistan      Asia  1967   34.020  11537966  836.197138       AFG   \n",
       "4  Afghanistan      Asia  1972   36.088  13079460  739.981106       AFG   \n",
       "\n",
       "   iso_num  \n",
       "0        4  \n",
       "1        4  \n",
       "2        4  \n",
       "3        4  \n",
       "4        4  "
      ]
     },
     "execution_count": 1,
     "metadata": {},
     "output_type": "execute_result"
    }
   ],
   "source": [
    "import pandas as pd\n",
    "import io\n",
    "from ipywidgets import widgets\n",
    "\n",
    "df = pd.read_csv('data/GapMinder.csv')\n",
    "\n",
    "df[\"year\"] = df[\"year\"].astype(\"category\")\n",
    "df[\"country\"] = df[\"country\"].astype(\"category\")\n",
    "df[\"continent\"] = df[\"continent\"].astype(\"category\")\n",
    "\n",
    "df.head(5)"
   ]
  },
  {
   "cell_type": "markdown",
   "id": "f0fd68d1",
   "metadata": {},
   "source": [
    "### Caixa de texto e Botões"
   ]
  },
  {
   "cell_type": "markdown",
   "id": "9fc5e70a",
   "metadata": {},
   "source": [
    "- Entrada do usuário\n",
    "- String\n",
    "- Query\n",
    "\n",
    "    - Ações\n",
    "    \n",
    "    - Eventos\n",
    "    \n",
    "```python\n",
    "from ipywidgets import widgets\n",
    "\n",
    "widgets.Text(\n",
    "    value=\"Default\",\n",
    "    placeholder=\"Dica\",\n",
    "    description=\"Tooltip\")\n",
    "\n",
    "widgets.Button(\n",
    "    description=\"Label\",\n",
    "    button_style='',\n",
    "    icon=\"search\",\n",
    "    tooltip=\"\")\n",
    "```\n",
    "\n",
    "Vamos fazer um sistema de busca para verificar o código alpha-3 para um dado país:"
   ]
  },
  {
   "cell_type": "code",
   "execution_count": 2,
   "id": "e6d716ec",
   "metadata": {},
   "outputs": [
    {
     "data": {
      "application/vnd.jupyter.widget-view+json": {
       "model_id": "d5cc0bf63ba2465c857c9bd12c804394",
       "version_major": 2,
       "version_minor": 0
      },
      "text/plain": [
       "VBox(children=(HBox(children=(Text(value='', description='Query: ', placeholder=\"Type a country's name\"), Butt…"
      ]
     },
     "metadata": {},
     "output_type": "display_data"
    }
   ],
   "source": [
    "wid_query = {\n",
    "    \"query\": widgets.Text(\n",
    "        value=\"\",\n",
    "        placeholder=\"Type a country's name\",\n",
    "        description=\"Query: \",\n",
    "        disabled=False),\n",
    "    \"button\": widgets.Button(\n",
    "        description='Search',\n",
    "        disabled=False,\n",
    "        button_style='', # 'success', 'info', 'warning', 'danger' or ''\n",
    "        icon='search', # (FontAwesome names without the `fa-` prefix)\n",
    "        tooltip='Search for a country'),\n",
    "    \"output\": widgets.Label(value=\"\")}\n",
    "\n",
    "def on_query(button):\n",
    "    wid_query[\"output\"].value = df[df['country'] == wid_query[\"query\"].value]['iso_alpha'].iat[0]\n",
    "    \n",
    "# Eventos\n",
    "wid_query[\"button\"].on_click(on_query)\n",
    "\n",
    "widgets.VBox([\n",
    "    widgets.HBox([wid_query[\"query\"], wid_query[\"button\"]]),\n",
    "    wid_query[\"output\"]])"
   ]
  },
  {
   "cell_type": "markdown",
   "id": "fa37312e",
   "metadata": {},
   "source": [
    "### Dropdown"
   ]
  },
  {
   "cell_type": "markdown",
   "id": "cc2f369c",
   "metadata": {},
   "source": [
    "Permite que o usuário selecione um valor dentre um conjunto de opções pré-definidas.\n",
    "\n",
    "```python\n",
    "from ipywidgets import widgets\n",
    "\n",
    "widgets.Dropdown(\n",
    "    options=[Opções],\n",
    "    value=\"Default\",\n",
    "    description=\"Label\")\n",
    "```\n",
    "\n",
    "Baseado no continente, vamos ver o número de países:"
   ]
  },
  {
   "cell_type": "code",
   "execution_count": 3,
   "id": "6bde5fe8",
   "metadata": {},
   "outputs": [
    {
     "data": {
      "application/vnd.jupyter.widget-view+json": {
       "model_id": "9b868ca880674738bb230c528751e218",
       "version_major": 2,
       "version_minor": 0
      },
      "text/plain": [
       "VBox(children=(Dropdown(description='Continent', options=('All', 'Asia', 'Europe', 'Africa', 'Americas', 'Ocea…"
      ]
     },
     "metadata": {},
     "output_type": "display_data"
    }
   ],
   "source": [
    "continents = df[\"continent\"].unique().tolist()\n",
    "text = 'Número de países: '\n",
    "\n",
    "wid_continents = {\n",
    "    \"dropdown\": widgets.Dropdown(\n",
    "        options= [\"All\"] + continents,\n",
    "        value=\"All\",\n",
    "        description=\"Continent\",\n",
    "        disabled=False),\n",
    "    \"output\": widgets.Label(value=text + str(df['country'].nunique()))}\n",
    "\n",
    "def select_continent(dropdown):\n",
    "    # Novo valor acessível por dropdown[\"new\"]\n",
    "    # Antigo valor acessível por dropdown[\"old\"]\n",
    "    \n",
    "    wid_continents[\"output\"].value = text + str(df[df['continent'] == dropdown[\"new\"]]['country'].nunique()) \\\n",
    "                                        if dropdown[\"new\"] != \"All\" else text + str(df['country'].nunique()) \n",
    "    \n",
    "# Eventos\n",
    "wid_continents[\"dropdown\"].observe(select_continent, names='value')\n",
    "\n",
    "widgets.VBox([wid_continents[\"dropdown\"], wid_continents[\"output\"]])"
   ]
  },
  {
   "cell_type": "markdown",
   "id": "953ac41f",
   "metadata": {},
   "source": [
    "### Slider"
   ]
  },
  {
   "cell_type": "markdown",
   "id": "f0a40c97",
   "metadata": {},
   "source": [
    "Valor flutuante dentro de um intervalo pré-definido.\n",
    "\n",
    "```python\n",
    "from ipywidgets import widgets\n",
    "\n",
    "widgets.IntSlider(\n",
    "    value=5,\n",
    "    min=0,\n",
    "    max=10,\n",
    "    step=1)\n",
    "```\n",
    "\n",
    "Vamos fazer um Slider considerando os anos do dataset Gapminder:"
   ]
  },
  {
   "cell_type": "code",
   "execution_count": 4,
   "id": "3cbe1d12",
   "metadata": {},
   "outputs": [
    {
     "data": {
      "application/vnd.jupyter.widget-view+json": {
       "model_id": "afaa31387b924161aa93f4d443c63a3c",
       "version_major": 2,
       "version_minor": 0
      },
      "text/plain": [
       "HBox(children=(Play(value=1952, description='Years', interval=500, max=2007, min=1952), IntSlider(value=1952, …"
      ]
     },
     "metadata": {},
     "output_type": "display_data"
    }
   ],
   "source": [
    "years = df[\"year\"].tolist()\n",
    "\n",
    "wid_years = {\n",
    "    \"play\": widgets.Play(\n",
    "        value=years[0],\n",
    "        min=years[0],\n",
    "        max=years[-1],\n",
    "        step=1,\n",
    "        interval=500,\n",
    "        description=\"Years\",\n",
    "        disabled=False),\n",
    "    \"slider\": widgets.IntSlider(\n",
    "        value=years[0],\n",
    "        min=years[0],\n",
    "        max=years[-1],\n",
    "        step=1)}\n",
    "\n",
    "widgets.jslink((wid_years[\"play\"], 'value'),\n",
    "               (wid_years[\"slider\"], 'value'))\n",
    "\n",
    "widgets.HBox([wid_years[\"play\"], wid_years[\"slider\"]])"
   ]
  },
  {
   "cell_type": "markdown",
   "id": "5a406c76",
   "metadata": {},
   "source": [
    "## Layout"
   ]
  },
  {
   "cell_type": "markdown",
   "id": "66072ee2",
   "metadata": {},
   "source": [
    "[Documentação: Layout](https://ipywidgets.readthedocs.io/en/latest/examples/Widget%20List.html#Container/Layout-widgets)\n",
    "\n",
    "[Documentação: Templates](https://ipywidgets.readthedocs.io/en/latest/examples/Layout%20Templates.html)"
   ]
  },
  {
   "cell_type": "markdown",
   "id": "871c41dc",
   "metadata": {},
   "source": [
    "### Caixas"
   ]
  },
  {
   "cell_type": "markdown",
   "id": "ba2f045c",
   "metadata": {},
   "source": [
    "- Distribuição de elementos sequencialmente\n",
    "- Horizontal ou verticalmente\n",
    "- Aninhamento\n",
    "    - Hierarquias\n",
    "    \n",
    "```python\n",
    "from ipywidgets import widgets\n",
    "\n",
    "# Vertical\n",
    "widgets.VBox([widgets])\n",
    "# Horizontal\n",
    "widgets.HBox([widgets])\n",
    "```\n",
    "    \n",
    "Um exemplo de caixa **horizontal**:"
   ]
  },
  {
   "cell_type": "code",
   "execution_count": 5,
   "id": "5189e1e6",
   "metadata": {},
   "outputs": [
    {
     "data": {
      "application/vnd.jupyter.widget-view+json": {
       "model_id": "d052f67190f64ca08d5314570e0e5b24",
       "version_major": 2,
       "version_minor": 0
      },
      "text/plain": [
       "HBox(children=(Button(description='0', style=ButtonStyle()), Button(description='1', style=ButtonStyle())))"
      ]
     },
     "metadata": {},
     "output_type": "display_data"
    }
   ],
   "source": [
    "widgets.HBox([widgets.Button(description=f'{i}') for i in range(2)])"
   ]
  },
  {
   "cell_type": "markdown",
   "id": "941d1a0f",
   "metadata": {},
   "source": [
    "E **vertical**:"
   ]
  },
  {
   "cell_type": "code",
   "execution_count": 6,
   "id": "c5b923de",
   "metadata": {},
   "outputs": [
    {
     "data": {
      "application/vnd.jupyter.widget-view+json": {
       "model_id": "262d35f6292243d493f0a54f81eaa80d",
       "version_major": 2,
       "version_minor": 0
      },
      "text/plain": [
       "VBox(children=(Button(description='0', style=ButtonStyle()), Button(description='1', style=ButtonStyle())))"
      ]
     },
     "metadata": {},
     "output_type": "display_data"
    }
   ],
   "source": [
    "widgets.VBox([widgets.Button(description=f'{i}') for i in range(2)])"
   ]
  },
  {
   "cell_type": "markdown",
   "id": "6438ae1b",
   "metadata": {},
   "source": [
    "### Grade"
   ]
  },
  {
   "cell_type": "markdown",
   "id": "f8267504",
   "metadata": {},
   "source": [
    "- Disposição dos elementos numa matriz\n",
    "- O tamanho de cada elemento é especificado por quantidade de células\n",
    "    - Linhas + Colunas\n",
    "     \n",
    "```python\n",
    "from ipywidgets import GridspecLayout, widgets\n",
    "\n",
    "grid = GridspecLayout(rows, cols)\n",
    "# Adiciona Button na primeira célula\n",
    "grid[0, 0] = widgets.Button()\n",
    "```\n",
    "\n",
    "Vamos criar uma função para retornar um botão dada uma descrição e estilo do botão:"
   ]
  },
  {
   "cell_type": "code",
   "execution_count": 7,
   "id": "e1c3579b",
   "metadata": {},
   "outputs": [],
   "source": [
    "from ipywidgets import GridspecLayout, Layout\n",
    "\n",
    "def create_expanded_button(description, button_style):\n",
    "    return widgets.Button(\n",
    "        description=description,\n",
    "        button_style=button_style,\n",
    "        layout=Layout(height='auto', width='auto'))"
   ]
  },
  {
   "cell_type": "markdown",
   "id": "24b9df82",
   "metadata": {},
   "source": [
    "Um exemplo com **células igualmente distribuidas**:"
   ]
  },
  {
   "cell_type": "code",
   "execution_count": 8,
   "id": "4d447029",
   "metadata": {},
   "outputs": [
    {
     "data": {
      "application/vnd.jupyter.widget-view+json": {
       "model_id": "b047049a344b4fbd89e8b58057cd3caf",
       "version_major": 2,
       "version_minor": 0
      },
      "text/plain": [
       "GridspecLayout(children=(Button(button_style='warning', description='Button 0 - 0', layout=Layout(grid_area='w…"
      ]
     },
     "metadata": {},
     "output_type": "display_data"
    }
   ],
   "source": [
    "grid = GridspecLayout(4, 3)\n",
    "\n",
    "for i in range(4):\n",
    "    for j in range(3):\n",
    "        grid[i, j] = create_expanded_button('Button {} - {}'.format(i, j), 'warning')\n",
    "grid"
   ]
  },
  {
   "cell_type": "markdown",
   "id": "264cec30",
   "metadata": {},
   "source": [
    "E com **células com proporções diferentes**:"
   ]
  },
  {
   "cell_type": "code",
   "execution_count": 9,
   "id": "40f27dcb",
   "metadata": {},
   "outputs": [
    {
     "data": {
      "application/vnd.jupyter.widget-view+json": {
       "model_id": "8562173b48fc43758117db4a60507e85",
       "version_major": 2,
       "version_minor": 0
      },
      "text/plain": [
       "GridspecLayout(children=(Button(button_style='success', description='One', layout=Layout(grid_area='widget001'…"
      ]
     },
     "metadata": {},
     "output_type": "display_data"
    }
   ],
   "source": [
    "grid = GridspecLayout(4, 3, height='300px')\n",
    "grid[:3, 1:] = create_expanded_button('One', 'success')\n",
    "grid[:, 0] = create_expanded_button('Two', 'info')\n",
    "grid[3, 1] = create_expanded_button('Three', 'warning')\n",
    "grid[3, 2] = create_expanded_button('Four', 'danger')\n",
    "grid"
   ]
  },
  {
   "cell_type": "markdown",
   "id": "0445b2e3",
   "metadata": {},
   "source": [
    "### Accordion"
   ]
  },
  {
   "cell_type": "markdown",
   "id": "7c474a6f",
   "metadata": {},
   "source": [
    "- Contêiner com sistema de seções\n",
    "- Mostra uma seção por vez\n",
    "     - Collapse\n",
    "     \n",
    "```python\n",
    "from ipywidgets import widgets\n",
    "\n",
    "widgets.Accordion([widgets])\n",
    "```"
   ]
  },
  {
   "cell_type": "code",
   "execution_count": 10,
   "id": "c39ea05c",
   "metadata": {},
   "outputs": [
    {
     "data": {
      "application/vnd.jupyter.widget-view+json": {
       "model_id": "b6caff4cc7f6459bbcabbd47299c72b4",
       "version_major": 2,
       "version_minor": 0
      },
      "text/plain": [
       "Accordion(children=(IntSlider(value=0, description='Slider'), Text(value='', description='Text')), _titles={'0…"
      ]
     },
     "metadata": {},
     "output_type": "display_data"
    }
   ],
   "source": [
    "accordion = widgets.Accordion([\n",
    "    widgets.IntSlider(description=\"Slider\"),\n",
    "    widgets.Text(description=\"Text\")])\n",
    "\n",
    "for i, title in enumerate(['Slider', 'Text']):\n",
    "    accordion.set_title(i, title)\n",
    "\n",
    "accordion.selected_index = 0\n",
    "accordion"
   ]
  },
  {
   "cell_type": "markdown",
   "id": "4d61ff0e",
   "metadata": {},
   "source": [
    "### Abas"
   ]
  },
  {
   "cell_type": "markdown",
   "id": "661e60fa",
   "metadata": {},
   "source": [
    "- Estrutura de conteiners não ordenados\n",
    "- Mostra uma aba por vez\n",
    "\n",
    "```python\n",
    "from ipywidgets import widgets\n",
    "\n",
    "widgets.Tab([widgets])\n",
    "```"
   ]
  },
  {
   "cell_type": "code",
   "execution_count": 11,
   "id": "37760544",
   "metadata": {},
   "outputs": [
    {
     "data": {
      "application/vnd.jupyter.widget-view+json": {
       "model_id": "4f29e4f41c984135844b74210b6d844f",
       "version_major": 2,
       "version_minor": 0
      },
      "text/plain": [
       "Tab(children=(Text(value='', description='P0'), Text(value='', description='P1'), Text(value='', description='…"
      ]
     },
     "metadata": {},
     "output_type": "display_data"
    }
   ],
   "source": [
    "tab_contents = ['P0', 'P1', 'P2', 'P3', 'P4']\n",
    "\n",
    "tab = widgets.Tab([widgets.Text(description=name) for name in tab_contents])\n",
    "\n",
    "for i in range(len(tab_contents)):\n",
    "    tab.set_title(i, f\"Aba {i}\")\n",
    "\n",
    "tab.selected_index = 1\n",
    "tab"
   ]
  },
  {
   "cell_type": "markdown",
   "id": "faf0f584",
   "metadata": {},
   "source": [
    "### Template: AppLayout"
   ]
  },
  {
   "cell_type": "markdown",
   "id": "86499177",
   "metadata": {},
   "source": [
    "- Template com elementos pré-definidos\n",
    "    - Geralmente utilizados em aplicações modernas\n",
    "   \n",
    "- Responsivo\n",
    "\n",
    "```python\n",
    "from ipywidgets import AppLayout\n",
    "\n",
    "AppLayout(\n",
    "    header=header_widget,\n",
    "    left_sidebar=left_widget,\n",
    "    center=center_widget,\n",
    "    right_sidebar=right_widget,\n",
    "    footer=footer_widget)\n",
    "```"
   ]
  },
  {
   "cell_type": "code",
   "execution_count": 12,
   "id": "6e152de2",
   "metadata": {},
   "outputs": [
    {
     "data": {
      "application/vnd.jupyter.widget-view+json": {
       "model_id": "ec5e480738fa42cdba3a4846ecf1d71b",
       "version_major": 2,
       "version_minor": 0
      },
      "text/plain": [
       "AppLayout(children=(Button(button_style='success', description='Header', layout=Layout(grid_area='header', hei…"
      ]
     },
     "metadata": {},
     "output_type": "display_data"
    }
   ],
   "source": [
    "from ipywidgets import AppLayout\n",
    "\n",
    "header_button = create_expanded_button('Header', 'success')\n",
    "left_button = create_expanded_button('Left', 'info')\n",
    "center_button = create_expanded_button('Center', 'warning')\n",
    "right_button = create_expanded_button('Right', 'info')\n",
    "footer_button = create_expanded_button('Footer', 'success')\n",
    "\n",
    "AppLayout(height=\"300px\",\n",
    "    header=header_button,\n",
    "    left_sidebar=left_button,\n",
    "    center=center_button,\n",
    "    right_sidebar=right_button,\n",
    "    footer=footer_button)"
   ]
  },
  {
   "cell_type": "markdown",
   "id": "eb997edb",
   "metadata": {},
   "source": [
    "## Técnicas de interação"
   ]
  },
  {
   "cell_type": "markdown",
   "id": "b47a0218",
   "metadata": {},
   "source": [
    "Utilizaremos o conjunto de dados Gapminder para demonstrar técnicas de interação por meio de um layout que cada elemento vai empregar uma das técnicas."
   ]
  },
  {
   "cell_type": "code",
   "execution_count": 1,
   "id": "beb20b1f",
   "metadata": {},
   "outputs": [
    {
     "ename": "ModuleNotFoundError",
     "evalue": "No module named 'plotly'",
     "output_type": "error",
     "traceback": [
      "\u001b[0;31m---------------------------------------------------------------------------\u001b[0m",
      "\u001b[0;31mModuleNotFoundError\u001b[0m                       Traceback (most recent call last)",
      "\u001b[0;32m/tmp/ipykernel_361396/367354835.py\u001b[0m in \u001b[0;36m<module>\u001b[0;34m\u001b[0m\n\u001b[0;32m----> 1\u001b[0;31m \u001b[0;32mimport\u001b[0m \u001b[0mplotly\u001b[0m\u001b[0;34m.\u001b[0m\u001b[0mgraph_objects\u001b[0m \u001b[0;32mas\u001b[0m \u001b[0mgo\u001b[0m\u001b[0;34m\u001b[0m\u001b[0;34m\u001b[0m\u001b[0m\n\u001b[0m\u001b[1;32m      2\u001b[0m \u001b[0;32mimport\u001b[0m \u001b[0mplotly\u001b[0m\u001b[0;34m.\u001b[0m\u001b[0mio\u001b[0m \u001b[0;32mas\u001b[0m \u001b[0mpio\u001b[0m\u001b[0;34m\u001b[0m\u001b[0;34m\u001b[0m\u001b[0m\n\u001b[1;32m      3\u001b[0m \u001b[0;32mimport\u001b[0m \u001b[0mnumpy\u001b[0m \u001b[0;32mas\u001b[0m \u001b[0mnp\u001b[0m\u001b[0;34m\u001b[0m\u001b[0;34m\u001b[0m\u001b[0m\n\u001b[1;32m      4\u001b[0m \u001b[0;32mfrom\u001b[0m \u001b[0mipywidgets\u001b[0m \u001b[0;32mimport\u001b[0m \u001b[0mVBox\u001b[0m\u001b[0;34m,\u001b[0m \u001b[0mHBox\u001b[0m\u001b[0;34m,\u001b[0m \u001b[0mwidgets\u001b[0m\u001b[0;34m\u001b[0m\u001b[0;34m\u001b[0m\u001b[0m\n\u001b[1;32m      5\u001b[0m \u001b[0;32mimport\u001b[0m \u001b[0mplotly\u001b[0m\u001b[0;34m.\u001b[0m\u001b[0mgraph_objs\u001b[0m \u001b[0;32mas\u001b[0m \u001b[0mgo\u001b[0m\u001b[0;34m\u001b[0m\u001b[0;34m\u001b[0m\u001b[0m\n",
      "\u001b[0;31mModuleNotFoundError\u001b[0m: No module named 'plotly'"
     ]
    }
   ],
   "source": [
    "import plotly.graph_objects as go\n",
    "import plotly.io as pio\n",
    "import numpy as np\n",
    "from ipywidgets import VBox, HBox, widgets\n",
    "import plotly.graph_objs as go\n",
    "import plotly.express as px\n",
    "import pandas as pd\n",
    "\n",
    "class App(object):\n",
    "    \n",
    "    def __init__(self, data: pd.DataFrame):\n",
    "        \n",
    "        self.data = data\n",
    "        \n",
    "        self.years = sorted(data[\"year\"].unique())\n",
    "        self.countries = data[\"country\"].cat.categories.tolist()\n",
    "        self.continents = data[\"continent\"].unique().tolist()\n",
    "        \n",
    "        self.cols = [\"country\", \"iso_alpha\"]\n",
    "        \n",
    "        palette = px.colors.qualitative.Plotly\n",
    "        self.data[\"color\"] = [\n",
    "            palette[self.continents.index(continent)]\n",
    "            for continent in self.data[\"continent\"]]\n",
    "        \n",
    "        self.current_df = self.query(self.data, self.years[0])\n",
    "        \n",
    "        self.selection = self.current_df.copy(deep=True)\n",
    "                        \n",
    "    def show(self):\n",
    "        self.layout = VBox([\n",
    "            self.toolbar,                     # Row 1: Toolbar\n",
    "            self.scatter,                     # Row 2: Scatter plot\n",
    "            HBox([self.table, self.lines])])  # Row 3: Table + Lines\n",
    "\n",
    "        return self.layout\n",
    "    \n",
    "    def query(self, data, year=None, continent=None):\n",
    "        data = data.copy(deep=True)\n",
    "\n",
    "        if year:\n",
    "            data = data.query(\"year == @year\")\n",
    "        if continent:\n",
    "            data = data.query(\"continent == @continent\")\n",
    "\n",
    "        return data\n",
    "\n",
    "app = App(df)"
   ]
  },
  {
   "cell_type": "markdown",
   "id": "779aefa0",
   "metadata": {},
   "source": [
    "### Tabela de itens selecionados"
   ]
  },
  {
   "cell_type": "markdown",
   "id": "366489a2",
   "metadata": {},
   "source": [
    "- Utilizaremos uma tabela dinâmica renderizada pelo plotly\n",
    "- Os elementos da tabela serão atualizados pela interação\n",
    "\n",
    "[Documentação de tabelas no Plotly](https://plotly.com/python/table/)"
   ]
  },
  {
   "cell_type": "code",
   "execution_count": null,
   "id": "e66765c1",
   "metadata": {},
   "outputs": [],
   "source": [
    "app.table = go.FigureWidget(data=[go.Table(\n",
    "    header=dict(\n",
    "        values=[\"País\", \"ISO\"],\n",
    "        line_color=\"white\",\n",
    "        fill_color=\"darkslategray\",\n",
    "        align=\"left\"),\n",
    "    cells=dict(\n",
    "        values=[\n",
    "            app.current_df[\"country\"],\n",
    "            app.current_df[\"iso_alpha\"]],\n",
    "       line_color=\"darkslategray\",\n",
    "       fill_color=[app.data[\"color\"][app.current_df.index]] * 2,\n",
    "       align=[\"left\", \"center\"]))],\n",
    "    layout={\n",
    "        \"width\": 600,\n",
    "        \"margin\": {\"t\": 25, \"b\": 0, \"l\": 0, \"r\": 0}})\n",
    "\n",
    "app.table"
   ]
  },
  {
   "cell_type": "markdown",
   "id": "a41602d3",
   "metadata": {},
   "source": [
    "### Gráfico de dispersão"
   ]
  },
  {
   "cell_type": "markdown",
   "id": "e910901c",
   "metadata": {},
   "source": [
    "- Nossa visão principal é um gráfico de dispersão dos nossos dados, onde:\n",
    "    - X: PIB per capita\n",
    "    - Y: Expectativa de vida\n",
    "    - Tamanho do ponto: População\n",
    "    - Cor: Continente\n",
    "\n",
    "Dessa forma, codificamos 4 variaveis do conjunto de dados em uma única visualização. Porém, a visualização resultante acaba ficando com muitas informações implícitas, exigindo muita carga cognitiva do usuário para analisar todos os 4 mapeamentos visuais de todos os 142 pontos."
   ]
  },
  {
   "cell_type": "markdown",
   "id": "688dbc4c",
   "metadata": {},
   "source": [
    "#### Interação: Hovering"
   ]
  },
  {
   "cell_type": "markdown",
   "id": "61bd9b88",
   "metadata": {},
   "source": [
    "Adicionamos a interação por hovering para fornecer as informações de cada ponto de dados sob demanda, diminuindo a carga cognitiva do usuário de ter que processar visualmente cada um dos mapeamentos visuais para cada ponto de dados.\n",
    "\n",
    "[Documentação de Hovering do Plotly](https://plotly.com/python/hover-text-and-formatting/)"
   ]
  },
  {
   "cell_type": "code",
   "execution_count": null,
   "id": "63344990",
   "metadata": {},
   "outputs": [],
   "source": [
    "app.scatter = go.FigureWidget(px.scatter(\n",
    "    x=app.current_df[\"gdpPercap\"], y=app.current_df[\"lifeExp\"],\n",
    "    size=app.current_df[\"pop\"], size_max=55,\n",
    "    log_x=True, range_x=[100,100000], range_y=[25, 90], # diminui a quantidade de espaço vazio\n",
    "    hover_name=app.current_df[\"country\"], \n",
    "    color_discrete_sequence=px.colors.qualitative.Plotly,\n",
    "    color=app.current_df[\"continent\"],\n",
    "    labels={\n",
    "        \"x\": \"PIB per capita\",\n",
    "        \"y\": \"Expectativa de vida\",\n",
    "        \"color\": \"Continente\",\n",
    "        \"size\": \"População\"}))\n",
    "\n",
    "# Formato do popup de hovering\n",
    "## Aceita variaveis dos pontos de dados (p.e. x, y, marker.size)\n",
    "app.scatter.update_traces(\n",
    "    hovertemplate =\n",
    "    '''<b> %{hovertext} </b><br>\n",
    "    População: %{marker.size}<br>\n",
    "    Expectativa de vida: %{y}<br>\n",
    "    PIB per capita: %{x}''')\n",
    "\n",
    "app.scatter.update_layout({\n",
    "    \"margin\": {\n",
    "        \"t\": 60, \"b\": 5, \"l\": 5, \"r\": 5},\n",
    "    \"legend\": {\n",
    "        \"title\": \"\",\n",
    "        \"orientation\": \"h\", \"yanchor\": \"bottom\",\n",
    "        \"y\": 1.02, \"xanchor\": \"right\", \"x\":1}})"
   ]
  },
  {
   "cell_type": "markdown",
   "id": "eaf270ec",
   "metadata": {},
   "source": [
    "### Gráfico de linhas"
   ]
  },
  {
   "cell_type": "markdown",
   "id": "a84f0ce3",
   "metadata": {},
   "source": [
    "Para adicionar visualizações facetas, utilizamos subplots com eixos compartilhados.\n",
    "\n",
    "Neste componente visual, vamos mapear os valores de 3 colunas do nosso conjunto de dados, agregados à coluna *year*, representando assim uma visualização da evolução destes valores ente 1952 e 2007 em intervalos de 5 anos:\n",
    "\n",
    "* PIB per capita\n",
    "* Expectativa de vida\n",
    "* População"
   ]
  },
  {
   "cell_type": "markdown",
   "id": "b4c55b52",
   "metadata": {},
   "source": [
    "#### Interação: Facets"
   ]
  },
  {
   "cell_type": "markdown",
   "id": "15734340",
   "metadata": {},
   "source": [
    "Cada gráfico de linha pode ser visto como uma faceta do nosso conjunto de dados, pois estes são referentes a um mesmo período de tempo, representado pelo eixo X compartilhado, mas representando perspectivas (atributos) diferentes.\n",
    "\n",
    "[Documentação para subplots no Plotly](https://plotly.com/python/subplots/)"
   ]
  },
  {
   "cell_type": "code",
   "execution_count": null,
   "id": "86d7c900",
   "metadata": {},
   "outputs": [],
   "source": [
    "from plotly.subplots import make_subplots\n",
    "\n",
    "rows = [\"lifeExp\", \"gdpPercap\", \"pop\"] # Facetas exploradas\n",
    "\n",
    "app.lines = go.FigureWidget(make_subplots(\n",
    "    shared_xaxes=True,\n",
    "    specs=[[{\"type\": \"scatter\"}],\n",
    "           [{\"type\": \"scatter\"}],\n",
    "           [{\"type\": \"scatter\"}]],\n",
    "    subplot_titles=(\"Expectativa de vida\", \"PIB per capita\", \"População\"),\n",
    "    rows=len(rows), cols=1))\n",
    "\n",
    "for country, country_df in app.data.groupby(\"country\"): # Itera pais por pais\n",
    "    for index, row in enumerate(rows): # Itera por facetas\n",
    "        app.lines.add_trace(\n",
    "            go.Scattergl(mode=\"lines\", # Pela quantidade de entidades (426), usamos Scattergl por ter uma melhor performance\n",
    "                x=country_df[\"year\"],\n",
    "                y=country_df[row],\n",
    "                hovertemplate=\"<b>%{x}</b>: %{y}\",\n",
    "                visible=True,\n",
    "                marker={\n",
    "                    \"color\": app.data[\"color\"][country_df.index[0]],\n",
    "                    \"opacity\": 0.75\n",
    "                }, name=country),\n",
    "            row=index+1, col=1)\n",
    "\n",
    "for i in range(len(rows)):\n",
    "    # Coloca todos os eixos na mesma magnitude\n",
    "    app.lines.update_xaxes(dict(\n",
    "        tickmode = 'array',\n",
    "        tickvals = app.years,\n",
    "        ticktext = app.years), row=i+1, col=1)\n",
    "    \n",
    "app.lines.update_layout({\n",
    "    \"width\": 700,\n",
    "    \"margin\": {\"t\": 50, \"b\": 0, \"l\": 0, \"r\": 0},\n",
    "    \"showlegend\": False})"
   ]
  },
  {
   "cell_type": "markdown",
   "id": "73ff73f2",
   "metadata": {},
   "source": [
    "### Elementos de interface"
   ]
  },
  {
   "cell_type": "markdown",
   "id": "7ae64516",
   "metadata": {},
   "source": [
    "Apenas utilizaremos um *Slider* de anos e um *Player* para percorrer o *Slides* automáticamente, realizando assim uma **Dynamic Query**."
   ]
  },
  {
   "cell_type": "code",
   "execution_count": null,
   "id": "ab9278de",
   "metadata": {},
   "outputs": [],
   "source": [
    "app.player = widgets.Play(\n",
    "    value=app.years[0],\n",
    "    min=app.years[0],\n",
    "    max=app.years[-1],\n",
    "    step=5,\n",
    "    interval=1000,\n",
    "    description=\" Ano \",\n",
    "    disabled=False)\n",
    "\n",
    "app.slider = widgets.IntSlider(\n",
    "    value=app.years[0],\n",
    "    min=app.years[0],\n",
    "    max=app.years[-1],\n",
    "    step=5,\n",
    "    description=' Ano ',\n",
    "    disabled=False,\n",
    "    continuous_update=False,\n",
    "    orientation='horizontal',\n",
    "    readout=True,\n",
    "    readout_format='d')\n",
    "\n",
    "app.toolbar = HBox([app.player, app.slider])\n",
    "\n",
    "# Faz o link entre o slider e o player\n",
    "widgets.jslink((app.player, 'value'),\n",
    "               (app.slider, 'value'))\n",
    "\n",
    "app.toolbar"
   ]
  },
  {
   "cell_type": "markdown",
   "id": "76836a1d",
   "metadata": {},
   "source": [
    "## Linking and Brushing"
   ]
  },
  {
   "cell_type": "markdown",
   "id": "39201465",
   "metadata": {},
   "source": [
    "Permite que o usuário utilize ferramentas de seleção (*Brushes*) para ressaltar os elementos de seu interesse. Por meio da abordagem de **Linking and Brushing**, o usuário pode fazer seleções de dados em representações visuais mais simples (p.e. um Scatter plot 2D) e visualizar os resultados em representações mais complexas (p.e. uma visualização facetada).\n",
    "\n",
    "No nosso caso, fazemos o link das seleções no Scatter plot à nossa tabela e nossa visualização facetada de linhas.\n",
    "* Scatter plot - Tabela de dados\n",
    "* Scatter plot - Facetas"
   ]
  },
  {
   "cell_type": "code",
   "execution_count": null,
   "id": "cd528d5a",
   "metadata": {},
   "outputs": [],
   "source": [
    "def on_selection(trace, points, selector=None):\n",
    "    # O método on_deselect tem assinatura (trace, points)\n",
    "    # O método on_select tem assinatura (trace, points, selector)\n",
    "    from plotly.callbacks import BoxSelector\n",
    "    \n",
    "    if selector: # on_select\n",
    "        if type(selector) == BoxSelector: # Evita a seleção por \"Lasso Selection\"\n",
    "            x = selector.xrange # Intervalo selecionado no eixo X\n",
    "            y = selector.yrange # Intervalo selecionado no eixo Y\n",
    "        \n",
    "            app.selection = app.current_df[\n",
    "                (app.current_df['gdpPercap'].between(x[0], x[1], inclusive=True)) &\n",
    "                (app.current_df['lifeExp'].between(y[0], y[1], inclusive=True))]\n",
    "    else: # on_deselect\n",
    "        app.selection = app.current_df\n",
    "        \n",
    "    ## batch_update():\n",
    "    # Finaliza as operações dentro do block \"with\" antes de propagar para os gráficos\n",
    "    with app.table.batch_update():\n",
    "        # Atualiza os valores da tabela\n",
    "        app.table.data[0].cells.values = app.selection[app.cols].T\n",
    "        \n",
    "        # Atualiza as cores das células:\n",
    "        app.table.data[0].cells.fill.color = [app.data[\"color\"][app.selection.index]] * 2 \n",
    "        \n",
    "        # Atualiza o parâmetro \"visible\" de todos os traces\n",
    "        app.lines.plotly_restyle({'visible': [\n",
    "            trace.name in app.selection[\"country\"].tolist()\n",
    "            for trace in app.lines.data]})\n",
    "    \n",
    "app.on_selection = on_selection\n",
    "\n",
    "app.scatter.data[0].on_selection(app.on_selection) # Adiciona a callback para seleção\n",
    "app.scatter.data[0].on_deselect(app.on_selection) # Adiciona a callback para desseleção\n",
    "\n",
    "VBox([\n",
    "    app.scatter,\n",
    "    HBox([app.table, app.lines])])"
   ]
  },
  {
   "cell_type": "markdown",
   "id": "3fb16f04",
   "metadata": {},
   "source": [
    "## Dynamic query"
   ]
  },
  {
   "cell_type": "markdown",
   "id": "f9d5cde7",
   "metadata": {},
   "source": [
    "* Ligamos o elemento de interface da barra de ferramentas (*Toolbar*) ao nosso gráfico de dispersão\n",
    "\n",
    "O usuário pode interagir com o Slider navegando pelos anos (1952-2007) em passos de 5 anos, sem perder informação entre as iterações. O recurso de animação dos dados permite que as mudanças não sejam drásticas e que possam ser acompanhadas pelo usuário."
   ]
  },
  {
   "cell_type": "code",
   "execution_count": null,
   "id": "c41a3320",
   "metadata": {},
   "outputs": [],
   "source": [
    "def on_year_change(year):        \n",
    "    app.current_df = app.query(app.data, year=year[\"new\"]) # Query por ano\n",
    "\n",
    "    ## batch_animate():\n",
    "    # Anima as alterações realizadas dentro do block \"with\"\n",
    "    with app.scatter.batch_animate():\n",
    "        for continent_group in app.scatter.data:\n",
    "            continent = continent_group.legendgroup\n",
    "            df_cont = app.query(app.current_df, continent=continent)\n",
    "\n",
    "            continent_group.marker.size = df_cont[\"pop\"]\n",
    "            continent_group.x = df_cont[\"gdpPercap\"]\n",
    "            continent_group.y = df_cont[\"lifeExp\"]\n",
    "\n",
    "app.on_year_change = on_year_change\n",
    "\n",
    "app.slider.observe(app.on_year_change, \"value\")\n",
    "\n",
    "VBox([app.toolbar, app.scatter])"
   ]
  },
  {
   "cell_type": "markdown",
   "id": "e6eb2518",
   "metadata": {},
   "source": [
    "## Resultado"
   ]
  },
  {
   "cell_type": "code",
   "execution_count": null,
   "id": "1e812abf",
   "metadata": {},
   "outputs": [],
   "source": [
    "app.show()"
   ]
  }
 ],
 "metadata": {
  "kernelspec": {
   "display_name": "Python 3 (ipykernel)",
   "language": "python",
   "name": "python3"
  },
  "language_info": {
   "codemirror_mode": {
    "name": "ipython",
    "version": 3
   },
   "file_extension": ".py",
   "mimetype": "text/x-python",
   "name": "python",
   "nbconvert_exporter": "python",
   "pygments_lexer": "ipython3",
   "version": "3.9.7"
  },
  "vscode": {
   "interpreter": {
    "hash": "b81992fdbbc2f2492ce7427ae934e8a0e829317357e8c190a0902dda284cf392"
   }
  }
 },
 "nbformat": 4,
 "nbformat_minor": 5
}
