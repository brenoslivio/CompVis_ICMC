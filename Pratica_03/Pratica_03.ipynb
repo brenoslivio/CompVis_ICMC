{
  "cells": [
    {
      "cell_type": "markdown",
      "metadata": {
        "id": "view-in-github",
        "colab_type": "text"
      },
      "source": [
        "<a href=\"https://colab.research.google.com/github/brenoslivio/CompVis_ICMC/blob/main/Pratica_03/Pratica_03.ipynb\" target=\"_parent\"><img src=\"https://colab.research.google.com/assets/colab-badge.svg\" alt=\"Open In Colab\"/></a>"
      ]
    },
    {
      "cell_type": "markdown",
      "id": "9271ebc7",
      "metadata": {
        "id": "9271ebc7"
      },
      "source": [
        "# Aula Prática 03 - Visualização interativa\n",
        "\n",
        "**SCC0252/5836 - Visualização Computacional (2022/2)**\n",
        "\n",
        "Monitor:    Breno Lívio Silva de Almeida, brenoslivio@usp.br\n",
        "\n",
        "Docente:    Maria Cristina Ferreira de Oliveira, cristina@icmc.usp.br\n",
        "\n",
        "Material base de Eric Macedo Cabral.\n",
        "\n",
        "[Repositório no GitHub](https://github.com/brenoslivio/CompVis_ICMC)."
      ]
    },
    {
      "cell_type": "markdown",
      "id": "ee8b5b33",
      "metadata": {
        "id": "ee8b5b33"
      },
      "source": [
        "---"
      ]
    },
    {
      "cell_type": "markdown",
      "id": "37829702",
      "metadata": {
        "id": "37829702"
      },
      "source": [
        "## Motivação"
      ]
    },
    {
      "cell_type": "markdown",
      "id": "8bba15f9",
      "metadata": {
        "id": "8bba15f9"
      },
      "source": [
        "- Permitir ao usuário interagir com os dados sendo visualizados, pode ampliar as oportunidades de\n",
        "obter novos insights\n",
        "\n",
        "- O usuário pode explorar várias perspectivas sobre os dados\n",
        "    - Alternar entre diferentes mapeamentos\n",
        "\n",
        "- O usuário pode decidir o que é mais importante na visualização\n",
        "    - Filtrar ou ressaltar dados\n",
        "    \n",
        "- Explorar os dispositivos de interação (teclado, mouse, tela, etc)"
      ]
    },
    {
      "cell_type": "markdown",
      "id": "1f38f91f",
      "metadata": {
        "id": "1f38f91f"
      },
      "source": [
        "Trabalharemos com: \n",
        "\n",
        "- Incorporação de elementos de interface ao Jupyter Notebook\n",
        "- Como fazer a comunicação entre elementos de interface\n",
        "- Controlar parâmetros de visualização por meio da interação\n",
        "- Técnicas de interação"
      ]
    },
    {
      "cell_type": "markdown",
      "id": "90c51c9f",
      "metadata": {
        "id": "90c51c9f"
      },
      "source": [
        "## Ferramentas"
      ]
    },
    {
      "cell_type": "markdown",
      "id": "cd237850",
      "metadata": {
        "id": "cd237850"
      },
      "source": [
        "Popularidade de ferramentas para geração de Dashboards:\n",
        "\n",
        "![](https://global-uploads.webflow.com/5d3ec351b1eba4332d213004/5f99e10dafbd69a99c875340_C8_qX8dvzv60T4LVZ9GftX-ZH-VJzq3sjUroWWH5XSWw8RFHnCCPPrC6jB3EFVuQdwiqhoEMQKFV-dFz7t6fqaRpSZGvBKI0i1Utj38_j9a54GXMuzi1BiepdIMjOK4ATVdF2131.png)\n",
        "\n",
        "Fonte da imagem: [Data Revenue](https://www.datarevenue.com/en-blog/data-dashboarding-streamlit-vs-dash-vs-shiny-vs-voila)\n",
        "\n",
        "Iremos trabalhar principalmente com o ipywidgets com o Voilà, tendo a intenção de transformar um Jupyter Notebook em um Dashboard interativo."
      ]
    },
    {
      "cell_type": "markdown",
      "id": "94a0d37c",
      "metadata": {
        "id": "94a0d37c"
      },
      "source": [
        "### ipywidgets"
      ]
    },
    {
      "cell_type": "markdown",
      "id": "260726a7",
      "metadata": {
        "id": "260726a7"
      },
      "source": [
        "[Documentação do ipywidgets](https://ipywidgets.readthedocs.io/)\n",
        "\n",
        "- Elementos HTML incorporados ao Jupyter Notebook\n",
        "- Interativos e programáveis\n",
        "- Baseado em eventos\n",
        "    - Interação do usuário\n",
        "    - Mudança do valor de alguma variável\n",
        "    - Término do processamento de um algoritmo"
      ]
    },
    {
      "cell_type": "markdown",
      "id": "d8e49be9",
      "metadata": {
        "id": "d8e49be9"
      },
      "source": [
        "## Elementos de interface"
      ]
    },
    {
      "cell_type": "markdown",
      "id": "56526f97",
      "metadata": {
        "id": "56526f97"
      },
      "source": [
        "Existem diversos elementos de interface para o ipywidgets. [Lista de elementos de interface](https://ipywidgets.readthedocs.io/en/latest/examples/Widget%20List.html).\n",
        "\n",
        "Vamos carregar o dataset Gapminder para ver o funcionamento desses elementos."
      ]
    },
    {
      "cell_type": "code",
      "execution_count": 1,
      "id": "bb27d767",
      "metadata": {
        "id": "bb27d767",
        "outputId": "953af8b0-49b3-4e4b-b172-b0f2fa660396",
        "colab": {
          "base_uri": "https://localhost:8080/",
          "height": 206
        }
      },
      "outputs": [
        {
          "output_type": "execute_result",
          "data": {
            "text/plain": [
              "       country continent  year  lifeExp       pop   gdpPercap iso_alpha  \\\n",
              "0  Afghanistan      Asia  1952   28.801   8425333  779.445314       AFG   \n",
              "1  Afghanistan      Asia  1957   30.332   9240934  820.853030       AFG   \n",
              "2  Afghanistan      Asia  1962   31.997  10267083  853.100710       AFG   \n",
              "3  Afghanistan      Asia  1967   34.020  11537966  836.197138       AFG   \n",
              "4  Afghanistan      Asia  1972   36.088  13079460  739.981106       AFG   \n",
              "\n",
              "   iso_num  \n",
              "0        4  \n",
              "1        4  \n",
              "2        4  \n",
              "3        4  \n",
              "4        4  "
            ],
            "text/html": [
              "\n",
              "  <div id=\"df-2f4de015-a9a0-45ba-86cd-e569c17c7eb3\">\n",
              "    <div class=\"colab-df-container\">\n",
              "      <div>\n",
              "<style scoped>\n",
              "    .dataframe tbody tr th:only-of-type {\n",
              "        vertical-align: middle;\n",
              "    }\n",
              "\n",
              "    .dataframe tbody tr th {\n",
              "        vertical-align: top;\n",
              "    }\n",
              "\n",
              "    .dataframe thead th {\n",
              "        text-align: right;\n",
              "    }\n",
              "</style>\n",
              "<table border=\"1\" class=\"dataframe\">\n",
              "  <thead>\n",
              "    <tr style=\"text-align: right;\">\n",
              "      <th></th>\n",
              "      <th>country</th>\n",
              "      <th>continent</th>\n",
              "      <th>year</th>\n",
              "      <th>lifeExp</th>\n",
              "      <th>pop</th>\n",
              "      <th>gdpPercap</th>\n",
              "      <th>iso_alpha</th>\n",
              "      <th>iso_num</th>\n",
              "    </tr>\n",
              "  </thead>\n",
              "  <tbody>\n",
              "    <tr>\n",
              "      <th>0</th>\n",
              "      <td>Afghanistan</td>\n",
              "      <td>Asia</td>\n",
              "      <td>1952</td>\n",
              "      <td>28.801</td>\n",
              "      <td>8425333</td>\n",
              "      <td>779.445314</td>\n",
              "      <td>AFG</td>\n",
              "      <td>4</td>\n",
              "    </tr>\n",
              "    <tr>\n",
              "      <th>1</th>\n",
              "      <td>Afghanistan</td>\n",
              "      <td>Asia</td>\n",
              "      <td>1957</td>\n",
              "      <td>30.332</td>\n",
              "      <td>9240934</td>\n",
              "      <td>820.853030</td>\n",
              "      <td>AFG</td>\n",
              "      <td>4</td>\n",
              "    </tr>\n",
              "    <tr>\n",
              "      <th>2</th>\n",
              "      <td>Afghanistan</td>\n",
              "      <td>Asia</td>\n",
              "      <td>1962</td>\n",
              "      <td>31.997</td>\n",
              "      <td>10267083</td>\n",
              "      <td>853.100710</td>\n",
              "      <td>AFG</td>\n",
              "      <td>4</td>\n",
              "    </tr>\n",
              "    <tr>\n",
              "      <th>3</th>\n",
              "      <td>Afghanistan</td>\n",
              "      <td>Asia</td>\n",
              "      <td>1967</td>\n",
              "      <td>34.020</td>\n",
              "      <td>11537966</td>\n",
              "      <td>836.197138</td>\n",
              "      <td>AFG</td>\n",
              "      <td>4</td>\n",
              "    </tr>\n",
              "    <tr>\n",
              "      <th>4</th>\n",
              "      <td>Afghanistan</td>\n",
              "      <td>Asia</td>\n",
              "      <td>1972</td>\n",
              "      <td>36.088</td>\n",
              "      <td>13079460</td>\n",
              "      <td>739.981106</td>\n",
              "      <td>AFG</td>\n",
              "      <td>4</td>\n",
              "    </tr>\n",
              "  </tbody>\n",
              "</table>\n",
              "</div>\n",
              "      <button class=\"colab-df-convert\" onclick=\"convertToInteractive('df-2f4de015-a9a0-45ba-86cd-e569c17c7eb3')\"\n",
              "              title=\"Convert this dataframe to an interactive table.\"\n",
              "              style=\"display:none;\">\n",
              "        \n",
              "  <svg xmlns=\"http://www.w3.org/2000/svg\" height=\"24px\"viewBox=\"0 0 24 24\"\n",
              "       width=\"24px\">\n",
              "    <path d=\"M0 0h24v24H0V0z\" fill=\"none\"/>\n",
              "    <path d=\"M18.56 5.44l.94 2.06.94-2.06 2.06-.94-2.06-.94-.94-2.06-.94 2.06-2.06.94zm-11 1L8.5 8.5l.94-2.06 2.06-.94-2.06-.94L8.5 2.5l-.94 2.06-2.06.94zm10 10l.94 2.06.94-2.06 2.06-.94-2.06-.94-.94-2.06-.94 2.06-2.06.94z\"/><path d=\"M17.41 7.96l-1.37-1.37c-.4-.4-.92-.59-1.43-.59-.52 0-1.04.2-1.43.59L10.3 9.45l-7.72 7.72c-.78.78-.78 2.05 0 2.83L4 21.41c.39.39.9.59 1.41.59.51 0 1.02-.2 1.41-.59l7.78-7.78 2.81-2.81c.8-.78.8-2.07 0-2.86zM5.41 20L4 18.59l7.72-7.72 1.47 1.35L5.41 20z\"/>\n",
              "  </svg>\n",
              "      </button>\n",
              "      \n",
              "  <style>\n",
              "    .colab-df-container {\n",
              "      display:flex;\n",
              "      flex-wrap:wrap;\n",
              "      gap: 12px;\n",
              "    }\n",
              "\n",
              "    .colab-df-convert {\n",
              "      background-color: #E8F0FE;\n",
              "      border: none;\n",
              "      border-radius: 50%;\n",
              "      cursor: pointer;\n",
              "      display: none;\n",
              "      fill: #1967D2;\n",
              "      height: 32px;\n",
              "      padding: 0 0 0 0;\n",
              "      width: 32px;\n",
              "    }\n",
              "\n",
              "    .colab-df-convert:hover {\n",
              "      background-color: #E2EBFA;\n",
              "      box-shadow: 0px 1px 2px rgba(60, 64, 67, 0.3), 0px 1px 3px 1px rgba(60, 64, 67, 0.15);\n",
              "      fill: #174EA6;\n",
              "    }\n",
              "\n",
              "    [theme=dark] .colab-df-convert {\n",
              "      background-color: #3B4455;\n",
              "      fill: #D2E3FC;\n",
              "    }\n",
              "\n",
              "    [theme=dark] .colab-df-convert:hover {\n",
              "      background-color: #434B5C;\n",
              "      box-shadow: 0px 1px 3px 1px rgba(0, 0, 0, 0.15);\n",
              "      filter: drop-shadow(0px 1px 2px rgba(0, 0, 0, 0.3));\n",
              "      fill: #FFFFFF;\n",
              "    }\n",
              "  </style>\n",
              "\n",
              "      <script>\n",
              "        const buttonEl =\n",
              "          document.querySelector('#df-2f4de015-a9a0-45ba-86cd-e569c17c7eb3 button.colab-df-convert');\n",
              "        buttonEl.style.display =\n",
              "          google.colab.kernel.accessAllowed ? 'block' : 'none';\n",
              "\n",
              "        async function convertToInteractive(key) {\n",
              "          const element = document.querySelector('#df-2f4de015-a9a0-45ba-86cd-e569c17c7eb3');\n",
              "          const dataTable =\n",
              "            await google.colab.kernel.invokeFunction('convertToInteractive',\n",
              "                                                     [key], {});\n",
              "          if (!dataTable) return;\n",
              "\n",
              "          const docLinkHtml = 'Like what you see? Visit the ' +\n",
              "            '<a target=\"_blank\" href=https://colab.research.google.com/notebooks/data_table.ipynb>data table notebook</a>'\n",
              "            + ' to learn more about interactive tables.';\n",
              "          element.innerHTML = '';\n",
              "          dataTable['output_type'] = 'display_data';\n",
              "          await google.colab.output.renderOutput(dataTable, element);\n",
              "          const docLink = document.createElement('div');\n",
              "          docLink.innerHTML = docLinkHtml;\n",
              "          element.appendChild(docLink);\n",
              "        }\n",
              "      </script>\n",
              "    </div>\n",
              "  </div>\n",
              "  "
            ]
          },
          "metadata": {},
          "execution_count": 1
        }
      ],
      "source": [
        "import pandas as pd\n",
        "import io\n",
        "from ipywidgets import widgets\n",
        "from google.colab import output\n",
        "output.enable_custom_widget_manager()\n",
        "\n",
        "df = pd.read_csv('https://raw.githubusercontent.com/brenoslivio/CompVis_ICMC/main/Pratica_03/data/GapMinder.csv')\n",
        "\n",
        "df[\"year\"] = df[\"year\"].astype(\"category\")\n",
        "df[\"country\"] = df[\"country\"].astype(\"category\")\n",
        "df[\"continent\"] = df[\"continent\"].astype(\"category\")\n",
        "\n",
        "df.head(5)"
      ]
    },
    {
      "cell_type": "markdown",
      "id": "f0fd68d1",
      "metadata": {
        "id": "f0fd68d1"
      },
      "source": [
        "### Caixa de texto e Botões"
      ]
    },
    {
      "cell_type": "markdown",
      "id": "9fc5e70a",
      "metadata": {
        "id": "9fc5e70a"
      },
      "source": [
        "- Entrada do usuário\n",
        "- String\n",
        "- Query\n",
        "\n",
        "    - Ações\n",
        "    \n",
        "    - Eventos\n",
        "    \n",
        "```python\n",
        "from ipywidgets import widgets\n",
        "\n",
        "widgets.Text(\n",
        "    value=\"Default\",\n",
        "    placeholder=\"Dica\",\n",
        "    description=\"Tooltip\")\n",
        "\n",
        "widgets.Button(\n",
        "    description=\"Label\",\n",
        "    button_style='',\n",
        "    icon=\"search\",\n",
        "    tooltip=\"\")\n",
        "```\n",
        "\n",
        "Vamos fazer um sistema de busca para verificar o código alpha-3 para um dado país:"
      ]
    },
    {
      "cell_type": "code",
      "execution_count": 2,
      "id": "e6d716ec",
      "metadata": {
        "id": "e6d716ec",
        "outputId": "3efc471c-9b8b-4a25-b824-c7cb4d92164f",
        "colab": {
          "base_uri": "https://localhost:8080/",
          "height": 81,
          "referenced_widgets": [
            "7e928e2f31c34ed9ad6dd8f70bd98595",
            "818153a6f1474de4a4da3bc0b7231b39",
            "8c5be9f9838349ea9592f791b97da451",
            "b9deeff476054439bfb3f5b1ec455e5a",
            "b6472562419f48259767516e6525884a",
            "1405bb233b7a42bd88dd1727b0f5e56c",
            "c4a78e2422d44806a8584c059aa3c54d",
            "db5b56061f5942fe8d9ba19a24934baa",
            "793e9a5c4bc141b6ae13e554a3573dba",
            "5b54218d651f44698bc496e2b78acccf",
            "f5c90148bd324808917d90ecff0b6392",
            "d21caa7cf3924d55af93dc0deb1e5419",
            "8bf0b2bf9ea54393885800fa9646e01e"
          ]
        }
      },
      "outputs": [
        {
          "output_type": "display_data",
          "data": {
            "text/plain": [
              "VBox(children=(HBox(children=(Text(value='', description='Query: ', placeholder=\"Type a country's name\"), Butt…"
            ],
            "application/vnd.jupyter.widget-view+json": {
              "version_major": 2,
              "version_minor": 0,
              "model_id": "7e928e2f31c34ed9ad6dd8f70bd98595"
            }
          },
          "metadata": {
            "application/vnd.jupyter.widget-view+json": {
              "colab": {
                "custom_widget_manager": {
                  "url": "https://ssl.gstatic.com/colaboratory-static/widgets/colab-cdn-widget-manager/d2e234f7cc04bf79/manager.min.js"
                }
              }
            }
          }
        }
      ],
      "source": [
        "wid_query = {\n",
        "    \"query\": widgets.Text(\n",
        "        value=\"\",\n",
        "        placeholder=\"Type a country's name\",\n",
        "        description=\"Query: \",\n",
        "        disabled=False),\n",
        "    \"button\": widgets.Button(\n",
        "        description='Search',\n",
        "        disabled=False,\n",
        "        button_style='', # 'success', 'info', 'warning', 'danger' or ''\n",
        "        icon='search', # (FontAwesome names without the `fa-` prefix)\n",
        "        tooltip='Search for a country'),\n",
        "    \"output\": widgets.Label(value=\"\")}\n",
        "\n",
        "def on_query(button):\n",
        "    wid_query[\"output\"].value = df[df['country'] == wid_query[\"query\"].value]['iso_alpha'].iat[0]\n",
        "    \n",
        "# Eventos\n",
        "wid_query[\"button\"].on_click(on_query)\n",
        "\n",
        "widgets.VBox([\n",
        "    widgets.HBox([wid_query[\"query\"], wid_query[\"button\"]]),\n",
        "    wid_query[\"output\"]])"
      ]
    },
    {
      "cell_type": "markdown",
      "id": "fa37312e",
      "metadata": {
        "id": "fa37312e"
      },
      "source": [
        "### Dropdown"
      ]
    },
    {
      "cell_type": "markdown",
      "id": "cc2f369c",
      "metadata": {
        "id": "cc2f369c"
      },
      "source": [
        "Permite que o usuário selecione um valor dentre um conjunto de opções pré-definidas.\n",
        "\n",
        "```python\n",
        "from ipywidgets import widgets\n",
        "\n",
        "widgets.Dropdown(\n",
        "    options=[Opções],\n",
        "    value=\"Default\",\n",
        "    description=\"Label\")\n",
        "```\n",
        "\n",
        "Baseado no continente, vamos ver o número de países:"
      ]
    },
    {
      "cell_type": "code",
      "execution_count": 3,
      "id": "6bde5fe8",
      "metadata": {
        "id": "6bde5fe8",
        "outputId": "fe4d86a5-018e-4c7d-f933-53241674acac",
        "colab": {
          "base_uri": "https://localhost:8080/",
          "height": 101,
          "referenced_widgets": [
            "851678b040c545ffb656c4007365d303",
            "9da83230f8f74167928a757e360ba65c",
            "5db27f8c76664ba18f2655986729f949",
            "06380a18f3804d73927e0c7f533e0ea5",
            "1bb3ddfe512048e99a1c841396a04d27",
            "c88bcd0bb25c4a77986c625b1333ed87",
            "550b3b79d0b347eebeed4567336b3c81",
            "8dddacced36f4645b12fe402c1689496"
          ]
        }
      },
      "outputs": [
        {
          "output_type": "display_data",
          "data": {
            "text/plain": [
              "VBox(children=(Dropdown(description='Continent', options=('All', 'Asia', 'Europe', 'Africa', 'Americas', 'Ocea…"
            ],
            "application/vnd.jupyter.widget-view+json": {
              "version_major": 2,
              "version_minor": 0,
              "model_id": "851678b040c545ffb656c4007365d303"
            }
          },
          "metadata": {
            "application/vnd.jupyter.widget-view+json": {
              "colab": {
                "custom_widget_manager": {
                  "url": "https://ssl.gstatic.com/colaboratory-static/widgets/colab-cdn-widget-manager/d2e234f7cc04bf79/manager.min.js"
                }
              }
            }
          }
        }
      ],
      "source": [
        "continents = df[\"continent\"].unique().tolist()\n",
        "text = 'Número de países: '\n",
        "\n",
        "wid_continents = {\n",
        "    \"dropdown\": widgets.Dropdown(\n",
        "        options= [\"All\"] + continents,\n",
        "        value=\"All\",\n",
        "        description=\"Continent\",\n",
        "        disabled=False),\n",
        "    \"output\": widgets.Label(value=text + str(df['country'].nunique()))}\n",
        "\n",
        "def select_continent(dropdown):\n",
        "    # Novo valor acessível por dropdown[\"new\"]\n",
        "    # Antigo valor acessível por dropdown[\"old\"]\n",
        "    \n",
        "    wid_continents[\"output\"].value = text + str(df[df['continent'] == dropdown[\"new\"]]['country'].nunique()) \\\n",
        "                                        if dropdown[\"new\"] != \"All\" else text + str(df['country'].nunique()) \n",
        "    \n",
        "# Eventos\n",
        "wid_continents[\"dropdown\"].observe(select_continent, names='value')\n",
        "\n",
        "widgets.VBox([wid_continents[\"dropdown\"], wid_continents[\"output\"]])"
      ]
    },
    {
      "cell_type": "markdown",
      "id": "953ac41f",
      "metadata": {
        "id": "953ac41f"
      },
      "source": [
        "### Slider"
      ]
    },
    {
      "cell_type": "markdown",
      "id": "f0a40c97",
      "metadata": {
        "id": "f0a40c97"
      },
      "source": [
        "Valor flutuante dentro de um intervalo pré-definido.\n",
        "\n",
        "```python\n",
        "from ipywidgets import widgets\n",
        "\n",
        "widgets.IntSlider(\n",
        "    value=5,\n",
        "    min=0,\n",
        "    max=10,\n",
        "    step=1)\n",
        "```\n",
        "\n",
        "Vamos fazer um Slider considerando os anos do dataset Gapminder:"
      ]
    },
    {
      "cell_type": "code",
      "execution_count": 4,
      "id": "3cbe1d12",
      "metadata": {
        "id": "3cbe1d12",
        "outputId": "2c618e4d-dd42-41cd-e10f-38d55830e527",
        "colab": {
          "base_uri": "https://localhost:8080/",
          "height": 69,
          "referenced_widgets": [
            "d32fb72e7e184fd19ba0e9e545c0b237",
            "9525f23e5bee4027878b5f452ddc6589",
            "78fea4b8c50d41e0a9a3f57f2da38be6",
            "d13c1aed42c74bdda383bb5915a7b872",
            "e0eead07c74d4b7ea8c5a1d6e07f6c12",
            "35f3f42b2d594502a8e6fa5b09f6013b",
            "252ed7dfd9c548759f4e32fa20db535b",
            "7d9c9e507f444aeb86ce8905adb608bd"
          ]
        }
      },
      "outputs": [
        {
          "output_type": "display_data",
          "data": {
            "text/plain": [
              "HBox(children=(Play(value=1952, description='Years', interval=500, max=2007, min=1952), IntSlider(value=1952, …"
            ],
            "application/vnd.jupyter.widget-view+json": {
              "version_major": 2,
              "version_minor": 0,
              "model_id": "d32fb72e7e184fd19ba0e9e545c0b237"
            }
          },
          "metadata": {
            "application/vnd.jupyter.widget-view+json": {
              "colab": {
                "custom_widget_manager": {
                  "url": "https://ssl.gstatic.com/colaboratory-static/widgets/colab-cdn-widget-manager/d2e234f7cc04bf79/manager.min.js"
                }
              }
            }
          }
        }
      ],
      "source": [
        "years = df[\"year\"].tolist()\n",
        "\n",
        "wid_years = {\n",
        "    \"play\": widgets.Play(\n",
        "        value=years[0],\n",
        "        min=years[0],\n",
        "        max=years[-1],\n",
        "        step=1,\n",
        "        interval=500,\n",
        "        description=\"Years\",\n",
        "        disabled=False),\n",
        "    \"slider\": widgets.IntSlider(\n",
        "        value=years[0],\n",
        "        min=years[0],\n",
        "        max=years[-1],\n",
        "        step=1)}\n",
        "\n",
        "widgets.jslink((wid_years[\"play\"], 'value'),\n",
        "               (wid_years[\"slider\"], 'value'))\n",
        "\n",
        "widgets.HBox([wid_years[\"play\"], wid_years[\"slider\"]])"
      ]
    },
    {
      "cell_type": "markdown",
      "id": "5a406c76",
      "metadata": {
        "id": "5a406c76"
      },
      "source": [
        "## Layout"
      ]
    },
    {
      "cell_type": "markdown",
      "id": "66072ee2",
      "metadata": {
        "id": "66072ee2"
      },
      "source": [
        "[Documentação: Layout](https://ipywidgets.readthedocs.io/en/latest/examples/Widget%20List.html#Container/Layout-widgets)\n",
        "\n",
        "[Documentação: Templates](https://ipywidgets.readthedocs.io/en/latest/examples/Layout%20Templates.html)"
      ]
    },
    {
      "cell_type": "markdown",
      "id": "871c41dc",
      "metadata": {
        "id": "871c41dc"
      },
      "source": [
        "### Caixas"
      ]
    },
    {
      "cell_type": "markdown",
      "id": "ba2f045c",
      "metadata": {
        "id": "ba2f045c"
      },
      "source": [
        "- Distribuição de elementos sequencialmente\n",
        "- Horizontal ou verticalmente\n",
        "- Aninhamento\n",
        "    - Hierarquias\n",
        "    \n",
        "```python\n",
        "from ipywidgets import widgets\n",
        "\n",
        "# Vertical\n",
        "widgets.VBox([widgets])\n",
        "# Horizontal\n",
        "widgets.HBox([widgets])\n",
        "```\n",
        "    \n",
        "Um exemplo de caixa **horizontal**:"
      ]
    },
    {
      "cell_type": "code",
      "execution_count": 5,
      "id": "5189e1e6",
      "metadata": {
        "id": "5189e1e6",
        "outputId": "c0d78861-1088-4ceb-9dfa-2be305c6edf6",
        "colab": {
          "base_uri": "https://localhost:8080/",
          "height": 69,
          "referenced_widgets": [
            "eb88b9612e60450c8fce054af1a6eef3",
            "0845d5f7f27f4810bc926f3f60f109bc",
            "386492177ca746f086bcd69425aaa4e2",
            "36d46aa769f949b8b9db3aa5aa2a9460",
            "f0de77f335ac41a29b018e743d8ea19a",
            "dded193c7d364374baae9bb07466bb4f",
            "b4f2d4e7203a476f9fa9a960a2e32e23",
            "2b6f593241714a0c8cc212b1b229b807"
          ]
        }
      },
      "outputs": [
        {
          "output_type": "display_data",
          "data": {
            "text/plain": [
              "HBox(children=(Button(description='0', style=ButtonStyle()), Button(description='1', style=ButtonStyle())))"
            ],
            "application/vnd.jupyter.widget-view+json": {
              "version_major": 2,
              "version_minor": 0,
              "model_id": "eb88b9612e60450c8fce054af1a6eef3"
            }
          },
          "metadata": {
            "application/vnd.jupyter.widget-view+json": {
              "colab": {
                "custom_widget_manager": {
                  "url": "https://ssl.gstatic.com/colaboratory-static/widgets/colab-cdn-widget-manager/d2e234f7cc04bf79/manager.min.js"
                }
              }
            }
          }
        }
      ],
      "source": [
        "widgets.HBox([widgets.Button(description=f'{i}') for i in range(2)])"
      ]
    },
    {
      "cell_type": "markdown",
      "id": "941d1a0f",
      "metadata": {
        "id": "941d1a0f"
      },
      "source": [
        "E **vertical**:"
      ]
    },
    {
      "cell_type": "code",
      "execution_count": 6,
      "id": "c5b923de",
      "metadata": {
        "id": "c5b923de",
        "outputId": "678c2eff-bdcd-43d0-802c-f1edc3fb5524",
        "colab": {
          "base_uri": "https://localhost:8080/",
          "height": 101,
          "referenced_widgets": [
            "b5d2cf6acb024b3b8ee862252a86caf3",
            "334aa6d563784673827310c679f7bf29",
            "19324bcbfda349c4bac62311dc6e9be7",
            "ca36a6aa10534e25bec8af9d8ce736bc",
            "f4db3e2fc1114151b95de05bc2b100cb",
            "1b8fc690cc5744f49c86c53b6a7804ee",
            "862c1914dc73470f97042cf2a772382c",
            "57422cbf507f45bab7879aa8adc9a84f"
          ]
        }
      },
      "outputs": [
        {
          "output_type": "display_data",
          "data": {
            "text/plain": [
              "VBox(children=(Button(description='0', style=ButtonStyle()), Button(description='1', style=ButtonStyle())))"
            ],
            "application/vnd.jupyter.widget-view+json": {
              "version_major": 2,
              "version_minor": 0,
              "model_id": "b5d2cf6acb024b3b8ee862252a86caf3"
            }
          },
          "metadata": {
            "application/vnd.jupyter.widget-view+json": {
              "colab": {
                "custom_widget_manager": {
                  "url": "https://ssl.gstatic.com/colaboratory-static/widgets/colab-cdn-widget-manager/d2e234f7cc04bf79/manager.min.js"
                }
              }
            }
          }
        }
      ],
      "source": [
        "widgets.VBox([widgets.Button(description=f'{i}') for i in range(2)])"
      ]
    },
    {
      "cell_type": "markdown",
      "id": "6438ae1b",
      "metadata": {
        "id": "6438ae1b"
      },
      "source": [
        "### Grade"
      ]
    },
    {
      "cell_type": "markdown",
      "id": "f8267504",
      "metadata": {
        "id": "f8267504"
      },
      "source": [
        "- Disposição dos elementos numa matriz\n",
        "- O tamanho de cada elemento é especificado por quantidade de células\n",
        "    - Linhas + Colunas\n",
        "     \n",
        "```python\n",
        "from ipywidgets import GridspecLayout, widgets\n",
        "\n",
        "grid = GridspecLayout(rows, cols)\n",
        "# Adiciona Button na primeira célula\n",
        "grid[0, 0] = widgets.Button()\n",
        "```\n",
        "\n",
        "Vamos criar uma função para retornar um botão dada uma descrição e estilo do botão:"
      ]
    },
    {
      "cell_type": "code",
      "execution_count": 7,
      "id": "e1c3579b",
      "metadata": {
        "id": "e1c3579b"
      },
      "outputs": [],
      "source": [
        "from ipywidgets import GridspecLayout, Layout\n",
        "\n",
        "def create_expanded_button(description, button_style):\n",
        "    return widgets.Button(\n",
        "        description=description,\n",
        "        button_style=button_style,\n",
        "        layout=Layout(height='auto', width='auto'))"
      ]
    },
    {
      "cell_type": "markdown",
      "id": "24b9df82",
      "metadata": {
        "id": "24b9df82"
      },
      "source": [
        "Um exemplo com **células igualmente distribuidas**:"
      ]
    },
    {
      "cell_type": "code",
      "execution_count": 8,
      "id": "4d447029",
      "metadata": {
        "id": "4d447029",
        "outputId": "c8f2dedd-5221-46a9-b958-85a9960e50d5",
        "colab": {
          "base_uri": "https://localhost:8080/",
          "height": 165,
          "referenced_widgets": [
            "4fbb45915c9b441e9e76ca02b3a800eb",
            "c785a48b85ea4a958a6e346cf4517280",
            "edbc88d89bde486abc70b0952efed6db",
            "a2e17aff414040deaf11453ae4099bc6",
            "904098df2c1a49069535930985d271e5",
            "36184254f69140008e0786fb9604d5c9",
            "52d12c33cd0640b5b38aeb6a90ee82c9",
            "b9d44c6f4e9f40b28f6230ab5a684e75",
            "e9188432175544478dd19bbd6b83630d",
            "a66ff7515b064840ac65694f5d71f9a9",
            "f4fa0fb7d79a40bcb1f616dec86ff83d",
            "f58b89bf558f4d5cbc3560c86555035e",
            "4ef46db38c6f4fee952841d5fd8b908f",
            "4c961336c85145e2ba4f129dabdc0464",
            "7d3ef3682ea54735bd0cb529d832dd13",
            "d9643dc1fdac485387f2e1b6dea2f4b1",
            "c393c1085ba34ca199e119628c05c57d",
            "c60672b5080441c4b27dcea7720bd8ce",
            "bc48fc9691f44d1898a39e79253b8c83",
            "ec34c12d0449435a98a56ab7e09a9b81",
            "f3775af8fbbe4151b6b497cdee668ba5",
            "a382221dba314b938ebabbdea1ec356e",
            "986b85922d6a483d85160e8f316af081",
            "03e481db96324c4bade2a976d8a318e2",
            "1c44ee01079846a1950b186a5c4ef376",
            "f6793e5be191456a8371c619a51bd9a4",
            "2daf588665b44cb89cc087a6c6573283",
            "9e3398b58a9145e0b225181753c40ae1",
            "2b078ad33ad144d7a23b1224fd38156e",
            "fb0b4916899548858bb7483075915962",
            "a4d5a1068f1e4065b69f5c9f2451ce3a",
            "ec8a7fdb36174be8bcbb0dc95d9df48a",
            "1c0921806c1b4c0a813fb81e586aeb51",
            "3e67915d706643b0b2cc893baa96e8bf",
            "d8789a21b2b64610a3143fb6bc90e1ae",
            "ab381e09a9d14687ba788e134f346de9",
            "7cece4da742a4ebca461b03aba6995f9",
            "b1a43950fd7f48c28e5a5b5e7959880e"
          ]
        }
      },
      "outputs": [
        {
          "output_type": "display_data",
          "data": {
            "text/plain": [
              "GridspecLayout(children=(Button(button_style='warning', description='Button 0 - 0', layout=Layout(grid_area='w…"
            ],
            "application/vnd.jupyter.widget-view+json": {
              "version_major": 2,
              "version_minor": 0,
              "model_id": "4fbb45915c9b441e9e76ca02b3a800eb"
            }
          },
          "metadata": {
            "application/vnd.jupyter.widget-view+json": {
              "colab": {
                "custom_widget_manager": {
                  "url": "https://ssl.gstatic.com/colaboratory-static/widgets/colab-cdn-widget-manager/d2e234f7cc04bf79/manager.min.js"
                }
              }
            }
          }
        }
      ],
      "source": [
        "grid = GridspecLayout(4, 3)\n",
        "\n",
        "for i in range(4):\n",
        "    for j in range(3):\n",
        "        grid[i, j] = create_expanded_button('Button {} - {}'.format(i, j), 'warning')\n",
        "grid"
      ]
    },
    {
      "cell_type": "markdown",
      "id": "264cec30",
      "metadata": {
        "id": "264cec30"
      },
      "source": [
        "E com **células com proporções diferentes**:"
      ]
    },
    {
      "cell_type": "code",
      "execution_count": 9,
      "id": "40f27dcb",
      "metadata": {
        "id": "40f27dcb",
        "outputId": "86d2132e-d81a-4035-f8ce-fa6300d4f569",
        "colab": {
          "base_uri": "https://localhost:8080/",
          "height": 337,
          "referenced_widgets": [
            "ce2c8723d8ed4181975a2cfb9d450a98",
            "3b1c3152a3bc49bbbcbe85c542e8d73a",
            "6bfd4b8a646f42b390a870d1c20d0f31",
            "e39c67f6df174ad1af09b3ee1751b2e3",
            "6029e292e5c94d76b9f9faa62dca8b8b",
            "90559b4ff5574c4ebc8efd07ca2e4731",
            "71b8028bb8f2411098936a7440527f81",
            "3cb79590475e4e2d95a7fa0f54fcf47f",
            "2b739b252d6d4f5fb77cd113f0071aba",
            "9a6698cb5de845e7a74f206122d86f0f",
            "effd475e6e264ea9a26ec84c0b4da1d7",
            "91774e9979254ba982977f73d0fcd7d9",
            "3407ff01e246470fa0ca355dbcb3d530",
            "11b0d2ee86f04bb3888af58f5e361243"
          ]
        }
      },
      "outputs": [
        {
          "output_type": "display_data",
          "data": {
            "text/plain": [
              "GridspecLayout(children=(Button(button_style='success', description='One', layout=Layout(grid_area='widget001'…"
            ],
            "application/vnd.jupyter.widget-view+json": {
              "version_major": 2,
              "version_minor": 0,
              "model_id": "ce2c8723d8ed4181975a2cfb9d450a98"
            }
          },
          "metadata": {
            "application/vnd.jupyter.widget-view+json": {
              "colab": {
                "custom_widget_manager": {
                  "url": "https://ssl.gstatic.com/colaboratory-static/widgets/colab-cdn-widget-manager/d2e234f7cc04bf79/manager.min.js"
                }
              }
            }
          }
        }
      ],
      "source": [
        "grid = GridspecLayout(4, 3, height='300px')\n",
        "grid[:3, 1:] = create_expanded_button('One', 'success')\n",
        "grid[:, 0] = create_expanded_button('Two', 'info')\n",
        "grid[3, 1] = create_expanded_button('Three', 'warning')\n",
        "grid[3, 2] = create_expanded_button('Four', 'danger')\n",
        "grid"
      ]
    },
    {
      "cell_type": "markdown",
      "id": "0445b2e3",
      "metadata": {
        "id": "0445b2e3"
      },
      "source": [
        "### Accordion"
      ]
    },
    {
      "cell_type": "markdown",
      "id": "7c474a6f",
      "metadata": {
        "id": "7c474a6f"
      },
      "source": [
        "- Contêiner com sistema de seções\n",
        "- Mostra uma seção por vez\n",
        "     - Collapse\n",
        "     \n",
        "```python\n",
        "from ipywidgets import widgets\n",
        "\n",
        "widgets.Accordion([widgets])\n",
        "```"
      ]
    },
    {
      "cell_type": "code",
      "execution_count": 10,
      "id": "c39ea05c",
      "metadata": {
        "id": "c39ea05c",
        "outputId": "5706f1b4-a5a5-4842-9089-e0da814b77c0",
        "colab": {
          "base_uri": "https://localhost:8080/",
          "height": 37,
          "referenced_widgets": [
            "b5b78e81f62e40219d26c81c90800b5d",
            "744a3d45eadc488da2e98be1dff1e5d3",
            "7c76ad50c6864c7797a465b575ca1808",
            "333d15c8869f4adbad7d54345b2a0201",
            "4197cc4ae7c0423883220e2d314c0e88",
            "c47be2a7bf234a87be0530cc98774f69",
            "84342ad8f08845acad41737b13e93269",
            "17ff2f4b4b254573923d00165a274eaa"
          ]
        }
      },
      "outputs": [
        {
          "output_type": "display_data",
          "data": {
            "text/plain": [
              "Accordion(children=(IntSlider(value=0, description='Slider'), Text(value='', description='Text')), _titles={'0…"
            ],
            "application/vnd.jupyter.widget-view+json": {
              "version_major": 2,
              "version_minor": 0,
              "model_id": "b5b78e81f62e40219d26c81c90800b5d"
            }
          },
          "metadata": {
            "application/vnd.jupyter.widget-view+json": {
              "colab": {
                "custom_widget_manager": {
                  "url": "https://ssl.gstatic.com/colaboratory-static/widgets/colab-cdn-widget-manager/d2e234f7cc04bf79/manager.min.js"
                }
              }
            }
          }
        }
      ],
      "source": [
        "accordion = widgets.Accordion([\n",
        "    widgets.IntSlider(description=\"Slider\"),\n",
        "    widgets.Text(description=\"Text\")])\n",
        "\n",
        "for i, title in enumerate(['Slider', 'Text']):\n",
        "    accordion.set_title(i, title)\n",
        "\n",
        "accordion.selected_index = 0\n",
        "accordion"
      ]
    },
    {
      "cell_type": "markdown",
      "id": "4d61ff0e",
      "metadata": {
        "id": "4d61ff0e"
      },
      "source": [
        "### Abas"
      ]
    },
    {
      "cell_type": "markdown",
      "id": "661e60fa",
      "metadata": {
        "id": "661e60fa"
      },
      "source": [
        "- Estrutura de conteiners não ordenados\n",
        "- Mostra uma aba por vez\n",
        "\n",
        "```python\n",
        "from ipywidgets import widgets\n",
        "\n",
        "widgets.Tab([widgets])\n",
        "```"
      ]
    },
    {
      "cell_type": "code",
      "execution_count": 11,
      "id": "37760544",
      "metadata": {
        "id": "37760544",
        "outputId": "9c786a59-e215-4e2f-90e6-9ff1ee1b0414",
        "colab": {
          "base_uri": "https://localhost:8080/",
          "height": 37,
          "referenced_widgets": [
            "99d2a69873ff4e398d03f4f3466e2165",
            "6ca56645f3dc47318342fbfdb7aa9ad8",
            "7af16040e7cf4d89b5b3da6b8b68e058",
            "7a45a0f150344de4acb4654df5ba99e9",
            "c5b1c7bca74140ce9bba0cdcff65e456",
            "76a242f58f4b4b7189e7acef9cd323fd",
            "311efbe3dba04af7b2e8d0e412525322",
            "feb141e3614e43feb18638496446a22c",
            "780c4695e2c146edb69a3437e2405c9f",
            "47c0af503c01446e9fc1c82c10e51580",
            "2f21cba522d943478f16f5ff21fa2e37",
            "cba9454651a9402fb45bbbfc7d9f7107",
            "02dfa1df5cc04185a874cda71965b9e8",
            "656df941b05c4c78bf644600de730705",
            "c4f1e389b5dd409f8de03680c8f4401b",
            "15f7e197ffa6432f8915b020a9e89b53",
            "f91449002ec7454f873c216a60942e42"
          ]
        }
      },
      "outputs": [
        {
          "output_type": "display_data",
          "data": {
            "text/plain": [
              "Tab(children=(Text(value='', description='P0'), Text(value='', description='P1'), Text(value='', description='…"
            ],
            "application/vnd.jupyter.widget-view+json": {
              "version_major": 2,
              "version_minor": 0,
              "model_id": "99d2a69873ff4e398d03f4f3466e2165"
            }
          },
          "metadata": {
            "application/vnd.jupyter.widget-view+json": {
              "colab": {
                "custom_widget_manager": {
                  "url": "https://ssl.gstatic.com/colaboratory-static/widgets/colab-cdn-widget-manager/d2e234f7cc04bf79/manager.min.js"
                }
              }
            }
          }
        }
      ],
      "source": [
        "tab_contents = ['P0', 'P1', 'P2', 'P3', 'P4']\n",
        "\n",
        "tab = widgets.Tab([widgets.Text(description=name) for name in tab_contents])\n",
        "\n",
        "for i in range(len(tab_contents)):\n",
        "    tab.set_title(i, f\"Aba {i}\")\n",
        "\n",
        "tab.selected_index = 1\n",
        "tab"
      ]
    },
    {
      "cell_type": "markdown",
      "id": "faf0f584",
      "metadata": {
        "id": "faf0f584"
      },
      "source": [
        "### Template: AppLayout"
      ]
    },
    {
      "cell_type": "markdown",
      "id": "86499177",
      "metadata": {
        "id": "86499177"
      },
      "source": [
        "- Template com elementos pré-definidos\n",
        "    - Geralmente utilizados em aplicações modernas\n",
        "   \n",
        "- Responsivo\n",
        "\n",
        "```python\n",
        "from ipywidgets import AppLayout\n",
        "\n",
        "AppLayout(\n",
        "    header=header_widget,\n",
        "    left_sidebar=left_widget,\n",
        "    center=center_widget,\n",
        "    right_sidebar=right_widget,\n",
        "    footer=footer_widget)\n",
        "```"
      ]
    },
    {
      "cell_type": "code",
      "execution_count": 12,
      "id": "6e152de2",
      "metadata": {
        "id": "6e152de2",
        "outputId": "18190010-bdba-4508-ede3-6b918dfb6d31",
        "colab": {
          "base_uri": "https://localhost:8080/",
          "height": 337,
          "referenced_widgets": [
            "920f6cd376ab4f6586b31598a0971ebf",
            "e79ed30722eb46ca83ea9d7804006518",
            "af63da3cdcb544daa914a42e316ffcd3",
            "8cb5a20cbec54266808e247f95dff086",
            "ba2d05636c54425cbdd3a717a7e6c77b",
            "a8693126d8e9421c95c865e34f5458e8",
            "f7d765b02e6a46b7beb77ebf00f20343",
            "4b66753cda4f40db92aaac0afa963acd",
            "4006e7bb055342978608b005b730ae75",
            "ae677dfc9239408481ac22c7653da3d2",
            "6dfeb881192944448e120d65d3dbd8cb",
            "f6f0bd3ed4024268870a191a3ef914e8",
            "41e021d4f545413987053252c554934b",
            "428395500eb0434a8d7ff21152a182d9",
            "7150860f95c848c6a2bacb1fe92b407b",
            "346d16bb23684eb09487d3dc80df2082",
            "d3e3d0276c9440fdadd6a9bf514c9f5b"
          ]
        }
      },
      "outputs": [
        {
          "output_type": "display_data",
          "data": {
            "text/plain": [
              "AppLayout(children=(Button(button_style='success', description='Header', layout=Layout(grid_area='header', hei…"
            ],
            "application/vnd.jupyter.widget-view+json": {
              "version_major": 2,
              "version_minor": 0,
              "model_id": "920f6cd376ab4f6586b31598a0971ebf"
            }
          },
          "metadata": {
            "application/vnd.jupyter.widget-view+json": {
              "colab": {
                "custom_widget_manager": {
                  "url": "https://ssl.gstatic.com/colaboratory-static/widgets/colab-cdn-widget-manager/d2e234f7cc04bf79/manager.min.js"
                }
              }
            }
          }
        }
      ],
      "source": [
        "from ipywidgets import AppLayout\n",
        "\n",
        "header_button = create_expanded_button('Header', 'success')\n",
        "left_button = create_expanded_button('Left', 'info')\n",
        "center_button = create_expanded_button('Center', 'warning')\n",
        "right_button = create_expanded_button('Right', 'info')\n",
        "footer_button = create_expanded_button('Footer', 'success')\n",
        "\n",
        "AppLayout(height=\"300px\",\n",
        "    header=header_button,\n",
        "    left_sidebar=left_button,\n",
        "    center=center_button,\n",
        "    right_sidebar=right_button,\n",
        "    footer=footer_button)"
      ]
    },
    {
      "cell_type": "markdown",
      "id": "eb997edb",
      "metadata": {
        "id": "eb997edb"
      },
      "source": [
        "## Técnicas de interação"
      ]
    },
    {
      "cell_type": "markdown",
      "id": "b47a0218",
      "metadata": {
        "id": "b47a0218"
      },
      "source": [
        "Utilizaremos o conjunto de dados Gapminder para demonstrar técnicas de interação por meio de um layout que cada elemento vai empregar uma das técnicas."
      ]
    },
    {
      "cell_type": "code",
      "execution_count": 13,
      "id": "beb20b1f",
      "metadata": {
        "id": "beb20b1f"
      },
      "outputs": [],
      "source": [
        "import plotly.graph_objects as go\n",
        "import plotly.io as pio\n",
        "import numpy as np\n",
        "from ipywidgets import VBox, HBox, widgets\n",
        "import plotly.graph_objs as go\n",
        "import plotly.express as px\n",
        "import pandas as pd\n",
        "\n",
        "class App(object):\n",
        "    \n",
        "    def __init__(self, data: pd.DataFrame):\n",
        "        \n",
        "        self.data = data\n",
        "        \n",
        "        self.years = sorted(data[\"year\"].unique())\n",
        "        self.countries = data[\"country\"].cat.categories.tolist()\n",
        "        self.continents = data[\"continent\"].unique().tolist()\n",
        "        \n",
        "        self.cols = [\"country\", \"iso_alpha\"]\n",
        "        \n",
        "        palette = px.colors.qualitative.Plotly\n",
        "        self.data[\"color\"] = [\n",
        "            palette[self.continents.index(continent)]\n",
        "            for continent in self.data[\"continent\"]]\n",
        "        \n",
        "        self.current_df = self.query(self.data, self.years[0])\n",
        "        \n",
        "        self.selection = self.current_df.copy(deep=True)\n",
        "                        \n",
        "    def show(self):\n",
        "        self.layout = VBox([\n",
        "            self.toolbar,                     # Row 1: Toolbar\n",
        "            self.scatter,                     # Row 2: Scatter plot\n",
        "            HBox([self.table, self.lines])])  # Row 3: Table + Lines\n",
        "\n",
        "        return self.layout\n",
        "    \n",
        "    def query(self, data, year=None, continent=None):\n",
        "        data = data.copy(deep=True)\n",
        "\n",
        "        if year:\n",
        "            data = data.query(\"year == @year\")\n",
        "        if continent:\n",
        "            data = data.query(\"continent == @continent\")\n",
        "\n",
        "        return data\n",
        "\n",
        "app = App(df)"
      ]
    },
    {
      "cell_type": "markdown",
      "id": "779aefa0",
      "metadata": {
        "id": "779aefa0"
      },
      "source": [
        "### Tabela de itens selecionados"
      ]
    },
    {
      "cell_type": "markdown",
      "id": "366489a2",
      "metadata": {
        "id": "366489a2"
      },
      "source": [
        "- Utilizaremos uma tabela dinâmica renderizada pelo plotly\n",
        "- Os elementos da tabela serão atualizados pela interação\n",
        "\n",
        "[Documentação de tabelas no Plotly](https://plotly.com/python/table/)"
      ]
    },
    {
      "cell_type": "code",
      "execution_count": 14,
      "id": "e66765c1",
      "metadata": {
        "id": "e66765c1",
        "outputId": "8873e99e-d29e-456f-dbce-9227089734f8",
        "colab": {
          "base_uri": "https://localhost:8080/",
          "height": 467,
          "referenced_widgets": [
            "a904bbed5abc44dd828e4450d7591282"
          ]
        }
      },
      "outputs": [
        {
          "output_type": "display_data",
          "data": {
            "text/plain": [
              "FigureWidget({\n",
              "    'data': [{'cells': {'align': [left, center],\n",
              "                        'fill': {'color': [['#…"
            ],
            "application/vnd.jupyter.widget-view+json": {
              "version_major": 2,
              "version_minor": 0,
              "model_id": "a904bbed5abc44dd828e4450d7591282"
            }
          },
          "metadata": {
            "application/vnd.jupyter.widget-view+json": {
              "colab": {
                "custom_widget_manager": {
                  "url": "https://ssl.gstatic.com/colaboratory-static/widgets/colab-cdn-widget-manager/d2e234f7cc04bf79/manager.min.js"
                }
              }
            }
          }
        }
      ],
      "source": [
        "app.table = go.FigureWidget(data=[go.Table(\n",
        "    header=dict(\n",
        "        values=[\"País\", \"ISO\"],\n",
        "        line_color=\"white\",\n",
        "        fill_color=\"darkslategray\",\n",
        "        align=\"left\"),\n",
        "    cells=dict(\n",
        "        values=[\n",
        "            app.current_df[\"country\"],\n",
        "            app.current_df[\"iso_alpha\"]],\n",
        "       line_color=\"darkslategray\",\n",
        "       fill_color=[app.data[\"color\"][app.current_df.index]] * 2,\n",
        "       align=[\"left\", \"center\"]))],\n",
        "    layout={\n",
        "        \"width\": 600,\n",
        "        \"margin\": {\"t\": 25, \"b\": 0, \"l\": 0, \"r\": 0}})\n",
        "\n",
        "app.table"
      ]
    },
    {
      "cell_type": "markdown",
      "id": "a41602d3",
      "metadata": {
        "id": "a41602d3"
      },
      "source": [
        "### Gráfico de dispersão"
      ]
    },
    {
      "cell_type": "markdown",
      "id": "e910901c",
      "metadata": {
        "id": "e910901c"
      },
      "source": [
        "- Nossa visão principal é um gráfico de dispersão dos nossos dados, onde:\n",
        "    - X: PIB per capita\n",
        "    - Y: Expectativa de vida\n",
        "    - Tamanho do ponto: População\n",
        "    - Cor: Continente\n",
        "\n",
        "Dessa forma, codificamos 4 variaveis do conjunto de dados em uma única visualização. Porém, a visualização resultante acaba ficando com muitas informações implícitas, exigindo muita carga cognitiva do usuário para analisar todos os 4 mapeamentos visuais de todos os 142 pontos."
      ]
    },
    {
      "cell_type": "markdown",
      "id": "688dbc4c",
      "metadata": {
        "id": "688dbc4c"
      },
      "source": [
        "#### Interação: Hovering"
      ]
    },
    {
      "cell_type": "markdown",
      "id": "61bd9b88",
      "metadata": {
        "id": "61bd9b88"
      },
      "source": [
        "Adicionamos a interação por hovering para fornecer as informações de cada ponto de dados sob demanda, diminuindo a carga cognitiva do usuário de ter que processar visualmente cada um dos mapeamentos visuais para cada ponto de dados.\n",
        "\n",
        "[Documentação de Hovering do Plotly](https://plotly.com/python/hover-text-and-formatting/)"
      ]
    },
    {
      "cell_type": "code",
      "execution_count": 15,
      "id": "63344990",
      "metadata": {
        "id": "63344990",
        "outputId": "2e2b9925-68e7-4ea8-d939-19bf8c0c3a52",
        "colab": {
          "base_uri": "https://localhost:8080/",
          "height": 467,
          "referenced_widgets": [
            "88e3519b94ab44aba3b24c33a79d3c19"
          ]
        }
      },
      "outputs": [
        {
          "output_type": "display_data",
          "data": {
            "text/plain": [
              "FigureWidget({\n",
              "    'data': [{'hovertemplate': ('<b> %{hovertext} </b><br>\\n    ' ... '}<br>\\n    PIB per capit…"
            ],
            "application/vnd.jupyter.widget-view+json": {
              "version_major": 2,
              "version_minor": 0,
              "model_id": "88e3519b94ab44aba3b24c33a79d3c19"
            }
          },
          "metadata": {
            "application/vnd.jupyter.widget-view+json": {
              "colab": {
                "custom_widget_manager": {
                  "url": "https://ssl.gstatic.com/colaboratory-static/widgets/colab-cdn-widget-manager/d2e234f7cc04bf79/manager.min.js"
                }
              }
            }
          }
        }
      ],
      "source": [
        "app.scatter = go.FigureWidget(px.scatter(\n",
        "    x=app.current_df[\"gdpPercap\"], y=app.current_df[\"lifeExp\"],\n",
        "    size=app.current_df[\"pop\"], size_max=55,\n",
        "    log_x=True, range_x=[100,100000], range_y=[25, 90], # diminui a quantidade de espaço vazio\n",
        "    hover_name=app.current_df[\"country\"], \n",
        "    color_discrete_sequence=px.colors.qualitative.Plotly,\n",
        "    color=app.current_df[\"continent\"],\n",
        "    labels={\n",
        "        \"x\": \"PIB per capita\",\n",
        "        \"y\": \"Expectativa de vida\",\n",
        "        \"color\": \"Continente\",\n",
        "        \"size\": \"População\"}))\n",
        "\n",
        "# Formato do popup de hovering\n",
        "## Aceita variaveis dos pontos de dados (p.e. x, y, marker.size)\n",
        "app.scatter.update_traces(\n",
        "    hovertemplate =\n",
        "    '''<b> %{hovertext} </b><br>\n",
        "    População: %{marker.size}<br>\n",
        "    Expectativa de vida: %{y}<br>\n",
        "    PIB per capita: %{x}''')\n",
        "\n",
        "app.scatter.update_layout({\n",
        "    \"margin\": {\n",
        "        \"t\": 60, \"b\": 5, \"l\": 5, \"r\": 5},\n",
        "    \"legend\": {\n",
        "        \"title\": \"\",\n",
        "        \"orientation\": \"h\", \"yanchor\": \"bottom\",\n",
        "        \"y\": 1.02, \"xanchor\": \"right\", \"x\":1}})"
      ]
    },
    {
      "cell_type": "markdown",
      "id": "eaf270ec",
      "metadata": {
        "id": "eaf270ec"
      },
      "source": [
        "### Gráfico de linhas"
      ]
    },
    {
      "cell_type": "markdown",
      "id": "a84f0ce3",
      "metadata": {
        "id": "a84f0ce3"
      },
      "source": [
        "Para adicionar visualizações facetas, utilizamos subplots com eixos compartilhados.\n",
        "\n",
        "Neste componente visual, vamos mapear os valores de 3 colunas do nosso conjunto de dados, agregados à coluna *year*, representando assim uma visualização da evolução destes valores ente 1952 e 2007 em intervalos de 5 anos:\n",
        "\n",
        "* PIB per capita\n",
        "* Expectativa de vida\n",
        "* População"
      ]
    },
    {
      "cell_type": "markdown",
      "id": "b4c55b52",
      "metadata": {
        "id": "b4c55b52"
      },
      "source": [
        "#### Interação: Facets"
      ]
    },
    {
      "cell_type": "markdown",
      "id": "15734340",
      "metadata": {
        "id": "15734340"
      },
      "source": [
        "Cada gráfico de linha pode ser visto como uma faceta do nosso conjunto de dados, pois estes são referentes a um mesmo período de tempo, representado pelo eixo X compartilhado, mas representando perspectivas (atributos) diferentes.\n",
        "\n",
        "[Documentação para subplots no Plotly](https://plotly.com/python/subplots/)"
      ]
    },
    {
      "cell_type": "code",
      "execution_count": 16,
      "id": "86d7c900",
      "metadata": {
        "id": "86d7c900",
        "outputId": "5ae2f346-7432-4017-ade7-c562cb733646",
        "colab": {
          "base_uri": "https://localhost:8080/",
          "height": 17,
          "referenced_widgets": [
            "f293b4eac2f640839a3b0c957eed8683"
          ]
        }
      },
      "outputs": [
        {
          "output_type": "display_data",
          "data": {
            "text/plain": [
              "FigureWidget({\n",
              "    'data': [{'hovertemplate': '<b>%{x}</b>: %{y}',\n",
              "              'marker': {'color': '#636EFA'…"
            ],
            "application/vnd.jupyter.widget-view+json": {
              "version_major": 2,
              "version_minor": 0,
              "model_id": "f293b4eac2f640839a3b0c957eed8683"
            }
          },
          "metadata": {
            "application/vnd.jupyter.widget-view+json": {
              "colab": {
                "custom_widget_manager": {
                  "url": "https://ssl.gstatic.com/colaboratory-static/widgets/colab-cdn-widget-manager/d2e234f7cc04bf79/manager.min.js"
                }
              }
            }
          }
        }
      ],
      "source": [
        "from plotly.subplots import make_subplots\n",
        "\n",
        "rows = [\"lifeExp\", \"gdpPercap\", \"pop\"] # Facetas exploradas\n",
        "\n",
        "app.lines = go.FigureWidget(make_subplots(\n",
        "    shared_xaxes=True,\n",
        "    specs=[[{\"type\": \"scatter\"}],\n",
        "           [{\"type\": \"scatter\"}],\n",
        "           [{\"type\": \"scatter\"}]],\n",
        "    subplot_titles=(\"Expectativa de vida\", \"PIB per capita\", \"População\"),\n",
        "    rows=len(rows), cols=1))\n",
        "\n",
        "for country, country_df in app.data.groupby(\"country\"): # Itera pais por pais\n",
        "    for index, row in enumerate(rows): # Itera por facetas\n",
        "        app.lines.add_trace(\n",
        "            go.Scattergl(mode=\"lines\", # Pela quantidade de entidades (426), usamos Scattergl por ter uma melhor performance\n",
        "                x=country_df[\"year\"],\n",
        "                y=country_df[row],\n",
        "                hovertemplate=\"<b>%{x}</b>: %{y}\",\n",
        "                visible=True,\n",
        "                marker={\n",
        "                    \"color\": app.data[\"color\"][country_df.index[0]],\n",
        "                    \"opacity\": 0.75\n",
        "                }, name=country),\n",
        "            row=index+1, col=1)\n",
        "\n",
        "for i in range(len(rows)):\n",
        "    # Coloca todos os eixos na mesma magnitude\n",
        "    app.lines.update_xaxes(dict(\n",
        "        tickmode = 'array',\n",
        "        tickvals = app.years,\n",
        "        ticktext = app.years), row=i+1, col=1)\n",
        "    \n",
        "app.lines.update_layout({\n",
        "    \"width\": 700,\n",
        "    \"margin\": {\"t\": 50, \"b\": 0, \"l\": 0, \"r\": 0},\n",
        "    \"showlegend\": False})"
      ]
    },
    {
      "cell_type": "markdown",
      "id": "73ff73f2",
      "metadata": {
        "id": "73ff73f2"
      },
      "source": [
        "### Elementos de interface"
      ]
    },
    {
      "cell_type": "markdown",
      "id": "7ae64516",
      "metadata": {
        "id": "7ae64516"
      },
      "source": [
        "Apenas utilizaremos um *Slider* de anos e um *Player* para percorrer o *Slides* automáticamente, realizando assim uma **Dynamic Query**."
      ]
    },
    {
      "cell_type": "code",
      "execution_count": 17,
      "id": "ab9278de",
      "metadata": {
        "id": "ab9278de",
        "outputId": "c6dcfc58-f64b-4a1a-a847-0f630847c2e5",
        "colab": {
          "base_uri": "https://localhost:8080/",
          "height": 49,
          "referenced_widgets": [
            "1291651fa98849c78e7b42436cbaeed4",
            "ff1b11c37638424fb8bd64ad42cba901",
            "4c470423bee341efad7d3e340b158c03",
            "ba03f2c22c7d41ba8fefbaa391d74f3a",
            "3e25ecc5ea7b484f8215c797d9296109",
            "897002d3a21b4f258d97455dc2187341",
            "e5ecc28b25d74413813de6e04a5f74f6",
            "e9f090e597e74c1c953a2df62a0f9773"
          ]
        }
      },
      "outputs": [
        {
          "output_type": "display_data",
          "data": {
            "text/plain": [
              "HBox(children=(Play(value=1952, description=' Ano ', interval=1000, max=2007, min=1952, step=5), IntSlider(val…"
            ],
            "application/vnd.jupyter.widget-view+json": {
              "version_major": 2,
              "version_minor": 0,
              "model_id": "1291651fa98849c78e7b42436cbaeed4"
            }
          },
          "metadata": {
            "application/vnd.jupyter.widget-view+json": {
              "colab": {
                "custom_widget_manager": {
                  "url": "https://ssl.gstatic.com/colaboratory-static/widgets/colab-cdn-widget-manager/d2e234f7cc04bf79/manager.min.js"
                }
              }
            }
          }
        }
      ],
      "source": [
        "app.player = widgets.Play(\n",
        "    value=app.years[0],\n",
        "    min=app.years[0],\n",
        "    max=app.years[-1],\n",
        "    step=5,\n",
        "    interval=1000,\n",
        "    description=\" Ano \",\n",
        "    disabled=False)\n",
        "\n",
        "app.slider = widgets.IntSlider(\n",
        "    value=app.years[0],\n",
        "    min=app.years[0],\n",
        "    max=app.years[-1],\n",
        "    step=5,\n",
        "    description=' Ano ',\n",
        "    disabled=False,\n",
        "    continuous_update=False,\n",
        "    orientation='horizontal',\n",
        "    readout=True,\n",
        "    readout_format='d')\n",
        "\n",
        "app.toolbar = HBox([app.player, app.slider])\n",
        "\n",
        "# Faz o link entre o slider e o player\n",
        "widgets.jslink((app.player, 'value'),\n",
        "               (app.slider, 'value'))\n",
        "\n",
        "app.toolbar"
      ]
    },
    {
      "cell_type": "markdown",
      "id": "76836a1d",
      "metadata": {
        "id": "76836a1d"
      },
      "source": [
        "### Linking and Brushing"
      ]
    },
    {
      "cell_type": "markdown",
      "id": "39201465",
      "metadata": {
        "id": "39201465"
      },
      "source": [
        "Permite que o usuário utilize ferramentas de seleção (*Brushes*) para ressaltar os elementos de seu interesse. Por meio da abordagem de **Linking and Brushing**, o usuário pode fazer seleções de dados em representações visuais mais simples (p.e. um Scatter plot 2D) e visualizar os resultados em representações mais complexas (p.e. uma visualização facetada).\n",
        "\n",
        "No nosso caso, fazemos o link das seleções no Scatter plot à nossa tabela e nossa visualização facetada de linhas.\n",
        "* Scatter plot - Tabela de dados\n",
        "* Scatter plot - Facetas"
      ]
    },
    {
      "cell_type": "code",
      "execution_count": 18,
      "id": "cd528d5a",
      "metadata": {
        "id": "cd528d5a",
        "outputId": "af72b5b3-ad84-45b3-f5c4-8ab99f71c62c",
        "colab": {
          "base_uri": "https://localhost:8080/",
          "height": 17,
          "referenced_widgets": [
            "46815fa4e7544dfe89cdece10f6df7ef",
            "88e3519b94ab44aba3b24c33a79d3c19",
            "5792efc8d9ec4cdfb3e85a7ac4fb988e",
            "b78dbb7c8bb84f36b97b62c18bbfe497",
            "a904bbed5abc44dd828e4450d7591282",
            "f293b4eac2f640839a3b0c957eed8683",
            "574c2c27b87d4cb8a9c3ececde7ee8e9"
          ]
        }
      },
      "outputs": [
        {
          "output_type": "display_data",
          "data": {
            "text/plain": [
              "VBox(children=(FigureWidget({\n",
              "    'data': [{'hovertemplate': ('<b> %{hovertext} </b><br>\\n    ' ... '}<br>\\n  …"
            ],
            "application/vnd.jupyter.widget-view+json": {
              "version_major": 2,
              "version_minor": 0,
              "model_id": "46815fa4e7544dfe89cdece10f6df7ef"
            }
          },
          "metadata": {
            "application/vnd.jupyter.widget-view+json": {
              "colab": {
                "custom_widget_manager": {
                  "url": "https://ssl.gstatic.com/colaboratory-static/widgets/colab-cdn-widget-manager/d2e234f7cc04bf79/manager.min.js"
                }
              }
            }
          }
        }
      ],
      "source": [
        "def on_selection(trace, points, selector=None):\n",
        "    # O método on_deselect tem assinatura (trace, points)\n",
        "    # O método on_select tem assinatura (trace, points, selector)\n",
        "    from plotly.callbacks import BoxSelector\n",
        "    \n",
        "    if selector: # on_select\n",
        "        if type(selector) == BoxSelector: # Evita a seleção por \"Lasso Selection\"\n",
        "            x = selector.xrange # Intervalo selecionado no eixo X\n",
        "            y = selector.yrange # Intervalo selecionado no eixo Y\n",
        "        \n",
        "            app.selection = app.current_df[\n",
        "                (app.current_df['gdpPercap'].between(x[0], x[1], inclusive=True)) &\n",
        "                (app.current_df['lifeExp'].between(y[0], y[1], inclusive=True))]\n",
        "    else: # on_deselect\n",
        "        app.selection = app.current_df\n",
        "        \n",
        "    ## batch_update():\n",
        "    # Finaliza as operações dentro do block \"with\" antes de propagar para os gráficos\n",
        "    with app.table.batch_update():\n",
        "        # Atualiza os valores da tabela\n",
        "        app.table.data[0].cells.values = app.selection[app.cols].T\n",
        "        \n",
        "        # Atualiza as cores das células:\n",
        "        app.table.data[0].cells.fill.color = [app.data[\"color\"][app.selection.index]] * 2 \n",
        "        \n",
        "        # Atualiza o parâmetro \"visible\" de todos os traces\n",
        "        app.lines.plotly_restyle({'visible': [\n",
        "            trace.name in app.selection[\"country\"].tolist()\n",
        "            for trace in app.lines.data]})\n",
        "    \n",
        "app.on_selection = on_selection\n",
        "\n",
        "app.scatter.data[0].on_selection(app.on_selection) # Adiciona a callback para seleção\n",
        "app.scatter.data[0].on_deselect(app.on_selection) # Adiciona a callback para desseleção\n",
        "\n",
        "VBox([\n",
        "    app.scatter,\n",
        "    HBox([app.table, app.lines])])"
      ]
    },
    {
      "cell_type": "markdown",
      "id": "3fb16f04",
      "metadata": {
        "id": "3fb16f04"
      },
      "source": [
        "### Dynamic query"
      ]
    },
    {
      "cell_type": "markdown",
      "id": "f9d5cde7",
      "metadata": {
        "id": "f9d5cde7"
      },
      "source": [
        "* Ligamos o elemento de interface da barra de ferramentas (*Toolbar*) ao nosso gráfico de dispersão\n",
        "\n",
        "O usuário pode interagir com o Slider navegando pelos anos (1952-2007) em passos de 5 anos, sem perder informação entre as iterações. O recurso de animação dos dados permite que as mudanças não sejam drásticas e que possam ser acompanhadas pelo usuário."
      ]
    },
    {
      "cell_type": "code",
      "execution_count": 19,
      "id": "c41a3320",
      "metadata": {
        "id": "c41a3320",
        "outputId": "f22cabc9-1aba-4f7a-c2b9-7c2f21151de7",
        "colab": {
          "base_uri": "https://localhost:8080/",
          "height": 49,
          "referenced_widgets": [
            "108d105b00184979b5ae21de47df9418",
            "1291651fa98849c78e7b42436cbaeed4",
            "88e3519b94ab44aba3b24c33a79d3c19",
            "ef38dfbf94b94c799cef3effd53715e2",
            "ff1b11c37638424fb8bd64ad42cba901",
            "4c470423bee341efad7d3e340b158c03",
            "ba03f2c22c7d41ba8fefbaa391d74f3a",
            "3e25ecc5ea7b484f8215c797d9296109",
            "897002d3a21b4f258d97455dc2187341",
            "e5ecc28b25d74413813de6e04a5f74f6",
            "e9f090e597e74c1c953a2df62a0f9773"
          ]
        }
      },
      "outputs": [
        {
          "output_type": "display_data",
          "data": {
            "text/plain": [
              "VBox(children=(HBox(children=(Play(value=1952, description=' Ano ', interval=1000, max=2007, min=1952, step=5)…"
            ],
            "application/vnd.jupyter.widget-view+json": {
              "version_major": 2,
              "version_minor": 0,
              "model_id": "108d105b00184979b5ae21de47df9418"
            }
          },
          "metadata": {
            "application/vnd.jupyter.widget-view+json": {
              "colab": {
                "custom_widget_manager": {
                  "url": "https://ssl.gstatic.com/colaboratory-static/widgets/colab-cdn-widget-manager/d2e234f7cc04bf79/manager.min.js"
                }
              }
            }
          }
        }
      ],
      "source": [
        "def on_year_change(year):        \n",
        "    app.current_df = app.query(app.data, year=year[\"new\"]) # Query por ano\n",
        "\n",
        "    ## batch_animate():\n",
        "    # Anima as alterações realizadas dentro do block \"with\"\n",
        "    with app.scatter.batch_animate():\n",
        "        for continent_group in app.scatter.data:\n",
        "            continent = continent_group.legendgroup\n",
        "            df_cont = app.query(app.current_df, continent=continent)\n",
        "\n",
        "            continent_group.marker.size = df_cont[\"pop\"]\n",
        "            continent_group.x = df_cont[\"gdpPercap\"]\n",
        "            continent_group.y = df_cont[\"lifeExp\"]\n",
        "\n",
        "app.on_year_change = on_year_change\n",
        "\n",
        "app.slider.observe(app.on_year_change, \"value\")\n",
        "\n",
        "VBox([app.toolbar, app.scatter])"
      ]
    },
    {
      "cell_type": "markdown",
      "id": "e6eb2518",
      "metadata": {
        "id": "e6eb2518"
      },
      "source": [
        "### Resultado"
      ]
    },
    {
      "cell_type": "code",
      "execution_count": 20,
      "id": "1e812abf",
      "metadata": {
        "id": "1e812abf",
        "outputId": "26a81750-b05f-4e73-ae27-27224703eeb1",
        "colab": {
          "base_uri": "https://localhost:8080/",
          "height": 17,
          "referenced_widgets": [
            "cfee8269a7004971bad3e5a97b7d5ef1",
            "1291651fa98849c78e7b42436cbaeed4",
            "88e3519b94ab44aba3b24c33a79d3c19",
            "66ee5cd4f5e94a2a8e1aa6359f886686",
            "01799f7486d64154a0028fdedb755491",
            "ff1b11c37638424fb8bd64ad42cba901",
            "4c470423bee341efad7d3e340b158c03",
            "ba03f2c22c7d41ba8fefbaa391d74f3a",
            "a904bbed5abc44dd828e4450d7591282",
            "f293b4eac2f640839a3b0c957eed8683",
            "430f9fb3977145a8a243f0af0a94b776",
            "3e25ecc5ea7b484f8215c797d9296109",
            "897002d3a21b4f258d97455dc2187341",
            "e5ecc28b25d74413813de6e04a5f74f6",
            "e9f090e597e74c1c953a2df62a0f9773"
          ]
        }
      },
      "outputs": [
        {
          "output_type": "display_data",
          "data": {
            "text/plain": [
              "VBox(children=(HBox(children=(Play(value=1952, description=' Ano ', interval=1000, max=2007, min=1952, step=5)…"
            ],
            "application/vnd.jupyter.widget-view+json": {
              "version_major": 2,
              "version_minor": 0,
              "model_id": "cfee8269a7004971bad3e5a97b7d5ef1"
            }
          },
          "metadata": {
            "application/vnd.jupyter.widget-view+json": {
              "colab": {
                "custom_widget_manager": {
                  "url": "https://ssl.gstatic.com/colaboratory-static/widgets/colab-cdn-widget-manager/d2e234f7cc04bf79/manager.min.js"
                }
              }
            }
          }
        }
      ],
      "source": [
        "app.show()"
      ]
    }
  ],
  "metadata": {
    "kernelspec": {
      "display_name": "Python 3 (ipykernel)",
      "language": "python",
      "name": "python3"
    },
    "language_info": {
      "codemirror_mode": {
        "name": "ipython",
        "version": 3
      },
      "file_extension": ".py",
      "mimetype": "text/x-python",
      "name": "python",
      "nbconvert_exporter": "python",
      "pygments_lexer": "ipython3",
      "version": "3.9.7"
    },
    "vscode": {
      "interpreter": {
        "hash": "b81992fdbbc2f2492ce7427ae934e8a0e829317357e8c190a0902dda284cf392"
      }
    },
    "colab": {
      "provenance": [],
      "toc_visible": true,
      "include_colab_link": true
    },
    "widgets": {
      "application/vnd.jupyter.widget-state+json": {
        "7e928e2f31c34ed9ad6dd8f70bd98595": {
          "model_module": "@jupyter-widgets/controls",
          "model_name": "VBoxModel",
          "model_module_version": "1.5.0",
          "state": {
            "_dom_classes": [],
            "_model_module": "@jupyter-widgets/controls",
            "_model_module_version": "1.5.0",
            "_model_name": "VBoxModel",
            "_view_count": null,
            "_view_module": "@jupyter-widgets/controls",
            "_view_module_version": "1.5.0",
            "_view_name": "VBoxView",
            "box_style": "",
            "children": [
              "IPY_MODEL_818153a6f1474de4a4da3bc0b7231b39",
              "IPY_MODEL_8c5be9f9838349ea9592f791b97da451"
            ],
            "layout": "IPY_MODEL_b9deeff476054439bfb3f5b1ec455e5a"
          }
        },
        "818153a6f1474de4a4da3bc0b7231b39": {
          "model_module": "@jupyter-widgets/controls",
          "model_name": "HBoxModel",
          "model_module_version": "1.5.0",
          "state": {
            "_dom_classes": [],
            "_model_module": "@jupyter-widgets/controls",
            "_model_module_version": "1.5.0",
            "_model_name": "HBoxModel",
            "_view_count": null,
            "_view_module": "@jupyter-widgets/controls",
            "_view_module_version": "1.5.0",
            "_view_name": "HBoxView",
            "box_style": "",
            "children": [
              "IPY_MODEL_b6472562419f48259767516e6525884a",
              "IPY_MODEL_1405bb233b7a42bd88dd1727b0f5e56c"
            ],
            "layout": "IPY_MODEL_c4a78e2422d44806a8584c059aa3c54d"
          }
        },
        "8c5be9f9838349ea9592f791b97da451": {
          "model_module": "@jupyter-widgets/controls",
          "model_name": "LabelModel",
          "model_module_version": "1.5.0",
          "state": {
            "_dom_classes": [],
            "_model_module": "@jupyter-widgets/controls",
            "_model_module_version": "1.5.0",
            "_model_name": "LabelModel",
            "_view_count": null,
            "_view_module": "@jupyter-widgets/controls",
            "_view_module_version": "1.5.0",
            "_view_name": "LabelView",
            "description": "",
            "description_tooltip": null,
            "layout": "IPY_MODEL_db5b56061f5942fe8d9ba19a24934baa",
            "placeholder": "​",
            "style": "IPY_MODEL_793e9a5c4bc141b6ae13e554a3573dba",
            "value": ""
          }
        },
        "b9deeff476054439bfb3f5b1ec455e5a": {
          "model_module": "@jupyter-widgets/base",
          "model_name": "LayoutModel",
          "model_module_version": "1.2.0",
          "state": {
            "_model_module": "@jupyter-widgets/base",
            "_model_module_version": "1.2.0",
            "_model_name": "LayoutModel",
            "_view_count": null,
            "_view_module": "@jupyter-widgets/base",
            "_view_module_version": "1.2.0",
            "_view_name": "LayoutView",
            "align_content": null,
            "align_items": null,
            "align_self": null,
            "border": null,
            "bottom": null,
            "display": null,
            "flex": null,
            "flex_flow": null,
            "grid_area": null,
            "grid_auto_columns": null,
            "grid_auto_flow": null,
            "grid_auto_rows": null,
            "grid_column": null,
            "grid_gap": null,
            "grid_row": null,
            "grid_template_areas": null,
            "grid_template_columns": null,
            "grid_template_rows": null,
            "height": null,
            "justify_content": null,
            "justify_items": null,
            "left": null,
            "margin": null,
            "max_height": null,
            "max_width": null,
            "min_height": null,
            "min_width": null,
            "object_fit": null,
            "object_position": null,
            "order": null,
            "overflow": null,
            "overflow_x": null,
            "overflow_y": null,
            "padding": null,
            "right": null,
            "top": null,
            "visibility": null,
            "width": null
          }
        },
        "b6472562419f48259767516e6525884a": {
          "model_module": "@jupyter-widgets/controls",
          "model_name": "TextModel",
          "model_module_version": "1.5.0",
          "state": {
            "_dom_classes": [],
            "_model_module": "@jupyter-widgets/controls",
            "_model_module_version": "1.5.0",
            "_model_name": "TextModel",
            "_view_count": null,
            "_view_module": "@jupyter-widgets/controls",
            "_view_module_version": "1.5.0",
            "_view_name": "TextView",
            "continuous_update": true,
            "description": "Query: ",
            "description_tooltip": null,
            "disabled": false,
            "layout": "IPY_MODEL_5b54218d651f44698bc496e2b78acccf",
            "placeholder": "Type a country's name",
            "style": "IPY_MODEL_f5c90148bd324808917d90ecff0b6392",
            "value": ""
          }
        },
        "1405bb233b7a42bd88dd1727b0f5e56c": {
          "model_module": "@jupyter-widgets/controls",
          "model_name": "ButtonModel",
          "model_module_version": "1.5.0",
          "state": {
            "_dom_classes": [],
            "_model_module": "@jupyter-widgets/controls",
            "_model_module_version": "1.5.0",
            "_model_name": "ButtonModel",
            "_view_count": null,
            "_view_module": "@jupyter-widgets/controls",
            "_view_module_version": "1.5.0",
            "_view_name": "ButtonView",
            "button_style": "",
            "description": "Search",
            "disabled": false,
            "icon": "search",
            "layout": "IPY_MODEL_d21caa7cf3924d55af93dc0deb1e5419",
            "style": "IPY_MODEL_8bf0b2bf9ea54393885800fa9646e01e",
            "tooltip": "Search for a country"
          }
        },
        "c4a78e2422d44806a8584c059aa3c54d": {
          "model_module": "@jupyter-widgets/base",
          "model_name": "LayoutModel",
          "model_module_version": "1.2.0",
          "state": {
            "_model_module": "@jupyter-widgets/base",
            "_model_module_version": "1.2.0",
            "_model_name": "LayoutModel",
            "_view_count": null,
            "_view_module": "@jupyter-widgets/base",
            "_view_module_version": "1.2.0",
            "_view_name": "LayoutView",
            "align_content": null,
            "align_items": null,
            "align_self": null,
            "border": null,
            "bottom": null,
            "display": null,
            "flex": null,
            "flex_flow": null,
            "grid_area": null,
            "grid_auto_columns": null,
            "grid_auto_flow": null,
            "grid_auto_rows": null,
            "grid_column": null,
            "grid_gap": null,
            "grid_row": null,
            "grid_template_areas": null,
            "grid_template_columns": null,
            "grid_template_rows": null,
            "height": null,
            "justify_content": null,
            "justify_items": null,
            "left": null,
            "margin": null,
            "max_height": null,
            "max_width": null,
            "min_height": null,
            "min_width": null,
            "object_fit": null,
            "object_position": null,
            "order": null,
            "overflow": null,
            "overflow_x": null,
            "overflow_y": null,
            "padding": null,
            "right": null,
            "top": null,
            "visibility": null,
            "width": null
          }
        },
        "db5b56061f5942fe8d9ba19a24934baa": {
          "model_module": "@jupyter-widgets/base",
          "model_name": "LayoutModel",
          "model_module_version": "1.2.0",
          "state": {
            "_model_module": "@jupyter-widgets/base",
            "_model_module_version": "1.2.0",
            "_model_name": "LayoutModel",
            "_view_count": null,
            "_view_module": "@jupyter-widgets/base",
            "_view_module_version": "1.2.0",
            "_view_name": "LayoutView",
            "align_content": null,
            "align_items": null,
            "align_self": null,
            "border": null,
            "bottom": null,
            "display": null,
            "flex": null,
            "flex_flow": null,
            "grid_area": null,
            "grid_auto_columns": null,
            "grid_auto_flow": null,
            "grid_auto_rows": null,
            "grid_column": null,
            "grid_gap": null,
            "grid_row": null,
            "grid_template_areas": null,
            "grid_template_columns": null,
            "grid_template_rows": null,
            "height": null,
            "justify_content": null,
            "justify_items": null,
            "left": null,
            "margin": null,
            "max_height": null,
            "max_width": null,
            "min_height": null,
            "min_width": null,
            "object_fit": null,
            "object_position": null,
            "order": null,
            "overflow": null,
            "overflow_x": null,
            "overflow_y": null,
            "padding": null,
            "right": null,
            "top": null,
            "visibility": null,
            "width": null
          }
        },
        "793e9a5c4bc141b6ae13e554a3573dba": {
          "model_module": "@jupyter-widgets/controls",
          "model_name": "DescriptionStyleModel",
          "model_module_version": "1.5.0",
          "state": {
            "_model_module": "@jupyter-widgets/controls",
            "_model_module_version": "1.5.0",
            "_model_name": "DescriptionStyleModel",
            "_view_count": null,
            "_view_module": "@jupyter-widgets/base",
            "_view_module_version": "1.2.0",
            "_view_name": "StyleView",
            "description_width": ""
          }
        },
        "5b54218d651f44698bc496e2b78acccf": {
          "model_module": "@jupyter-widgets/base",
          "model_name": "LayoutModel",
          "model_module_version": "1.2.0",
          "state": {
            "_model_module": "@jupyter-widgets/base",
            "_model_module_version": "1.2.0",
            "_model_name": "LayoutModel",
            "_view_count": null,
            "_view_module": "@jupyter-widgets/base",
            "_view_module_version": "1.2.0",
            "_view_name": "LayoutView",
            "align_content": null,
            "align_items": null,
            "align_self": null,
            "border": null,
            "bottom": null,
            "display": null,
            "flex": null,
            "flex_flow": null,
            "grid_area": null,
            "grid_auto_columns": null,
            "grid_auto_flow": null,
            "grid_auto_rows": null,
            "grid_column": null,
            "grid_gap": null,
            "grid_row": null,
            "grid_template_areas": null,
            "grid_template_columns": null,
            "grid_template_rows": null,
            "height": null,
            "justify_content": null,
            "justify_items": null,
            "left": null,
            "margin": null,
            "max_height": null,
            "max_width": null,
            "min_height": null,
            "min_width": null,
            "object_fit": null,
            "object_position": null,
            "order": null,
            "overflow": null,
            "overflow_x": null,
            "overflow_y": null,
            "padding": null,
            "right": null,
            "top": null,
            "visibility": null,
            "width": null
          }
        },
        "f5c90148bd324808917d90ecff0b6392": {
          "model_module": "@jupyter-widgets/controls",
          "model_name": "DescriptionStyleModel",
          "model_module_version": "1.5.0",
          "state": {
            "_model_module": "@jupyter-widgets/controls",
            "_model_module_version": "1.5.0",
            "_model_name": "DescriptionStyleModel",
            "_view_count": null,
            "_view_module": "@jupyter-widgets/base",
            "_view_module_version": "1.2.0",
            "_view_name": "StyleView",
            "description_width": ""
          }
        },
        "d21caa7cf3924d55af93dc0deb1e5419": {
          "model_module": "@jupyter-widgets/base",
          "model_name": "LayoutModel",
          "model_module_version": "1.2.0",
          "state": {
            "_model_module": "@jupyter-widgets/base",
            "_model_module_version": "1.2.0",
            "_model_name": "LayoutModel",
            "_view_count": null,
            "_view_module": "@jupyter-widgets/base",
            "_view_module_version": "1.2.0",
            "_view_name": "LayoutView",
            "align_content": null,
            "align_items": null,
            "align_self": null,
            "border": null,
            "bottom": null,
            "display": null,
            "flex": null,
            "flex_flow": null,
            "grid_area": null,
            "grid_auto_columns": null,
            "grid_auto_flow": null,
            "grid_auto_rows": null,
            "grid_column": null,
            "grid_gap": null,
            "grid_row": null,
            "grid_template_areas": null,
            "grid_template_columns": null,
            "grid_template_rows": null,
            "height": null,
            "justify_content": null,
            "justify_items": null,
            "left": null,
            "margin": null,
            "max_height": null,
            "max_width": null,
            "min_height": null,
            "min_width": null,
            "object_fit": null,
            "object_position": null,
            "order": null,
            "overflow": null,
            "overflow_x": null,
            "overflow_y": null,
            "padding": null,
            "right": null,
            "top": null,
            "visibility": null,
            "width": null
          }
        },
        "8bf0b2bf9ea54393885800fa9646e01e": {
          "model_module": "@jupyter-widgets/controls",
          "model_name": "ButtonStyleModel",
          "model_module_version": "1.5.0",
          "state": {
            "_model_module": "@jupyter-widgets/controls",
            "_model_module_version": "1.5.0",
            "_model_name": "ButtonStyleModel",
            "_view_count": null,
            "_view_module": "@jupyter-widgets/base",
            "_view_module_version": "1.2.0",
            "_view_name": "StyleView",
            "button_color": null,
            "font_weight": ""
          }
        },
        "851678b040c545ffb656c4007365d303": {
          "model_module": "@jupyter-widgets/controls",
          "model_name": "VBoxModel",
          "model_module_version": "1.5.0",
          "state": {
            "_dom_classes": [],
            "_model_module": "@jupyter-widgets/controls",
            "_model_module_version": "1.5.0",
            "_model_name": "VBoxModel",
            "_view_count": null,
            "_view_module": "@jupyter-widgets/controls",
            "_view_module_version": "1.5.0",
            "_view_name": "VBoxView",
            "box_style": "",
            "children": [
              "IPY_MODEL_9da83230f8f74167928a757e360ba65c",
              "IPY_MODEL_5db27f8c76664ba18f2655986729f949"
            ],
            "layout": "IPY_MODEL_06380a18f3804d73927e0c7f533e0ea5"
          }
        },
        "9da83230f8f74167928a757e360ba65c": {
          "model_module": "@jupyter-widgets/controls",
          "model_name": "DropdownModel",
          "model_module_version": "1.5.0",
          "state": {
            "_dom_classes": [],
            "_model_module": "@jupyter-widgets/controls",
            "_model_module_version": "1.5.0",
            "_model_name": "DropdownModel",
            "_options_labels": [
              "All",
              "Asia",
              "Europe",
              "Africa",
              "Americas",
              "Oceania"
            ],
            "_view_count": null,
            "_view_module": "@jupyter-widgets/controls",
            "_view_module_version": "1.5.0",
            "_view_name": "DropdownView",
            "description": "Continent",
            "description_tooltip": null,
            "disabled": false,
            "index": 0,
            "layout": "IPY_MODEL_1bb3ddfe512048e99a1c841396a04d27",
            "style": "IPY_MODEL_c88bcd0bb25c4a77986c625b1333ed87"
          }
        },
        "5db27f8c76664ba18f2655986729f949": {
          "model_module": "@jupyter-widgets/controls",
          "model_name": "LabelModel",
          "model_module_version": "1.5.0",
          "state": {
            "_dom_classes": [],
            "_model_module": "@jupyter-widgets/controls",
            "_model_module_version": "1.5.0",
            "_model_name": "LabelModel",
            "_view_count": null,
            "_view_module": "@jupyter-widgets/controls",
            "_view_module_version": "1.5.0",
            "_view_name": "LabelView",
            "description": "",
            "description_tooltip": null,
            "layout": "IPY_MODEL_550b3b79d0b347eebeed4567336b3c81",
            "placeholder": "​",
            "style": "IPY_MODEL_8dddacced36f4645b12fe402c1689496",
            "value": "Número de países: 142"
          }
        },
        "06380a18f3804d73927e0c7f533e0ea5": {
          "model_module": "@jupyter-widgets/base",
          "model_name": "LayoutModel",
          "model_module_version": "1.2.0",
          "state": {
            "_model_module": "@jupyter-widgets/base",
            "_model_module_version": "1.2.0",
            "_model_name": "LayoutModel",
            "_view_count": null,
            "_view_module": "@jupyter-widgets/base",
            "_view_module_version": "1.2.0",
            "_view_name": "LayoutView",
            "align_content": null,
            "align_items": null,
            "align_self": null,
            "border": null,
            "bottom": null,
            "display": null,
            "flex": null,
            "flex_flow": null,
            "grid_area": null,
            "grid_auto_columns": null,
            "grid_auto_flow": null,
            "grid_auto_rows": null,
            "grid_column": null,
            "grid_gap": null,
            "grid_row": null,
            "grid_template_areas": null,
            "grid_template_columns": null,
            "grid_template_rows": null,
            "height": null,
            "justify_content": null,
            "justify_items": null,
            "left": null,
            "margin": null,
            "max_height": null,
            "max_width": null,
            "min_height": null,
            "min_width": null,
            "object_fit": null,
            "object_position": null,
            "order": null,
            "overflow": null,
            "overflow_x": null,
            "overflow_y": null,
            "padding": null,
            "right": null,
            "top": null,
            "visibility": null,
            "width": null
          }
        },
        "1bb3ddfe512048e99a1c841396a04d27": {
          "model_module": "@jupyter-widgets/base",
          "model_name": "LayoutModel",
          "model_module_version": "1.2.0",
          "state": {
            "_model_module": "@jupyter-widgets/base",
            "_model_module_version": "1.2.0",
            "_model_name": "LayoutModel",
            "_view_count": null,
            "_view_module": "@jupyter-widgets/base",
            "_view_module_version": "1.2.0",
            "_view_name": "LayoutView",
            "align_content": null,
            "align_items": null,
            "align_self": null,
            "border": null,
            "bottom": null,
            "display": null,
            "flex": null,
            "flex_flow": null,
            "grid_area": null,
            "grid_auto_columns": null,
            "grid_auto_flow": null,
            "grid_auto_rows": null,
            "grid_column": null,
            "grid_gap": null,
            "grid_row": null,
            "grid_template_areas": null,
            "grid_template_columns": null,
            "grid_template_rows": null,
            "height": null,
            "justify_content": null,
            "justify_items": null,
            "left": null,
            "margin": null,
            "max_height": null,
            "max_width": null,
            "min_height": null,
            "min_width": null,
            "object_fit": null,
            "object_position": null,
            "order": null,
            "overflow": null,
            "overflow_x": null,
            "overflow_y": null,
            "padding": null,
            "right": null,
            "top": null,
            "visibility": null,
            "width": null
          }
        },
        "c88bcd0bb25c4a77986c625b1333ed87": {
          "model_module": "@jupyter-widgets/controls",
          "model_name": "DescriptionStyleModel",
          "model_module_version": "1.5.0",
          "state": {
            "_model_module": "@jupyter-widgets/controls",
            "_model_module_version": "1.5.0",
            "_model_name": "DescriptionStyleModel",
            "_view_count": null,
            "_view_module": "@jupyter-widgets/base",
            "_view_module_version": "1.2.0",
            "_view_name": "StyleView",
            "description_width": ""
          }
        },
        "550b3b79d0b347eebeed4567336b3c81": {
          "model_module": "@jupyter-widgets/base",
          "model_name": "LayoutModel",
          "model_module_version": "1.2.0",
          "state": {
            "_model_module": "@jupyter-widgets/base",
            "_model_module_version": "1.2.0",
            "_model_name": "LayoutModel",
            "_view_count": null,
            "_view_module": "@jupyter-widgets/base",
            "_view_module_version": "1.2.0",
            "_view_name": "LayoutView",
            "align_content": null,
            "align_items": null,
            "align_self": null,
            "border": null,
            "bottom": null,
            "display": null,
            "flex": null,
            "flex_flow": null,
            "grid_area": null,
            "grid_auto_columns": null,
            "grid_auto_flow": null,
            "grid_auto_rows": null,
            "grid_column": null,
            "grid_gap": null,
            "grid_row": null,
            "grid_template_areas": null,
            "grid_template_columns": null,
            "grid_template_rows": null,
            "height": null,
            "justify_content": null,
            "justify_items": null,
            "left": null,
            "margin": null,
            "max_height": null,
            "max_width": null,
            "min_height": null,
            "min_width": null,
            "object_fit": null,
            "object_position": null,
            "order": null,
            "overflow": null,
            "overflow_x": null,
            "overflow_y": null,
            "padding": null,
            "right": null,
            "top": null,
            "visibility": null,
            "width": null
          }
        },
        "8dddacced36f4645b12fe402c1689496": {
          "model_module": "@jupyter-widgets/controls",
          "model_name": "DescriptionStyleModel",
          "model_module_version": "1.5.0",
          "state": {
            "_model_module": "@jupyter-widgets/controls",
            "_model_module_version": "1.5.0",
            "_model_name": "DescriptionStyleModel",
            "_view_count": null,
            "_view_module": "@jupyter-widgets/base",
            "_view_module_version": "1.2.0",
            "_view_name": "StyleView",
            "description_width": ""
          }
        },
        "d32fb72e7e184fd19ba0e9e545c0b237": {
          "model_module": "@jupyter-widgets/controls",
          "model_name": "HBoxModel",
          "model_module_version": "1.5.0",
          "state": {
            "_dom_classes": [],
            "_model_module": "@jupyter-widgets/controls",
            "_model_module_version": "1.5.0",
            "_model_name": "HBoxModel",
            "_view_count": null,
            "_view_module": "@jupyter-widgets/controls",
            "_view_module_version": "1.5.0",
            "_view_name": "HBoxView",
            "box_style": "",
            "children": [
              "IPY_MODEL_9525f23e5bee4027878b5f452ddc6589",
              "IPY_MODEL_78fea4b8c50d41e0a9a3f57f2da38be6"
            ],
            "layout": "IPY_MODEL_d13c1aed42c74bdda383bb5915a7b872"
          }
        },
        "9525f23e5bee4027878b5f452ddc6589": {
          "model_module": "@jupyter-widgets/controls",
          "model_name": "PlayModel",
          "model_module_version": "1.5.0",
          "state": {
            "_dom_classes": [],
            "_model_module": "@jupyter-widgets/controls",
            "_model_module_version": "1.5.0",
            "_model_name": "PlayModel",
            "_playing": false,
            "_repeat": false,
            "_view_count": null,
            "_view_module": "@jupyter-widgets/controls",
            "_view_module_version": "1.5.0",
            "_view_name": "PlayView",
            "description": "Years",
            "description_tooltip": null,
            "disabled": false,
            "interval": 500,
            "layout": "IPY_MODEL_e0eead07c74d4b7ea8c5a1d6e07f6c12",
            "max": 2007,
            "min": 1952,
            "show_repeat": true,
            "step": 1,
            "style": "IPY_MODEL_35f3f42b2d594502a8e6fa5b09f6013b",
            "value": 1952
          }
        },
        "78fea4b8c50d41e0a9a3f57f2da38be6": {
          "model_module": "@jupyter-widgets/controls",
          "model_name": "IntSliderModel",
          "model_module_version": "1.5.0",
          "state": {
            "_dom_classes": [],
            "_model_module": "@jupyter-widgets/controls",
            "_model_module_version": "1.5.0",
            "_model_name": "IntSliderModel",
            "_view_count": null,
            "_view_module": "@jupyter-widgets/controls",
            "_view_module_version": "1.5.0",
            "_view_name": "IntSliderView",
            "continuous_update": true,
            "description": "",
            "description_tooltip": null,
            "disabled": false,
            "layout": "IPY_MODEL_252ed7dfd9c548759f4e32fa20db535b",
            "max": 2007,
            "min": 1952,
            "orientation": "horizontal",
            "readout": true,
            "readout_format": "d",
            "step": 1,
            "style": "IPY_MODEL_7d9c9e507f444aeb86ce8905adb608bd",
            "value": 1952
          }
        },
        "d13c1aed42c74bdda383bb5915a7b872": {
          "model_module": "@jupyter-widgets/base",
          "model_name": "LayoutModel",
          "model_module_version": "1.2.0",
          "state": {
            "_model_module": "@jupyter-widgets/base",
            "_model_module_version": "1.2.0",
            "_model_name": "LayoutModel",
            "_view_count": null,
            "_view_module": "@jupyter-widgets/base",
            "_view_module_version": "1.2.0",
            "_view_name": "LayoutView",
            "align_content": null,
            "align_items": null,
            "align_self": null,
            "border": null,
            "bottom": null,
            "display": null,
            "flex": null,
            "flex_flow": null,
            "grid_area": null,
            "grid_auto_columns": null,
            "grid_auto_flow": null,
            "grid_auto_rows": null,
            "grid_column": null,
            "grid_gap": null,
            "grid_row": null,
            "grid_template_areas": null,
            "grid_template_columns": null,
            "grid_template_rows": null,
            "height": null,
            "justify_content": null,
            "justify_items": null,
            "left": null,
            "margin": null,
            "max_height": null,
            "max_width": null,
            "min_height": null,
            "min_width": null,
            "object_fit": null,
            "object_position": null,
            "order": null,
            "overflow": null,
            "overflow_x": null,
            "overflow_y": null,
            "padding": null,
            "right": null,
            "top": null,
            "visibility": null,
            "width": null
          }
        },
        "e0eead07c74d4b7ea8c5a1d6e07f6c12": {
          "model_module": "@jupyter-widgets/base",
          "model_name": "LayoutModel",
          "model_module_version": "1.2.0",
          "state": {
            "_model_module": "@jupyter-widgets/base",
            "_model_module_version": "1.2.0",
            "_model_name": "LayoutModel",
            "_view_count": null,
            "_view_module": "@jupyter-widgets/base",
            "_view_module_version": "1.2.0",
            "_view_name": "LayoutView",
            "align_content": null,
            "align_items": null,
            "align_self": null,
            "border": null,
            "bottom": null,
            "display": null,
            "flex": null,
            "flex_flow": null,
            "grid_area": null,
            "grid_auto_columns": null,
            "grid_auto_flow": null,
            "grid_auto_rows": null,
            "grid_column": null,
            "grid_gap": null,
            "grid_row": null,
            "grid_template_areas": null,
            "grid_template_columns": null,
            "grid_template_rows": null,
            "height": null,
            "justify_content": null,
            "justify_items": null,
            "left": null,
            "margin": null,
            "max_height": null,
            "max_width": null,
            "min_height": null,
            "min_width": null,
            "object_fit": null,
            "object_position": null,
            "order": null,
            "overflow": null,
            "overflow_x": null,
            "overflow_y": null,
            "padding": null,
            "right": null,
            "top": null,
            "visibility": null,
            "width": null
          }
        },
        "35f3f42b2d594502a8e6fa5b09f6013b": {
          "model_module": "@jupyter-widgets/controls",
          "model_name": "DescriptionStyleModel",
          "model_module_version": "1.5.0",
          "state": {
            "_model_module": "@jupyter-widgets/controls",
            "_model_module_version": "1.5.0",
            "_model_name": "DescriptionStyleModel",
            "_view_count": null,
            "_view_module": "@jupyter-widgets/base",
            "_view_module_version": "1.2.0",
            "_view_name": "StyleView",
            "description_width": ""
          }
        },
        "252ed7dfd9c548759f4e32fa20db535b": {
          "model_module": "@jupyter-widgets/base",
          "model_name": "LayoutModel",
          "model_module_version": "1.2.0",
          "state": {
            "_model_module": "@jupyter-widgets/base",
            "_model_module_version": "1.2.0",
            "_model_name": "LayoutModel",
            "_view_count": null,
            "_view_module": "@jupyter-widgets/base",
            "_view_module_version": "1.2.0",
            "_view_name": "LayoutView",
            "align_content": null,
            "align_items": null,
            "align_self": null,
            "border": null,
            "bottom": null,
            "display": null,
            "flex": null,
            "flex_flow": null,
            "grid_area": null,
            "grid_auto_columns": null,
            "grid_auto_flow": null,
            "grid_auto_rows": null,
            "grid_column": null,
            "grid_gap": null,
            "grid_row": null,
            "grid_template_areas": null,
            "grid_template_columns": null,
            "grid_template_rows": null,
            "height": null,
            "justify_content": null,
            "justify_items": null,
            "left": null,
            "margin": null,
            "max_height": null,
            "max_width": null,
            "min_height": null,
            "min_width": null,
            "object_fit": null,
            "object_position": null,
            "order": null,
            "overflow": null,
            "overflow_x": null,
            "overflow_y": null,
            "padding": null,
            "right": null,
            "top": null,
            "visibility": null,
            "width": null
          }
        },
        "7d9c9e507f444aeb86ce8905adb608bd": {
          "model_module": "@jupyter-widgets/controls",
          "model_name": "SliderStyleModel",
          "model_module_version": "1.5.0",
          "state": {
            "_model_module": "@jupyter-widgets/controls",
            "_model_module_version": "1.5.0",
            "_model_name": "SliderStyleModel",
            "_view_count": null,
            "_view_module": "@jupyter-widgets/base",
            "_view_module_version": "1.2.0",
            "_view_name": "StyleView",
            "description_width": "",
            "handle_color": null
          }
        },
        "eb88b9612e60450c8fce054af1a6eef3": {
          "model_module": "@jupyter-widgets/controls",
          "model_name": "HBoxModel",
          "model_module_version": "1.5.0",
          "state": {
            "_dom_classes": [],
            "_model_module": "@jupyter-widgets/controls",
            "_model_module_version": "1.5.0",
            "_model_name": "HBoxModel",
            "_view_count": null,
            "_view_module": "@jupyter-widgets/controls",
            "_view_module_version": "1.5.0",
            "_view_name": "HBoxView",
            "box_style": "",
            "children": [
              "IPY_MODEL_0845d5f7f27f4810bc926f3f60f109bc",
              "IPY_MODEL_386492177ca746f086bcd69425aaa4e2"
            ],
            "layout": "IPY_MODEL_36d46aa769f949b8b9db3aa5aa2a9460"
          }
        },
        "0845d5f7f27f4810bc926f3f60f109bc": {
          "model_module": "@jupyter-widgets/controls",
          "model_name": "ButtonModel",
          "model_module_version": "1.5.0",
          "state": {
            "_dom_classes": [],
            "_model_module": "@jupyter-widgets/controls",
            "_model_module_version": "1.5.0",
            "_model_name": "ButtonModel",
            "_view_count": null,
            "_view_module": "@jupyter-widgets/controls",
            "_view_module_version": "1.5.0",
            "_view_name": "ButtonView",
            "button_style": "",
            "description": "0",
            "disabled": false,
            "icon": "",
            "layout": "IPY_MODEL_f0de77f335ac41a29b018e743d8ea19a",
            "style": "IPY_MODEL_dded193c7d364374baae9bb07466bb4f",
            "tooltip": ""
          }
        },
        "386492177ca746f086bcd69425aaa4e2": {
          "model_module": "@jupyter-widgets/controls",
          "model_name": "ButtonModel",
          "model_module_version": "1.5.0",
          "state": {
            "_dom_classes": [],
            "_model_module": "@jupyter-widgets/controls",
            "_model_module_version": "1.5.0",
            "_model_name": "ButtonModel",
            "_view_count": null,
            "_view_module": "@jupyter-widgets/controls",
            "_view_module_version": "1.5.0",
            "_view_name": "ButtonView",
            "button_style": "",
            "description": "1",
            "disabled": false,
            "icon": "",
            "layout": "IPY_MODEL_b4f2d4e7203a476f9fa9a960a2e32e23",
            "style": "IPY_MODEL_2b6f593241714a0c8cc212b1b229b807",
            "tooltip": ""
          }
        },
        "36d46aa769f949b8b9db3aa5aa2a9460": {
          "model_module": "@jupyter-widgets/base",
          "model_name": "LayoutModel",
          "model_module_version": "1.2.0",
          "state": {
            "_model_module": "@jupyter-widgets/base",
            "_model_module_version": "1.2.0",
            "_model_name": "LayoutModel",
            "_view_count": null,
            "_view_module": "@jupyter-widgets/base",
            "_view_module_version": "1.2.0",
            "_view_name": "LayoutView",
            "align_content": null,
            "align_items": null,
            "align_self": null,
            "border": null,
            "bottom": null,
            "display": null,
            "flex": null,
            "flex_flow": null,
            "grid_area": null,
            "grid_auto_columns": null,
            "grid_auto_flow": null,
            "grid_auto_rows": null,
            "grid_column": null,
            "grid_gap": null,
            "grid_row": null,
            "grid_template_areas": null,
            "grid_template_columns": null,
            "grid_template_rows": null,
            "height": null,
            "justify_content": null,
            "justify_items": null,
            "left": null,
            "margin": null,
            "max_height": null,
            "max_width": null,
            "min_height": null,
            "min_width": null,
            "object_fit": null,
            "object_position": null,
            "order": null,
            "overflow": null,
            "overflow_x": null,
            "overflow_y": null,
            "padding": null,
            "right": null,
            "top": null,
            "visibility": null,
            "width": null
          }
        },
        "f0de77f335ac41a29b018e743d8ea19a": {
          "model_module": "@jupyter-widgets/base",
          "model_name": "LayoutModel",
          "model_module_version": "1.2.0",
          "state": {
            "_model_module": "@jupyter-widgets/base",
            "_model_module_version": "1.2.0",
            "_model_name": "LayoutModel",
            "_view_count": null,
            "_view_module": "@jupyter-widgets/base",
            "_view_module_version": "1.2.0",
            "_view_name": "LayoutView",
            "align_content": null,
            "align_items": null,
            "align_self": null,
            "border": null,
            "bottom": null,
            "display": null,
            "flex": null,
            "flex_flow": null,
            "grid_area": null,
            "grid_auto_columns": null,
            "grid_auto_flow": null,
            "grid_auto_rows": null,
            "grid_column": null,
            "grid_gap": null,
            "grid_row": null,
            "grid_template_areas": null,
            "grid_template_columns": null,
            "grid_template_rows": null,
            "height": null,
            "justify_content": null,
            "justify_items": null,
            "left": null,
            "margin": null,
            "max_height": null,
            "max_width": null,
            "min_height": null,
            "min_width": null,
            "object_fit": null,
            "object_position": null,
            "order": null,
            "overflow": null,
            "overflow_x": null,
            "overflow_y": null,
            "padding": null,
            "right": null,
            "top": null,
            "visibility": null,
            "width": null
          }
        },
        "dded193c7d364374baae9bb07466bb4f": {
          "model_module": "@jupyter-widgets/controls",
          "model_name": "ButtonStyleModel",
          "model_module_version": "1.5.0",
          "state": {
            "_model_module": "@jupyter-widgets/controls",
            "_model_module_version": "1.5.0",
            "_model_name": "ButtonStyleModel",
            "_view_count": null,
            "_view_module": "@jupyter-widgets/base",
            "_view_module_version": "1.2.0",
            "_view_name": "StyleView",
            "button_color": null,
            "font_weight": ""
          }
        },
        "b4f2d4e7203a476f9fa9a960a2e32e23": {
          "model_module": "@jupyter-widgets/base",
          "model_name": "LayoutModel",
          "model_module_version": "1.2.0",
          "state": {
            "_model_module": "@jupyter-widgets/base",
            "_model_module_version": "1.2.0",
            "_model_name": "LayoutModel",
            "_view_count": null,
            "_view_module": "@jupyter-widgets/base",
            "_view_module_version": "1.2.0",
            "_view_name": "LayoutView",
            "align_content": null,
            "align_items": null,
            "align_self": null,
            "border": null,
            "bottom": null,
            "display": null,
            "flex": null,
            "flex_flow": null,
            "grid_area": null,
            "grid_auto_columns": null,
            "grid_auto_flow": null,
            "grid_auto_rows": null,
            "grid_column": null,
            "grid_gap": null,
            "grid_row": null,
            "grid_template_areas": null,
            "grid_template_columns": null,
            "grid_template_rows": null,
            "height": null,
            "justify_content": null,
            "justify_items": null,
            "left": null,
            "margin": null,
            "max_height": null,
            "max_width": null,
            "min_height": null,
            "min_width": null,
            "object_fit": null,
            "object_position": null,
            "order": null,
            "overflow": null,
            "overflow_x": null,
            "overflow_y": null,
            "padding": null,
            "right": null,
            "top": null,
            "visibility": null,
            "width": null
          }
        },
        "2b6f593241714a0c8cc212b1b229b807": {
          "model_module": "@jupyter-widgets/controls",
          "model_name": "ButtonStyleModel",
          "model_module_version": "1.5.0",
          "state": {
            "_model_module": "@jupyter-widgets/controls",
            "_model_module_version": "1.5.0",
            "_model_name": "ButtonStyleModel",
            "_view_count": null,
            "_view_module": "@jupyter-widgets/base",
            "_view_module_version": "1.2.0",
            "_view_name": "StyleView",
            "button_color": null,
            "font_weight": ""
          }
        },
        "b5d2cf6acb024b3b8ee862252a86caf3": {
          "model_module": "@jupyter-widgets/controls",
          "model_name": "VBoxModel",
          "model_module_version": "1.5.0",
          "state": {
            "_dom_classes": [],
            "_model_module": "@jupyter-widgets/controls",
            "_model_module_version": "1.5.0",
            "_model_name": "VBoxModel",
            "_view_count": null,
            "_view_module": "@jupyter-widgets/controls",
            "_view_module_version": "1.5.0",
            "_view_name": "VBoxView",
            "box_style": "",
            "children": [
              "IPY_MODEL_334aa6d563784673827310c679f7bf29",
              "IPY_MODEL_19324bcbfda349c4bac62311dc6e9be7"
            ],
            "layout": "IPY_MODEL_ca36a6aa10534e25bec8af9d8ce736bc"
          }
        },
        "334aa6d563784673827310c679f7bf29": {
          "model_module": "@jupyter-widgets/controls",
          "model_name": "ButtonModel",
          "model_module_version": "1.5.0",
          "state": {
            "_dom_classes": [],
            "_model_module": "@jupyter-widgets/controls",
            "_model_module_version": "1.5.0",
            "_model_name": "ButtonModel",
            "_view_count": null,
            "_view_module": "@jupyter-widgets/controls",
            "_view_module_version": "1.5.0",
            "_view_name": "ButtonView",
            "button_style": "",
            "description": "0",
            "disabled": false,
            "icon": "",
            "layout": "IPY_MODEL_f4db3e2fc1114151b95de05bc2b100cb",
            "style": "IPY_MODEL_1b8fc690cc5744f49c86c53b6a7804ee",
            "tooltip": ""
          }
        },
        "19324bcbfda349c4bac62311dc6e9be7": {
          "model_module": "@jupyter-widgets/controls",
          "model_name": "ButtonModel",
          "model_module_version": "1.5.0",
          "state": {
            "_dom_classes": [],
            "_model_module": "@jupyter-widgets/controls",
            "_model_module_version": "1.5.0",
            "_model_name": "ButtonModel",
            "_view_count": null,
            "_view_module": "@jupyter-widgets/controls",
            "_view_module_version": "1.5.0",
            "_view_name": "ButtonView",
            "button_style": "",
            "description": "1",
            "disabled": false,
            "icon": "",
            "layout": "IPY_MODEL_862c1914dc73470f97042cf2a772382c",
            "style": "IPY_MODEL_57422cbf507f45bab7879aa8adc9a84f",
            "tooltip": ""
          }
        },
        "ca36a6aa10534e25bec8af9d8ce736bc": {
          "model_module": "@jupyter-widgets/base",
          "model_name": "LayoutModel",
          "model_module_version": "1.2.0",
          "state": {
            "_model_module": "@jupyter-widgets/base",
            "_model_module_version": "1.2.0",
            "_model_name": "LayoutModel",
            "_view_count": null,
            "_view_module": "@jupyter-widgets/base",
            "_view_module_version": "1.2.0",
            "_view_name": "LayoutView",
            "align_content": null,
            "align_items": null,
            "align_self": null,
            "border": null,
            "bottom": null,
            "display": null,
            "flex": null,
            "flex_flow": null,
            "grid_area": null,
            "grid_auto_columns": null,
            "grid_auto_flow": null,
            "grid_auto_rows": null,
            "grid_column": null,
            "grid_gap": null,
            "grid_row": null,
            "grid_template_areas": null,
            "grid_template_columns": null,
            "grid_template_rows": null,
            "height": null,
            "justify_content": null,
            "justify_items": null,
            "left": null,
            "margin": null,
            "max_height": null,
            "max_width": null,
            "min_height": null,
            "min_width": null,
            "object_fit": null,
            "object_position": null,
            "order": null,
            "overflow": null,
            "overflow_x": null,
            "overflow_y": null,
            "padding": null,
            "right": null,
            "top": null,
            "visibility": null,
            "width": null
          }
        },
        "f4db3e2fc1114151b95de05bc2b100cb": {
          "model_module": "@jupyter-widgets/base",
          "model_name": "LayoutModel",
          "model_module_version": "1.2.0",
          "state": {
            "_model_module": "@jupyter-widgets/base",
            "_model_module_version": "1.2.0",
            "_model_name": "LayoutModel",
            "_view_count": null,
            "_view_module": "@jupyter-widgets/base",
            "_view_module_version": "1.2.0",
            "_view_name": "LayoutView",
            "align_content": null,
            "align_items": null,
            "align_self": null,
            "border": null,
            "bottom": null,
            "display": null,
            "flex": null,
            "flex_flow": null,
            "grid_area": null,
            "grid_auto_columns": null,
            "grid_auto_flow": null,
            "grid_auto_rows": null,
            "grid_column": null,
            "grid_gap": null,
            "grid_row": null,
            "grid_template_areas": null,
            "grid_template_columns": null,
            "grid_template_rows": null,
            "height": null,
            "justify_content": null,
            "justify_items": null,
            "left": null,
            "margin": null,
            "max_height": null,
            "max_width": null,
            "min_height": null,
            "min_width": null,
            "object_fit": null,
            "object_position": null,
            "order": null,
            "overflow": null,
            "overflow_x": null,
            "overflow_y": null,
            "padding": null,
            "right": null,
            "top": null,
            "visibility": null,
            "width": null
          }
        },
        "1b8fc690cc5744f49c86c53b6a7804ee": {
          "model_module": "@jupyter-widgets/controls",
          "model_name": "ButtonStyleModel",
          "model_module_version": "1.5.0",
          "state": {
            "_model_module": "@jupyter-widgets/controls",
            "_model_module_version": "1.5.0",
            "_model_name": "ButtonStyleModel",
            "_view_count": null,
            "_view_module": "@jupyter-widgets/base",
            "_view_module_version": "1.2.0",
            "_view_name": "StyleView",
            "button_color": null,
            "font_weight": ""
          }
        },
        "862c1914dc73470f97042cf2a772382c": {
          "model_module": "@jupyter-widgets/base",
          "model_name": "LayoutModel",
          "model_module_version": "1.2.0",
          "state": {
            "_model_module": "@jupyter-widgets/base",
            "_model_module_version": "1.2.0",
            "_model_name": "LayoutModel",
            "_view_count": null,
            "_view_module": "@jupyter-widgets/base",
            "_view_module_version": "1.2.0",
            "_view_name": "LayoutView",
            "align_content": null,
            "align_items": null,
            "align_self": null,
            "border": null,
            "bottom": null,
            "display": null,
            "flex": null,
            "flex_flow": null,
            "grid_area": null,
            "grid_auto_columns": null,
            "grid_auto_flow": null,
            "grid_auto_rows": null,
            "grid_column": null,
            "grid_gap": null,
            "grid_row": null,
            "grid_template_areas": null,
            "grid_template_columns": null,
            "grid_template_rows": null,
            "height": null,
            "justify_content": null,
            "justify_items": null,
            "left": null,
            "margin": null,
            "max_height": null,
            "max_width": null,
            "min_height": null,
            "min_width": null,
            "object_fit": null,
            "object_position": null,
            "order": null,
            "overflow": null,
            "overflow_x": null,
            "overflow_y": null,
            "padding": null,
            "right": null,
            "top": null,
            "visibility": null,
            "width": null
          }
        },
        "57422cbf507f45bab7879aa8adc9a84f": {
          "model_module": "@jupyter-widgets/controls",
          "model_name": "ButtonStyleModel",
          "model_module_version": "1.5.0",
          "state": {
            "_model_module": "@jupyter-widgets/controls",
            "_model_module_version": "1.5.0",
            "_model_name": "ButtonStyleModel",
            "_view_count": null,
            "_view_module": "@jupyter-widgets/base",
            "_view_module_version": "1.2.0",
            "_view_name": "StyleView",
            "button_color": null,
            "font_weight": ""
          }
        },
        "4fbb45915c9b441e9e76ca02b3a800eb": {
          "model_module": "@jupyter-widgets/controls",
          "model_name": "GridBoxModel",
          "model_module_version": "1.5.0",
          "state": {
            "_dom_classes": [],
            "_model_module": "@jupyter-widgets/controls",
            "_model_module_version": "1.5.0",
            "_model_name": "GridBoxModel",
            "_view_count": null,
            "_view_module": "@jupyter-widgets/controls",
            "_view_module_version": "1.5.0",
            "_view_name": "GridBoxView",
            "box_style": "",
            "children": [
              "IPY_MODEL_c785a48b85ea4a958a6e346cf4517280",
              "IPY_MODEL_edbc88d89bde486abc70b0952efed6db",
              "IPY_MODEL_a2e17aff414040deaf11453ae4099bc6",
              "IPY_MODEL_904098df2c1a49069535930985d271e5",
              "IPY_MODEL_36184254f69140008e0786fb9604d5c9",
              "IPY_MODEL_52d12c33cd0640b5b38aeb6a90ee82c9",
              "IPY_MODEL_b9d44c6f4e9f40b28f6230ab5a684e75",
              "IPY_MODEL_e9188432175544478dd19bbd6b83630d",
              "IPY_MODEL_a66ff7515b064840ac65694f5d71f9a9",
              "IPY_MODEL_f4fa0fb7d79a40bcb1f616dec86ff83d",
              "IPY_MODEL_f58b89bf558f4d5cbc3560c86555035e",
              "IPY_MODEL_4ef46db38c6f4fee952841d5fd8b908f"
            ],
            "layout": "IPY_MODEL_4c961336c85145e2ba4f129dabdc0464"
          }
        },
        "c785a48b85ea4a958a6e346cf4517280": {
          "model_module": "@jupyter-widgets/controls",
          "model_name": "ButtonModel",
          "model_module_version": "1.5.0",
          "state": {
            "_dom_classes": [],
            "_model_module": "@jupyter-widgets/controls",
            "_model_module_version": "1.5.0",
            "_model_name": "ButtonModel",
            "_view_count": null,
            "_view_module": "@jupyter-widgets/controls",
            "_view_module_version": "1.5.0",
            "_view_name": "ButtonView",
            "button_style": "warning",
            "description": "Button 0 - 0",
            "disabled": false,
            "icon": "",
            "layout": "IPY_MODEL_7d3ef3682ea54735bd0cb529d832dd13",
            "style": "IPY_MODEL_d9643dc1fdac485387f2e1b6dea2f4b1",
            "tooltip": ""
          }
        },
        "edbc88d89bde486abc70b0952efed6db": {
          "model_module": "@jupyter-widgets/controls",
          "model_name": "ButtonModel",
          "model_module_version": "1.5.0",
          "state": {
            "_dom_classes": [],
            "_model_module": "@jupyter-widgets/controls",
            "_model_module_version": "1.5.0",
            "_model_name": "ButtonModel",
            "_view_count": null,
            "_view_module": "@jupyter-widgets/controls",
            "_view_module_version": "1.5.0",
            "_view_name": "ButtonView",
            "button_style": "warning",
            "description": "Button 0 - 1",
            "disabled": false,
            "icon": "",
            "layout": "IPY_MODEL_c393c1085ba34ca199e119628c05c57d",
            "style": "IPY_MODEL_c60672b5080441c4b27dcea7720bd8ce",
            "tooltip": ""
          }
        },
        "a2e17aff414040deaf11453ae4099bc6": {
          "model_module": "@jupyter-widgets/controls",
          "model_name": "ButtonModel",
          "model_module_version": "1.5.0",
          "state": {
            "_dom_classes": [],
            "_model_module": "@jupyter-widgets/controls",
            "_model_module_version": "1.5.0",
            "_model_name": "ButtonModel",
            "_view_count": null,
            "_view_module": "@jupyter-widgets/controls",
            "_view_module_version": "1.5.0",
            "_view_name": "ButtonView",
            "button_style": "warning",
            "description": "Button 0 - 2",
            "disabled": false,
            "icon": "",
            "layout": "IPY_MODEL_bc48fc9691f44d1898a39e79253b8c83",
            "style": "IPY_MODEL_ec34c12d0449435a98a56ab7e09a9b81",
            "tooltip": ""
          }
        },
        "904098df2c1a49069535930985d271e5": {
          "model_module": "@jupyter-widgets/controls",
          "model_name": "ButtonModel",
          "model_module_version": "1.5.0",
          "state": {
            "_dom_classes": [],
            "_model_module": "@jupyter-widgets/controls",
            "_model_module_version": "1.5.0",
            "_model_name": "ButtonModel",
            "_view_count": null,
            "_view_module": "@jupyter-widgets/controls",
            "_view_module_version": "1.5.0",
            "_view_name": "ButtonView",
            "button_style": "warning",
            "description": "Button 1 - 0",
            "disabled": false,
            "icon": "",
            "layout": "IPY_MODEL_f3775af8fbbe4151b6b497cdee668ba5",
            "style": "IPY_MODEL_a382221dba314b938ebabbdea1ec356e",
            "tooltip": ""
          }
        },
        "36184254f69140008e0786fb9604d5c9": {
          "model_module": "@jupyter-widgets/controls",
          "model_name": "ButtonModel",
          "model_module_version": "1.5.0",
          "state": {
            "_dom_classes": [],
            "_model_module": "@jupyter-widgets/controls",
            "_model_module_version": "1.5.0",
            "_model_name": "ButtonModel",
            "_view_count": null,
            "_view_module": "@jupyter-widgets/controls",
            "_view_module_version": "1.5.0",
            "_view_name": "ButtonView",
            "button_style": "warning",
            "description": "Button 1 - 1",
            "disabled": false,
            "icon": "",
            "layout": "IPY_MODEL_986b85922d6a483d85160e8f316af081",
            "style": "IPY_MODEL_03e481db96324c4bade2a976d8a318e2",
            "tooltip": ""
          }
        },
        "52d12c33cd0640b5b38aeb6a90ee82c9": {
          "model_module": "@jupyter-widgets/controls",
          "model_name": "ButtonModel",
          "model_module_version": "1.5.0",
          "state": {
            "_dom_classes": [],
            "_model_module": "@jupyter-widgets/controls",
            "_model_module_version": "1.5.0",
            "_model_name": "ButtonModel",
            "_view_count": null,
            "_view_module": "@jupyter-widgets/controls",
            "_view_module_version": "1.5.0",
            "_view_name": "ButtonView",
            "button_style": "warning",
            "description": "Button 1 - 2",
            "disabled": false,
            "icon": "",
            "layout": "IPY_MODEL_1c44ee01079846a1950b186a5c4ef376",
            "style": "IPY_MODEL_f6793e5be191456a8371c619a51bd9a4",
            "tooltip": ""
          }
        },
        "b9d44c6f4e9f40b28f6230ab5a684e75": {
          "model_module": "@jupyter-widgets/controls",
          "model_name": "ButtonModel",
          "model_module_version": "1.5.0",
          "state": {
            "_dom_classes": [],
            "_model_module": "@jupyter-widgets/controls",
            "_model_module_version": "1.5.0",
            "_model_name": "ButtonModel",
            "_view_count": null,
            "_view_module": "@jupyter-widgets/controls",
            "_view_module_version": "1.5.0",
            "_view_name": "ButtonView",
            "button_style": "warning",
            "description": "Button 2 - 0",
            "disabled": false,
            "icon": "",
            "layout": "IPY_MODEL_2daf588665b44cb89cc087a6c6573283",
            "style": "IPY_MODEL_9e3398b58a9145e0b225181753c40ae1",
            "tooltip": ""
          }
        },
        "e9188432175544478dd19bbd6b83630d": {
          "model_module": "@jupyter-widgets/controls",
          "model_name": "ButtonModel",
          "model_module_version": "1.5.0",
          "state": {
            "_dom_classes": [],
            "_model_module": "@jupyter-widgets/controls",
            "_model_module_version": "1.5.0",
            "_model_name": "ButtonModel",
            "_view_count": null,
            "_view_module": "@jupyter-widgets/controls",
            "_view_module_version": "1.5.0",
            "_view_name": "ButtonView",
            "button_style": "warning",
            "description": "Button 2 - 1",
            "disabled": false,
            "icon": "",
            "layout": "IPY_MODEL_2b078ad33ad144d7a23b1224fd38156e",
            "style": "IPY_MODEL_fb0b4916899548858bb7483075915962",
            "tooltip": ""
          }
        },
        "a66ff7515b064840ac65694f5d71f9a9": {
          "model_module": "@jupyter-widgets/controls",
          "model_name": "ButtonModel",
          "model_module_version": "1.5.0",
          "state": {
            "_dom_classes": [],
            "_model_module": "@jupyter-widgets/controls",
            "_model_module_version": "1.5.0",
            "_model_name": "ButtonModel",
            "_view_count": null,
            "_view_module": "@jupyter-widgets/controls",
            "_view_module_version": "1.5.0",
            "_view_name": "ButtonView",
            "button_style": "warning",
            "description": "Button 2 - 2",
            "disabled": false,
            "icon": "",
            "layout": "IPY_MODEL_a4d5a1068f1e4065b69f5c9f2451ce3a",
            "style": "IPY_MODEL_ec8a7fdb36174be8bcbb0dc95d9df48a",
            "tooltip": ""
          }
        },
        "f4fa0fb7d79a40bcb1f616dec86ff83d": {
          "model_module": "@jupyter-widgets/controls",
          "model_name": "ButtonModel",
          "model_module_version": "1.5.0",
          "state": {
            "_dom_classes": [],
            "_model_module": "@jupyter-widgets/controls",
            "_model_module_version": "1.5.0",
            "_model_name": "ButtonModel",
            "_view_count": null,
            "_view_module": "@jupyter-widgets/controls",
            "_view_module_version": "1.5.0",
            "_view_name": "ButtonView",
            "button_style": "warning",
            "description": "Button 3 - 0",
            "disabled": false,
            "icon": "",
            "layout": "IPY_MODEL_1c0921806c1b4c0a813fb81e586aeb51",
            "style": "IPY_MODEL_3e67915d706643b0b2cc893baa96e8bf",
            "tooltip": ""
          }
        },
        "f58b89bf558f4d5cbc3560c86555035e": {
          "model_module": "@jupyter-widgets/controls",
          "model_name": "ButtonModel",
          "model_module_version": "1.5.0",
          "state": {
            "_dom_classes": [],
            "_model_module": "@jupyter-widgets/controls",
            "_model_module_version": "1.5.0",
            "_model_name": "ButtonModel",
            "_view_count": null,
            "_view_module": "@jupyter-widgets/controls",
            "_view_module_version": "1.5.0",
            "_view_name": "ButtonView",
            "button_style": "warning",
            "description": "Button 3 - 1",
            "disabled": false,
            "icon": "",
            "layout": "IPY_MODEL_d8789a21b2b64610a3143fb6bc90e1ae",
            "style": "IPY_MODEL_ab381e09a9d14687ba788e134f346de9",
            "tooltip": ""
          }
        },
        "4ef46db38c6f4fee952841d5fd8b908f": {
          "model_module": "@jupyter-widgets/controls",
          "model_name": "ButtonModel",
          "model_module_version": "1.5.0",
          "state": {
            "_dom_classes": [],
            "_model_module": "@jupyter-widgets/controls",
            "_model_module_version": "1.5.0",
            "_model_name": "ButtonModel",
            "_view_count": null,
            "_view_module": "@jupyter-widgets/controls",
            "_view_module_version": "1.5.0",
            "_view_name": "ButtonView",
            "button_style": "warning",
            "description": "Button 3 - 2",
            "disabled": false,
            "icon": "",
            "layout": "IPY_MODEL_7cece4da742a4ebca461b03aba6995f9",
            "style": "IPY_MODEL_b1a43950fd7f48c28e5a5b5e7959880e",
            "tooltip": ""
          }
        },
        "4c961336c85145e2ba4f129dabdc0464": {
          "model_module": "@jupyter-widgets/base",
          "model_name": "LayoutModel",
          "model_module_version": "1.2.0",
          "state": {
            "_model_module": "@jupyter-widgets/base",
            "_model_module_version": "1.2.0",
            "_model_name": "LayoutModel",
            "_view_count": null,
            "_view_module": "@jupyter-widgets/base",
            "_view_module_version": "1.2.0",
            "_view_name": "LayoutView",
            "align_content": null,
            "align_items": null,
            "align_self": null,
            "border": null,
            "bottom": null,
            "display": null,
            "flex": null,
            "flex_flow": null,
            "grid_area": null,
            "grid_auto_columns": null,
            "grid_auto_flow": null,
            "grid_auto_rows": null,
            "grid_column": null,
            "grid_gap": null,
            "grid_row": null,
            "grid_template_areas": "\"widget001 widget002 widget003\"\n\"widget004 widget005 widget006\"\n\"widget007 widget008 widget009\"\n\"widget010 widget011 widget012\"",
            "grid_template_columns": "repeat(3, 1fr)",
            "grid_template_rows": "repeat(4, 1fr)",
            "height": null,
            "justify_content": null,
            "justify_items": null,
            "left": null,
            "margin": null,
            "max_height": null,
            "max_width": null,
            "min_height": null,
            "min_width": null,
            "object_fit": null,
            "object_position": null,
            "order": null,
            "overflow": null,
            "overflow_x": null,
            "overflow_y": null,
            "padding": null,
            "right": null,
            "top": null,
            "visibility": null,
            "width": null
          }
        },
        "7d3ef3682ea54735bd0cb529d832dd13": {
          "model_module": "@jupyter-widgets/base",
          "model_name": "LayoutModel",
          "model_module_version": "1.2.0",
          "state": {
            "_model_module": "@jupyter-widgets/base",
            "_model_module_version": "1.2.0",
            "_model_name": "LayoutModel",
            "_view_count": null,
            "_view_module": "@jupyter-widgets/base",
            "_view_module_version": "1.2.0",
            "_view_name": "LayoutView",
            "align_content": null,
            "align_items": null,
            "align_self": null,
            "border": null,
            "bottom": null,
            "display": null,
            "flex": null,
            "flex_flow": null,
            "grid_area": "widget001",
            "grid_auto_columns": null,
            "grid_auto_flow": null,
            "grid_auto_rows": null,
            "grid_column": null,
            "grid_gap": null,
            "grid_row": null,
            "grid_template_areas": null,
            "grid_template_columns": null,
            "grid_template_rows": null,
            "height": "auto",
            "justify_content": null,
            "justify_items": null,
            "left": null,
            "margin": null,
            "max_height": null,
            "max_width": null,
            "min_height": null,
            "min_width": null,
            "object_fit": null,
            "object_position": null,
            "order": null,
            "overflow": null,
            "overflow_x": null,
            "overflow_y": null,
            "padding": null,
            "right": null,
            "top": null,
            "visibility": null,
            "width": "auto"
          }
        },
        "d9643dc1fdac485387f2e1b6dea2f4b1": {
          "model_module": "@jupyter-widgets/controls",
          "model_name": "ButtonStyleModel",
          "model_module_version": "1.5.0",
          "state": {
            "_model_module": "@jupyter-widgets/controls",
            "_model_module_version": "1.5.0",
            "_model_name": "ButtonStyleModel",
            "_view_count": null,
            "_view_module": "@jupyter-widgets/base",
            "_view_module_version": "1.2.0",
            "_view_name": "StyleView",
            "button_color": null,
            "font_weight": ""
          }
        },
        "c393c1085ba34ca199e119628c05c57d": {
          "model_module": "@jupyter-widgets/base",
          "model_name": "LayoutModel",
          "model_module_version": "1.2.0",
          "state": {
            "_model_module": "@jupyter-widgets/base",
            "_model_module_version": "1.2.0",
            "_model_name": "LayoutModel",
            "_view_count": null,
            "_view_module": "@jupyter-widgets/base",
            "_view_module_version": "1.2.0",
            "_view_name": "LayoutView",
            "align_content": null,
            "align_items": null,
            "align_self": null,
            "border": null,
            "bottom": null,
            "display": null,
            "flex": null,
            "flex_flow": null,
            "grid_area": "widget002",
            "grid_auto_columns": null,
            "grid_auto_flow": null,
            "grid_auto_rows": null,
            "grid_column": null,
            "grid_gap": null,
            "grid_row": null,
            "grid_template_areas": null,
            "grid_template_columns": null,
            "grid_template_rows": null,
            "height": "auto",
            "justify_content": null,
            "justify_items": null,
            "left": null,
            "margin": null,
            "max_height": null,
            "max_width": null,
            "min_height": null,
            "min_width": null,
            "object_fit": null,
            "object_position": null,
            "order": null,
            "overflow": null,
            "overflow_x": null,
            "overflow_y": null,
            "padding": null,
            "right": null,
            "top": null,
            "visibility": null,
            "width": "auto"
          }
        },
        "c60672b5080441c4b27dcea7720bd8ce": {
          "model_module": "@jupyter-widgets/controls",
          "model_name": "ButtonStyleModel",
          "model_module_version": "1.5.0",
          "state": {
            "_model_module": "@jupyter-widgets/controls",
            "_model_module_version": "1.5.0",
            "_model_name": "ButtonStyleModel",
            "_view_count": null,
            "_view_module": "@jupyter-widgets/base",
            "_view_module_version": "1.2.0",
            "_view_name": "StyleView",
            "button_color": null,
            "font_weight": ""
          }
        },
        "bc48fc9691f44d1898a39e79253b8c83": {
          "model_module": "@jupyter-widgets/base",
          "model_name": "LayoutModel",
          "model_module_version": "1.2.0",
          "state": {
            "_model_module": "@jupyter-widgets/base",
            "_model_module_version": "1.2.0",
            "_model_name": "LayoutModel",
            "_view_count": null,
            "_view_module": "@jupyter-widgets/base",
            "_view_module_version": "1.2.0",
            "_view_name": "LayoutView",
            "align_content": null,
            "align_items": null,
            "align_self": null,
            "border": null,
            "bottom": null,
            "display": null,
            "flex": null,
            "flex_flow": null,
            "grid_area": "widget003",
            "grid_auto_columns": null,
            "grid_auto_flow": null,
            "grid_auto_rows": null,
            "grid_column": null,
            "grid_gap": null,
            "grid_row": null,
            "grid_template_areas": null,
            "grid_template_columns": null,
            "grid_template_rows": null,
            "height": "auto",
            "justify_content": null,
            "justify_items": null,
            "left": null,
            "margin": null,
            "max_height": null,
            "max_width": null,
            "min_height": null,
            "min_width": null,
            "object_fit": null,
            "object_position": null,
            "order": null,
            "overflow": null,
            "overflow_x": null,
            "overflow_y": null,
            "padding": null,
            "right": null,
            "top": null,
            "visibility": null,
            "width": "auto"
          }
        },
        "ec34c12d0449435a98a56ab7e09a9b81": {
          "model_module": "@jupyter-widgets/controls",
          "model_name": "ButtonStyleModel",
          "model_module_version": "1.5.0",
          "state": {
            "_model_module": "@jupyter-widgets/controls",
            "_model_module_version": "1.5.0",
            "_model_name": "ButtonStyleModel",
            "_view_count": null,
            "_view_module": "@jupyter-widgets/base",
            "_view_module_version": "1.2.0",
            "_view_name": "StyleView",
            "button_color": null,
            "font_weight": ""
          }
        },
        "f3775af8fbbe4151b6b497cdee668ba5": {
          "model_module": "@jupyter-widgets/base",
          "model_name": "LayoutModel",
          "model_module_version": "1.2.0",
          "state": {
            "_model_module": "@jupyter-widgets/base",
            "_model_module_version": "1.2.0",
            "_model_name": "LayoutModel",
            "_view_count": null,
            "_view_module": "@jupyter-widgets/base",
            "_view_module_version": "1.2.0",
            "_view_name": "LayoutView",
            "align_content": null,
            "align_items": null,
            "align_self": null,
            "border": null,
            "bottom": null,
            "display": null,
            "flex": null,
            "flex_flow": null,
            "grid_area": "widget004",
            "grid_auto_columns": null,
            "grid_auto_flow": null,
            "grid_auto_rows": null,
            "grid_column": null,
            "grid_gap": null,
            "grid_row": null,
            "grid_template_areas": null,
            "grid_template_columns": null,
            "grid_template_rows": null,
            "height": "auto",
            "justify_content": null,
            "justify_items": null,
            "left": null,
            "margin": null,
            "max_height": null,
            "max_width": null,
            "min_height": null,
            "min_width": null,
            "object_fit": null,
            "object_position": null,
            "order": null,
            "overflow": null,
            "overflow_x": null,
            "overflow_y": null,
            "padding": null,
            "right": null,
            "top": null,
            "visibility": null,
            "width": "auto"
          }
        },
        "a382221dba314b938ebabbdea1ec356e": {
          "model_module": "@jupyter-widgets/controls",
          "model_name": "ButtonStyleModel",
          "model_module_version": "1.5.0",
          "state": {
            "_model_module": "@jupyter-widgets/controls",
            "_model_module_version": "1.5.0",
            "_model_name": "ButtonStyleModel",
            "_view_count": null,
            "_view_module": "@jupyter-widgets/base",
            "_view_module_version": "1.2.0",
            "_view_name": "StyleView",
            "button_color": null,
            "font_weight": ""
          }
        },
        "986b85922d6a483d85160e8f316af081": {
          "model_module": "@jupyter-widgets/base",
          "model_name": "LayoutModel",
          "model_module_version": "1.2.0",
          "state": {
            "_model_module": "@jupyter-widgets/base",
            "_model_module_version": "1.2.0",
            "_model_name": "LayoutModel",
            "_view_count": null,
            "_view_module": "@jupyter-widgets/base",
            "_view_module_version": "1.2.0",
            "_view_name": "LayoutView",
            "align_content": null,
            "align_items": null,
            "align_self": null,
            "border": null,
            "bottom": null,
            "display": null,
            "flex": null,
            "flex_flow": null,
            "grid_area": "widget005",
            "grid_auto_columns": null,
            "grid_auto_flow": null,
            "grid_auto_rows": null,
            "grid_column": null,
            "grid_gap": null,
            "grid_row": null,
            "grid_template_areas": null,
            "grid_template_columns": null,
            "grid_template_rows": null,
            "height": "auto",
            "justify_content": null,
            "justify_items": null,
            "left": null,
            "margin": null,
            "max_height": null,
            "max_width": null,
            "min_height": null,
            "min_width": null,
            "object_fit": null,
            "object_position": null,
            "order": null,
            "overflow": null,
            "overflow_x": null,
            "overflow_y": null,
            "padding": null,
            "right": null,
            "top": null,
            "visibility": null,
            "width": "auto"
          }
        },
        "03e481db96324c4bade2a976d8a318e2": {
          "model_module": "@jupyter-widgets/controls",
          "model_name": "ButtonStyleModel",
          "model_module_version": "1.5.0",
          "state": {
            "_model_module": "@jupyter-widgets/controls",
            "_model_module_version": "1.5.0",
            "_model_name": "ButtonStyleModel",
            "_view_count": null,
            "_view_module": "@jupyter-widgets/base",
            "_view_module_version": "1.2.0",
            "_view_name": "StyleView",
            "button_color": null,
            "font_weight": ""
          }
        },
        "1c44ee01079846a1950b186a5c4ef376": {
          "model_module": "@jupyter-widgets/base",
          "model_name": "LayoutModel",
          "model_module_version": "1.2.0",
          "state": {
            "_model_module": "@jupyter-widgets/base",
            "_model_module_version": "1.2.0",
            "_model_name": "LayoutModel",
            "_view_count": null,
            "_view_module": "@jupyter-widgets/base",
            "_view_module_version": "1.2.0",
            "_view_name": "LayoutView",
            "align_content": null,
            "align_items": null,
            "align_self": null,
            "border": null,
            "bottom": null,
            "display": null,
            "flex": null,
            "flex_flow": null,
            "grid_area": "widget006",
            "grid_auto_columns": null,
            "grid_auto_flow": null,
            "grid_auto_rows": null,
            "grid_column": null,
            "grid_gap": null,
            "grid_row": null,
            "grid_template_areas": null,
            "grid_template_columns": null,
            "grid_template_rows": null,
            "height": "auto",
            "justify_content": null,
            "justify_items": null,
            "left": null,
            "margin": null,
            "max_height": null,
            "max_width": null,
            "min_height": null,
            "min_width": null,
            "object_fit": null,
            "object_position": null,
            "order": null,
            "overflow": null,
            "overflow_x": null,
            "overflow_y": null,
            "padding": null,
            "right": null,
            "top": null,
            "visibility": null,
            "width": "auto"
          }
        },
        "f6793e5be191456a8371c619a51bd9a4": {
          "model_module": "@jupyter-widgets/controls",
          "model_name": "ButtonStyleModel",
          "model_module_version": "1.5.0",
          "state": {
            "_model_module": "@jupyter-widgets/controls",
            "_model_module_version": "1.5.0",
            "_model_name": "ButtonStyleModel",
            "_view_count": null,
            "_view_module": "@jupyter-widgets/base",
            "_view_module_version": "1.2.0",
            "_view_name": "StyleView",
            "button_color": null,
            "font_weight": ""
          }
        },
        "2daf588665b44cb89cc087a6c6573283": {
          "model_module": "@jupyter-widgets/base",
          "model_name": "LayoutModel",
          "model_module_version": "1.2.0",
          "state": {
            "_model_module": "@jupyter-widgets/base",
            "_model_module_version": "1.2.0",
            "_model_name": "LayoutModel",
            "_view_count": null,
            "_view_module": "@jupyter-widgets/base",
            "_view_module_version": "1.2.0",
            "_view_name": "LayoutView",
            "align_content": null,
            "align_items": null,
            "align_self": null,
            "border": null,
            "bottom": null,
            "display": null,
            "flex": null,
            "flex_flow": null,
            "grid_area": "widget007",
            "grid_auto_columns": null,
            "grid_auto_flow": null,
            "grid_auto_rows": null,
            "grid_column": null,
            "grid_gap": null,
            "grid_row": null,
            "grid_template_areas": null,
            "grid_template_columns": null,
            "grid_template_rows": null,
            "height": "auto",
            "justify_content": null,
            "justify_items": null,
            "left": null,
            "margin": null,
            "max_height": null,
            "max_width": null,
            "min_height": null,
            "min_width": null,
            "object_fit": null,
            "object_position": null,
            "order": null,
            "overflow": null,
            "overflow_x": null,
            "overflow_y": null,
            "padding": null,
            "right": null,
            "top": null,
            "visibility": null,
            "width": "auto"
          }
        },
        "9e3398b58a9145e0b225181753c40ae1": {
          "model_module": "@jupyter-widgets/controls",
          "model_name": "ButtonStyleModel",
          "model_module_version": "1.5.0",
          "state": {
            "_model_module": "@jupyter-widgets/controls",
            "_model_module_version": "1.5.0",
            "_model_name": "ButtonStyleModel",
            "_view_count": null,
            "_view_module": "@jupyter-widgets/base",
            "_view_module_version": "1.2.0",
            "_view_name": "StyleView",
            "button_color": null,
            "font_weight": ""
          }
        },
        "2b078ad33ad144d7a23b1224fd38156e": {
          "model_module": "@jupyter-widgets/base",
          "model_name": "LayoutModel",
          "model_module_version": "1.2.0",
          "state": {
            "_model_module": "@jupyter-widgets/base",
            "_model_module_version": "1.2.0",
            "_model_name": "LayoutModel",
            "_view_count": null,
            "_view_module": "@jupyter-widgets/base",
            "_view_module_version": "1.2.0",
            "_view_name": "LayoutView",
            "align_content": null,
            "align_items": null,
            "align_self": null,
            "border": null,
            "bottom": null,
            "display": null,
            "flex": null,
            "flex_flow": null,
            "grid_area": "widget008",
            "grid_auto_columns": null,
            "grid_auto_flow": null,
            "grid_auto_rows": null,
            "grid_column": null,
            "grid_gap": null,
            "grid_row": null,
            "grid_template_areas": null,
            "grid_template_columns": null,
            "grid_template_rows": null,
            "height": "auto",
            "justify_content": null,
            "justify_items": null,
            "left": null,
            "margin": null,
            "max_height": null,
            "max_width": null,
            "min_height": null,
            "min_width": null,
            "object_fit": null,
            "object_position": null,
            "order": null,
            "overflow": null,
            "overflow_x": null,
            "overflow_y": null,
            "padding": null,
            "right": null,
            "top": null,
            "visibility": null,
            "width": "auto"
          }
        },
        "fb0b4916899548858bb7483075915962": {
          "model_module": "@jupyter-widgets/controls",
          "model_name": "ButtonStyleModel",
          "model_module_version": "1.5.0",
          "state": {
            "_model_module": "@jupyter-widgets/controls",
            "_model_module_version": "1.5.0",
            "_model_name": "ButtonStyleModel",
            "_view_count": null,
            "_view_module": "@jupyter-widgets/base",
            "_view_module_version": "1.2.0",
            "_view_name": "StyleView",
            "button_color": null,
            "font_weight": ""
          }
        },
        "a4d5a1068f1e4065b69f5c9f2451ce3a": {
          "model_module": "@jupyter-widgets/base",
          "model_name": "LayoutModel",
          "model_module_version": "1.2.0",
          "state": {
            "_model_module": "@jupyter-widgets/base",
            "_model_module_version": "1.2.0",
            "_model_name": "LayoutModel",
            "_view_count": null,
            "_view_module": "@jupyter-widgets/base",
            "_view_module_version": "1.2.0",
            "_view_name": "LayoutView",
            "align_content": null,
            "align_items": null,
            "align_self": null,
            "border": null,
            "bottom": null,
            "display": null,
            "flex": null,
            "flex_flow": null,
            "grid_area": "widget009",
            "grid_auto_columns": null,
            "grid_auto_flow": null,
            "grid_auto_rows": null,
            "grid_column": null,
            "grid_gap": null,
            "grid_row": null,
            "grid_template_areas": null,
            "grid_template_columns": null,
            "grid_template_rows": null,
            "height": "auto",
            "justify_content": null,
            "justify_items": null,
            "left": null,
            "margin": null,
            "max_height": null,
            "max_width": null,
            "min_height": null,
            "min_width": null,
            "object_fit": null,
            "object_position": null,
            "order": null,
            "overflow": null,
            "overflow_x": null,
            "overflow_y": null,
            "padding": null,
            "right": null,
            "top": null,
            "visibility": null,
            "width": "auto"
          }
        },
        "ec8a7fdb36174be8bcbb0dc95d9df48a": {
          "model_module": "@jupyter-widgets/controls",
          "model_name": "ButtonStyleModel",
          "model_module_version": "1.5.0",
          "state": {
            "_model_module": "@jupyter-widgets/controls",
            "_model_module_version": "1.5.0",
            "_model_name": "ButtonStyleModel",
            "_view_count": null,
            "_view_module": "@jupyter-widgets/base",
            "_view_module_version": "1.2.0",
            "_view_name": "StyleView",
            "button_color": null,
            "font_weight": ""
          }
        },
        "1c0921806c1b4c0a813fb81e586aeb51": {
          "model_module": "@jupyter-widgets/base",
          "model_name": "LayoutModel",
          "model_module_version": "1.2.0",
          "state": {
            "_model_module": "@jupyter-widgets/base",
            "_model_module_version": "1.2.0",
            "_model_name": "LayoutModel",
            "_view_count": null,
            "_view_module": "@jupyter-widgets/base",
            "_view_module_version": "1.2.0",
            "_view_name": "LayoutView",
            "align_content": null,
            "align_items": null,
            "align_self": null,
            "border": null,
            "bottom": null,
            "display": null,
            "flex": null,
            "flex_flow": null,
            "grid_area": "widget010",
            "grid_auto_columns": null,
            "grid_auto_flow": null,
            "grid_auto_rows": null,
            "grid_column": null,
            "grid_gap": null,
            "grid_row": null,
            "grid_template_areas": null,
            "grid_template_columns": null,
            "grid_template_rows": null,
            "height": "auto",
            "justify_content": null,
            "justify_items": null,
            "left": null,
            "margin": null,
            "max_height": null,
            "max_width": null,
            "min_height": null,
            "min_width": null,
            "object_fit": null,
            "object_position": null,
            "order": null,
            "overflow": null,
            "overflow_x": null,
            "overflow_y": null,
            "padding": null,
            "right": null,
            "top": null,
            "visibility": null,
            "width": "auto"
          }
        },
        "3e67915d706643b0b2cc893baa96e8bf": {
          "model_module": "@jupyter-widgets/controls",
          "model_name": "ButtonStyleModel",
          "model_module_version": "1.5.0",
          "state": {
            "_model_module": "@jupyter-widgets/controls",
            "_model_module_version": "1.5.0",
            "_model_name": "ButtonStyleModel",
            "_view_count": null,
            "_view_module": "@jupyter-widgets/base",
            "_view_module_version": "1.2.0",
            "_view_name": "StyleView",
            "button_color": null,
            "font_weight": ""
          }
        },
        "d8789a21b2b64610a3143fb6bc90e1ae": {
          "model_module": "@jupyter-widgets/base",
          "model_name": "LayoutModel",
          "model_module_version": "1.2.0",
          "state": {
            "_model_module": "@jupyter-widgets/base",
            "_model_module_version": "1.2.0",
            "_model_name": "LayoutModel",
            "_view_count": null,
            "_view_module": "@jupyter-widgets/base",
            "_view_module_version": "1.2.0",
            "_view_name": "LayoutView",
            "align_content": null,
            "align_items": null,
            "align_self": null,
            "border": null,
            "bottom": null,
            "display": null,
            "flex": null,
            "flex_flow": null,
            "grid_area": "widget011",
            "grid_auto_columns": null,
            "grid_auto_flow": null,
            "grid_auto_rows": null,
            "grid_column": null,
            "grid_gap": null,
            "grid_row": null,
            "grid_template_areas": null,
            "grid_template_columns": null,
            "grid_template_rows": null,
            "height": "auto",
            "justify_content": null,
            "justify_items": null,
            "left": null,
            "margin": null,
            "max_height": null,
            "max_width": null,
            "min_height": null,
            "min_width": null,
            "object_fit": null,
            "object_position": null,
            "order": null,
            "overflow": null,
            "overflow_x": null,
            "overflow_y": null,
            "padding": null,
            "right": null,
            "top": null,
            "visibility": null,
            "width": "auto"
          }
        },
        "ab381e09a9d14687ba788e134f346de9": {
          "model_module": "@jupyter-widgets/controls",
          "model_name": "ButtonStyleModel",
          "model_module_version": "1.5.0",
          "state": {
            "_model_module": "@jupyter-widgets/controls",
            "_model_module_version": "1.5.0",
            "_model_name": "ButtonStyleModel",
            "_view_count": null,
            "_view_module": "@jupyter-widgets/base",
            "_view_module_version": "1.2.0",
            "_view_name": "StyleView",
            "button_color": null,
            "font_weight": ""
          }
        },
        "7cece4da742a4ebca461b03aba6995f9": {
          "model_module": "@jupyter-widgets/base",
          "model_name": "LayoutModel",
          "model_module_version": "1.2.0",
          "state": {
            "_model_module": "@jupyter-widgets/base",
            "_model_module_version": "1.2.0",
            "_model_name": "LayoutModel",
            "_view_count": null,
            "_view_module": "@jupyter-widgets/base",
            "_view_module_version": "1.2.0",
            "_view_name": "LayoutView",
            "align_content": null,
            "align_items": null,
            "align_self": null,
            "border": null,
            "bottom": null,
            "display": null,
            "flex": null,
            "flex_flow": null,
            "grid_area": "widget012",
            "grid_auto_columns": null,
            "grid_auto_flow": null,
            "grid_auto_rows": null,
            "grid_column": null,
            "grid_gap": null,
            "grid_row": null,
            "grid_template_areas": null,
            "grid_template_columns": null,
            "grid_template_rows": null,
            "height": "auto",
            "justify_content": null,
            "justify_items": null,
            "left": null,
            "margin": null,
            "max_height": null,
            "max_width": null,
            "min_height": null,
            "min_width": null,
            "object_fit": null,
            "object_position": null,
            "order": null,
            "overflow": null,
            "overflow_x": null,
            "overflow_y": null,
            "padding": null,
            "right": null,
            "top": null,
            "visibility": null,
            "width": "auto"
          }
        },
        "b1a43950fd7f48c28e5a5b5e7959880e": {
          "model_module": "@jupyter-widgets/controls",
          "model_name": "ButtonStyleModel",
          "model_module_version": "1.5.0",
          "state": {
            "_model_module": "@jupyter-widgets/controls",
            "_model_module_version": "1.5.0",
            "_model_name": "ButtonStyleModel",
            "_view_count": null,
            "_view_module": "@jupyter-widgets/base",
            "_view_module_version": "1.2.0",
            "_view_name": "StyleView",
            "button_color": null,
            "font_weight": ""
          }
        },
        "ce2c8723d8ed4181975a2cfb9d450a98": {
          "model_module": "@jupyter-widgets/controls",
          "model_name": "GridBoxModel",
          "model_module_version": "1.5.0",
          "state": {
            "_dom_classes": [],
            "_model_module": "@jupyter-widgets/controls",
            "_model_module_version": "1.5.0",
            "_model_name": "GridBoxModel",
            "_view_count": null,
            "_view_module": "@jupyter-widgets/controls",
            "_view_module_version": "1.5.0",
            "_view_name": "GridBoxView",
            "box_style": "",
            "children": [
              "IPY_MODEL_3b1c3152a3bc49bbbcbe85c542e8d73a",
              "IPY_MODEL_6bfd4b8a646f42b390a870d1c20d0f31",
              "IPY_MODEL_e39c67f6df174ad1af09b3ee1751b2e3",
              "IPY_MODEL_6029e292e5c94d76b9f9faa62dca8b8b"
            ],
            "layout": "IPY_MODEL_90559b4ff5574c4ebc8efd07ca2e4731"
          }
        },
        "3b1c3152a3bc49bbbcbe85c542e8d73a": {
          "model_module": "@jupyter-widgets/controls",
          "model_name": "ButtonModel",
          "model_module_version": "1.5.0",
          "state": {
            "_dom_classes": [],
            "_model_module": "@jupyter-widgets/controls",
            "_model_module_version": "1.5.0",
            "_model_name": "ButtonModel",
            "_view_count": null,
            "_view_module": "@jupyter-widgets/controls",
            "_view_module_version": "1.5.0",
            "_view_name": "ButtonView",
            "button_style": "success",
            "description": "One",
            "disabled": false,
            "icon": "",
            "layout": "IPY_MODEL_71b8028bb8f2411098936a7440527f81",
            "style": "IPY_MODEL_3cb79590475e4e2d95a7fa0f54fcf47f",
            "tooltip": ""
          }
        },
        "6bfd4b8a646f42b390a870d1c20d0f31": {
          "model_module": "@jupyter-widgets/controls",
          "model_name": "ButtonModel",
          "model_module_version": "1.5.0",
          "state": {
            "_dom_classes": [],
            "_model_module": "@jupyter-widgets/controls",
            "_model_module_version": "1.5.0",
            "_model_name": "ButtonModel",
            "_view_count": null,
            "_view_module": "@jupyter-widgets/controls",
            "_view_module_version": "1.5.0",
            "_view_name": "ButtonView",
            "button_style": "info",
            "description": "Two",
            "disabled": false,
            "icon": "",
            "layout": "IPY_MODEL_2b739b252d6d4f5fb77cd113f0071aba",
            "style": "IPY_MODEL_9a6698cb5de845e7a74f206122d86f0f",
            "tooltip": ""
          }
        },
        "e39c67f6df174ad1af09b3ee1751b2e3": {
          "model_module": "@jupyter-widgets/controls",
          "model_name": "ButtonModel",
          "model_module_version": "1.5.0",
          "state": {
            "_dom_classes": [],
            "_model_module": "@jupyter-widgets/controls",
            "_model_module_version": "1.5.0",
            "_model_name": "ButtonModel",
            "_view_count": null,
            "_view_module": "@jupyter-widgets/controls",
            "_view_module_version": "1.5.0",
            "_view_name": "ButtonView",
            "button_style": "warning",
            "description": "Three",
            "disabled": false,
            "icon": "",
            "layout": "IPY_MODEL_effd475e6e264ea9a26ec84c0b4da1d7",
            "style": "IPY_MODEL_91774e9979254ba982977f73d0fcd7d9",
            "tooltip": ""
          }
        },
        "6029e292e5c94d76b9f9faa62dca8b8b": {
          "model_module": "@jupyter-widgets/controls",
          "model_name": "ButtonModel",
          "model_module_version": "1.5.0",
          "state": {
            "_dom_classes": [],
            "_model_module": "@jupyter-widgets/controls",
            "_model_module_version": "1.5.0",
            "_model_name": "ButtonModel",
            "_view_count": null,
            "_view_module": "@jupyter-widgets/controls",
            "_view_module_version": "1.5.0",
            "_view_name": "ButtonView",
            "button_style": "danger",
            "description": "Four",
            "disabled": false,
            "icon": "",
            "layout": "IPY_MODEL_3407ff01e246470fa0ca355dbcb3d530",
            "style": "IPY_MODEL_11b0d2ee86f04bb3888af58f5e361243",
            "tooltip": ""
          }
        },
        "90559b4ff5574c4ebc8efd07ca2e4731": {
          "model_module": "@jupyter-widgets/base",
          "model_name": "LayoutModel",
          "model_module_version": "1.2.0",
          "state": {
            "_model_module": "@jupyter-widgets/base",
            "_model_module_version": "1.2.0",
            "_model_name": "LayoutModel",
            "_view_count": null,
            "_view_module": "@jupyter-widgets/base",
            "_view_module_version": "1.2.0",
            "_view_name": "LayoutView",
            "align_content": null,
            "align_items": null,
            "align_self": null,
            "border": null,
            "bottom": null,
            "display": null,
            "flex": null,
            "flex_flow": null,
            "grid_area": null,
            "grid_auto_columns": null,
            "grid_auto_flow": null,
            "grid_auto_rows": null,
            "grid_column": null,
            "grid_gap": null,
            "grid_row": null,
            "grid_template_areas": "\"widget002 widget001 widget001\"\n\"widget002 widget001 widget001\"\n\"widget002 widget001 widget001\"\n\"widget002 widget003 widget004\"",
            "grid_template_columns": "repeat(3, 1fr)",
            "grid_template_rows": "repeat(4, 1fr)",
            "height": "300px",
            "justify_content": null,
            "justify_items": null,
            "left": null,
            "margin": null,
            "max_height": null,
            "max_width": null,
            "min_height": null,
            "min_width": null,
            "object_fit": null,
            "object_position": null,
            "order": null,
            "overflow": null,
            "overflow_x": null,
            "overflow_y": null,
            "padding": null,
            "right": null,
            "top": null,
            "visibility": null,
            "width": null
          }
        },
        "71b8028bb8f2411098936a7440527f81": {
          "model_module": "@jupyter-widgets/base",
          "model_name": "LayoutModel",
          "model_module_version": "1.2.0",
          "state": {
            "_model_module": "@jupyter-widgets/base",
            "_model_module_version": "1.2.0",
            "_model_name": "LayoutModel",
            "_view_count": null,
            "_view_module": "@jupyter-widgets/base",
            "_view_module_version": "1.2.0",
            "_view_name": "LayoutView",
            "align_content": null,
            "align_items": null,
            "align_self": null,
            "border": null,
            "bottom": null,
            "display": null,
            "flex": null,
            "flex_flow": null,
            "grid_area": "widget001",
            "grid_auto_columns": null,
            "grid_auto_flow": null,
            "grid_auto_rows": null,
            "grid_column": null,
            "grid_gap": null,
            "grid_row": null,
            "grid_template_areas": null,
            "grid_template_columns": null,
            "grid_template_rows": null,
            "height": "auto",
            "justify_content": null,
            "justify_items": null,
            "left": null,
            "margin": null,
            "max_height": null,
            "max_width": null,
            "min_height": null,
            "min_width": null,
            "object_fit": null,
            "object_position": null,
            "order": null,
            "overflow": null,
            "overflow_x": null,
            "overflow_y": null,
            "padding": null,
            "right": null,
            "top": null,
            "visibility": null,
            "width": "auto"
          }
        },
        "3cb79590475e4e2d95a7fa0f54fcf47f": {
          "model_module": "@jupyter-widgets/controls",
          "model_name": "ButtonStyleModel",
          "model_module_version": "1.5.0",
          "state": {
            "_model_module": "@jupyter-widgets/controls",
            "_model_module_version": "1.5.0",
            "_model_name": "ButtonStyleModel",
            "_view_count": null,
            "_view_module": "@jupyter-widgets/base",
            "_view_module_version": "1.2.0",
            "_view_name": "StyleView",
            "button_color": null,
            "font_weight": ""
          }
        },
        "2b739b252d6d4f5fb77cd113f0071aba": {
          "model_module": "@jupyter-widgets/base",
          "model_name": "LayoutModel",
          "model_module_version": "1.2.0",
          "state": {
            "_model_module": "@jupyter-widgets/base",
            "_model_module_version": "1.2.0",
            "_model_name": "LayoutModel",
            "_view_count": null,
            "_view_module": "@jupyter-widgets/base",
            "_view_module_version": "1.2.0",
            "_view_name": "LayoutView",
            "align_content": null,
            "align_items": null,
            "align_self": null,
            "border": null,
            "bottom": null,
            "display": null,
            "flex": null,
            "flex_flow": null,
            "grid_area": "widget002",
            "grid_auto_columns": null,
            "grid_auto_flow": null,
            "grid_auto_rows": null,
            "grid_column": null,
            "grid_gap": null,
            "grid_row": null,
            "grid_template_areas": null,
            "grid_template_columns": null,
            "grid_template_rows": null,
            "height": "auto",
            "justify_content": null,
            "justify_items": null,
            "left": null,
            "margin": null,
            "max_height": null,
            "max_width": null,
            "min_height": null,
            "min_width": null,
            "object_fit": null,
            "object_position": null,
            "order": null,
            "overflow": null,
            "overflow_x": null,
            "overflow_y": null,
            "padding": null,
            "right": null,
            "top": null,
            "visibility": null,
            "width": "auto"
          }
        },
        "9a6698cb5de845e7a74f206122d86f0f": {
          "model_module": "@jupyter-widgets/controls",
          "model_name": "ButtonStyleModel",
          "model_module_version": "1.5.0",
          "state": {
            "_model_module": "@jupyter-widgets/controls",
            "_model_module_version": "1.5.0",
            "_model_name": "ButtonStyleModel",
            "_view_count": null,
            "_view_module": "@jupyter-widgets/base",
            "_view_module_version": "1.2.0",
            "_view_name": "StyleView",
            "button_color": null,
            "font_weight": ""
          }
        },
        "effd475e6e264ea9a26ec84c0b4da1d7": {
          "model_module": "@jupyter-widgets/base",
          "model_name": "LayoutModel",
          "model_module_version": "1.2.0",
          "state": {
            "_model_module": "@jupyter-widgets/base",
            "_model_module_version": "1.2.0",
            "_model_name": "LayoutModel",
            "_view_count": null,
            "_view_module": "@jupyter-widgets/base",
            "_view_module_version": "1.2.0",
            "_view_name": "LayoutView",
            "align_content": null,
            "align_items": null,
            "align_self": null,
            "border": null,
            "bottom": null,
            "display": null,
            "flex": null,
            "flex_flow": null,
            "grid_area": "widget003",
            "grid_auto_columns": null,
            "grid_auto_flow": null,
            "grid_auto_rows": null,
            "grid_column": null,
            "grid_gap": null,
            "grid_row": null,
            "grid_template_areas": null,
            "grid_template_columns": null,
            "grid_template_rows": null,
            "height": "auto",
            "justify_content": null,
            "justify_items": null,
            "left": null,
            "margin": null,
            "max_height": null,
            "max_width": null,
            "min_height": null,
            "min_width": null,
            "object_fit": null,
            "object_position": null,
            "order": null,
            "overflow": null,
            "overflow_x": null,
            "overflow_y": null,
            "padding": null,
            "right": null,
            "top": null,
            "visibility": null,
            "width": "auto"
          }
        },
        "91774e9979254ba982977f73d0fcd7d9": {
          "model_module": "@jupyter-widgets/controls",
          "model_name": "ButtonStyleModel",
          "model_module_version": "1.5.0",
          "state": {
            "_model_module": "@jupyter-widgets/controls",
            "_model_module_version": "1.5.0",
            "_model_name": "ButtonStyleModel",
            "_view_count": null,
            "_view_module": "@jupyter-widgets/base",
            "_view_module_version": "1.2.0",
            "_view_name": "StyleView",
            "button_color": null,
            "font_weight": ""
          }
        },
        "3407ff01e246470fa0ca355dbcb3d530": {
          "model_module": "@jupyter-widgets/base",
          "model_name": "LayoutModel",
          "model_module_version": "1.2.0",
          "state": {
            "_model_module": "@jupyter-widgets/base",
            "_model_module_version": "1.2.0",
            "_model_name": "LayoutModel",
            "_view_count": null,
            "_view_module": "@jupyter-widgets/base",
            "_view_module_version": "1.2.0",
            "_view_name": "LayoutView",
            "align_content": null,
            "align_items": null,
            "align_self": null,
            "border": null,
            "bottom": null,
            "display": null,
            "flex": null,
            "flex_flow": null,
            "grid_area": "widget004",
            "grid_auto_columns": null,
            "grid_auto_flow": null,
            "grid_auto_rows": null,
            "grid_column": null,
            "grid_gap": null,
            "grid_row": null,
            "grid_template_areas": null,
            "grid_template_columns": null,
            "grid_template_rows": null,
            "height": "auto",
            "justify_content": null,
            "justify_items": null,
            "left": null,
            "margin": null,
            "max_height": null,
            "max_width": null,
            "min_height": null,
            "min_width": null,
            "object_fit": null,
            "object_position": null,
            "order": null,
            "overflow": null,
            "overflow_x": null,
            "overflow_y": null,
            "padding": null,
            "right": null,
            "top": null,
            "visibility": null,
            "width": "auto"
          }
        },
        "11b0d2ee86f04bb3888af58f5e361243": {
          "model_module": "@jupyter-widgets/controls",
          "model_name": "ButtonStyleModel",
          "model_module_version": "1.5.0",
          "state": {
            "_model_module": "@jupyter-widgets/controls",
            "_model_module_version": "1.5.0",
            "_model_name": "ButtonStyleModel",
            "_view_count": null,
            "_view_module": "@jupyter-widgets/base",
            "_view_module_version": "1.2.0",
            "_view_name": "StyleView",
            "button_color": null,
            "font_weight": ""
          }
        },
        "b5b78e81f62e40219d26c81c90800b5d": {
          "model_module": "@jupyter-widgets/controls",
          "model_name": "AccordionModel",
          "model_module_version": "1.5.0",
          "state": {
            "_dom_classes": [],
            "_model_module": "@jupyter-widgets/controls",
            "_model_module_version": "1.5.0",
            "_model_name": "AccordionModel",
            "_titles": {
              "0": "Slider",
              "1": "Text"
            },
            "_view_count": null,
            "_view_module": "@jupyter-widgets/controls",
            "_view_module_version": "1.5.0",
            "_view_name": "AccordionView",
            "box_style": "",
            "children": [
              "IPY_MODEL_744a3d45eadc488da2e98be1dff1e5d3",
              "IPY_MODEL_7c76ad50c6864c7797a465b575ca1808"
            ],
            "layout": "IPY_MODEL_333d15c8869f4adbad7d54345b2a0201",
            "selected_index": 0
          }
        },
        "744a3d45eadc488da2e98be1dff1e5d3": {
          "model_module": "@jupyter-widgets/controls",
          "model_name": "IntSliderModel",
          "model_module_version": "1.5.0",
          "state": {
            "_dom_classes": [],
            "_model_module": "@jupyter-widgets/controls",
            "_model_module_version": "1.5.0",
            "_model_name": "IntSliderModel",
            "_view_count": null,
            "_view_module": "@jupyter-widgets/controls",
            "_view_module_version": "1.5.0",
            "_view_name": "IntSliderView",
            "continuous_update": true,
            "description": "Slider",
            "description_tooltip": null,
            "disabled": false,
            "layout": "IPY_MODEL_4197cc4ae7c0423883220e2d314c0e88",
            "max": 100,
            "min": 0,
            "orientation": "horizontal",
            "readout": true,
            "readout_format": "d",
            "step": 1,
            "style": "IPY_MODEL_c47be2a7bf234a87be0530cc98774f69",
            "value": 0
          }
        },
        "7c76ad50c6864c7797a465b575ca1808": {
          "model_module": "@jupyter-widgets/controls",
          "model_name": "TextModel",
          "model_module_version": "1.5.0",
          "state": {
            "_dom_classes": [],
            "_model_module": "@jupyter-widgets/controls",
            "_model_module_version": "1.5.0",
            "_model_name": "TextModel",
            "_view_count": null,
            "_view_module": "@jupyter-widgets/controls",
            "_view_module_version": "1.5.0",
            "_view_name": "TextView",
            "continuous_update": true,
            "description": "Text",
            "description_tooltip": null,
            "disabled": false,
            "layout": "IPY_MODEL_84342ad8f08845acad41737b13e93269",
            "placeholder": "​",
            "style": "IPY_MODEL_17ff2f4b4b254573923d00165a274eaa",
            "value": ""
          }
        },
        "333d15c8869f4adbad7d54345b2a0201": {
          "model_module": "@jupyter-widgets/base",
          "model_name": "LayoutModel",
          "model_module_version": "1.2.0",
          "state": {
            "_model_module": "@jupyter-widgets/base",
            "_model_module_version": "1.2.0",
            "_model_name": "LayoutModel",
            "_view_count": null,
            "_view_module": "@jupyter-widgets/base",
            "_view_module_version": "1.2.0",
            "_view_name": "LayoutView",
            "align_content": null,
            "align_items": null,
            "align_self": null,
            "border": null,
            "bottom": null,
            "display": null,
            "flex": null,
            "flex_flow": null,
            "grid_area": null,
            "grid_auto_columns": null,
            "grid_auto_flow": null,
            "grid_auto_rows": null,
            "grid_column": null,
            "grid_gap": null,
            "grid_row": null,
            "grid_template_areas": null,
            "grid_template_columns": null,
            "grid_template_rows": null,
            "height": null,
            "justify_content": null,
            "justify_items": null,
            "left": null,
            "margin": null,
            "max_height": null,
            "max_width": null,
            "min_height": null,
            "min_width": null,
            "object_fit": null,
            "object_position": null,
            "order": null,
            "overflow": null,
            "overflow_x": null,
            "overflow_y": null,
            "padding": null,
            "right": null,
            "top": null,
            "visibility": null,
            "width": null
          }
        },
        "4197cc4ae7c0423883220e2d314c0e88": {
          "model_module": "@jupyter-widgets/base",
          "model_name": "LayoutModel",
          "model_module_version": "1.2.0",
          "state": {
            "_model_module": "@jupyter-widgets/base",
            "_model_module_version": "1.2.0",
            "_model_name": "LayoutModel",
            "_view_count": null,
            "_view_module": "@jupyter-widgets/base",
            "_view_module_version": "1.2.0",
            "_view_name": "LayoutView",
            "align_content": null,
            "align_items": null,
            "align_self": null,
            "border": null,
            "bottom": null,
            "display": null,
            "flex": null,
            "flex_flow": null,
            "grid_area": null,
            "grid_auto_columns": null,
            "grid_auto_flow": null,
            "grid_auto_rows": null,
            "grid_column": null,
            "grid_gap": null,
            "grid_row": null,
            "grid_template_areas": null,
            "grid_template_columns": null,
            "grid_template_rows": null,
            "height": null,
            "justify_content": null,
            "justify_items": null,
            "left": null,
            "margin": null,
            "max_height": null,
            "max_width": null,
            "min_height": null,
            "min_width": null,
            "object_fit": null,
            "object_position": null,
            "order": null,
            "overflow": null,
            "overflow_x": null,
            "overflow_y": null,
            "padding": null,
            "right": null,
            "top": null,
            "visibility": null,
            "width": null
          }
        },
        "c47be2a7bf234a87be0530cc98774f69": {
          "model_module": "@jupyter-widgets/controls",
          "model_name": "SliderStyleModel",
          "model_module_version": "1.5.0",
          "state": {
            "_model_module": "@jupyter-widgets/controls",
            "_model_module_version": "1.5.0",
            "_model_name": "SliderStyleModel",
            "_view_count": null,
            "_view_module": "@jupyter-widgets/base",
            "_view_module_version": "1.2.0",
            "_view_name": "StyleView",
            "description_width": "",
            "handle_color": null
          }
        },
        "84342ad8f08845acad41737b13e93269": {
          "model_module": "@jupyter-widgets/base",
          "model_name": "LayoutModel",
          "model_module_version": "1.2.0",
          "state": {
            "_model_module": "@jupyter-widgets/base",
            "_model_module_version": "1.2.0",
            "_model_name": "LayoutModel",
            "_view_count": null,
            "_view_module": "@jupyter-widgets/base",
            "_view_module_version": "1.2.0",
            "_view_name": "LayoutView",
            "align_content": null,
            "align_items": null,
            "align_self": null,
            "border": null,
            "bottom": null,
            "display": null,
            "flex": null,
            "flex_flow": null,
            "grid_area": null,
            "grid_auto_columns": null,
            "grid_auto_flow": null,
            "grid_auto_rows": null,
            "grid_column": null,
            "grid_gap": null,
            "grid_row": null,
            "grid_template_areas": null,
            "grid_template_columns": null,
            "grid_template_rows": null,
            "height": null,
            "justify_content": null,
            "justify_items": null,
            "left": null,
            "margin": null,
            "max_height": null,
            "max_width": null,
            "min_height": null,
            "min_width": null,
            "object_fit": null,
            "object_position": null,
            "order": null,
            "overflow": null,
            "overflow_x": null,
            "overflow_y": null,
            "padding": null,
            "right": null,
            "top": null,
            "visibility": null,
            "width": null
          }
        },
        "17ff2f4b4b254573923d00165a274eaa": {
          "model_module": "@jupyter-widgets/controls",
          "model_name": "DescriptionStyleModel",
          "model_module_version": "1.5.0",
          "state": {
            "_model_module": "@jupyter-widgets/controls",
            "_model_module_version": "1.5.0",
            "_model_name": "DescriptionStyleModel",
            "_view_count": null,
            "_view_module": "@jupyter-widgets/base",
            "_view_module_version": "1.2.0",
            "_view_name": "StyleView",
            "description_width": ""
          }
        },
        "99d2a69873ff4e398d03f4f3466e2165": {
          "model_module": "@jupyter-widgets/controls",
          "model_name": "TabModel",
          "model_module_version": "1.5.0",
          "state": {
            "_dom_classes": [],
            "_model_module": "@jupyter-widgets/controls",
            "_model_module_version": "1.5.0",
            "_model_name": "TabModel",
            "_titles": {
              "0": "Aba 0",
              "1": "Aba 1",
              "2": "Aba 2",
              "3": "Aba 3",
              "4": "Aba 4"
            },
            "_view_count": null,
            "_view_module": "@jupyter-widgets/controls",
            "_view_module_version": "1.5.0",
            "_view_name": "TabView",
            "box_style": "",
            "children": [
              "IPY_MODEL_6ca56645f3dc47318342fbfdb7aa9ad8",
              "IPY_MODEL_7af16040e7cf4d89b5b3da6b8b68e058",
              "IPY_MODEL_7a45a0f150344de4acb4654df5ba99e9",
              "IPY_MODEL_c5b1c7bca74140ce9bba0cdcff65e456",
              "IPY_MODEL_76a242f58f4b4b7189e7acef9cd323fd"
            ],
            "layout": "IPY_MODEL_311efbe3dba04af7b2e8d0e412525322",
            "selected_index": 1
          }
        },
        "6ca56645f3dc47318342fbfdb7aa9ad8": {
          "model_module": "@jupyter-widgets/controls",
          "model_name": "TextModel",
          "model_module_version": "1.5.0",
          "state": {
            "_dom_classes": [],
            "_model_module": "@jupyter-widgets/controls",
            "_model_module_version": "1.5.0",
            "_model_name": "TextModel",
            "_view_count": null,
            "_view_module": "@jupyter-widgets/controls",
            "_view_module_version": "1.5.0",
            "_view_name": "TextView",
            "continuous_update": true,
            "description": "P0",
            "description_tooltip": null,
            "disabled": false,
            "layout": "IPY_MODEL_feb141e3614e43feb18638496446a22c",
            "placeholder": "​",
            "style": "IPY_MODEL_780c4695e2c146edb69a3437e2405c9f",
            "value": ""
          }
        },
        "7af16040e7cf4d89b5b3da6b8b68e058": {
          "model_module": "@jupyter-widgets/controls",
          "model_name": "TextModel",
          "model_module_version": "1.5.0",
          "state": {
            "_dom_classes": [],
            "_model_module": "@jupyter-widgets/controls",
            "_model_module_version": "1.5.0",
            "_model_name": "TextModel",
            "_view_count": null,
            "_view_module": "@jupyter-widgets/controls",
            "_view_module_version": "1.5.0",
            "_view_name": "TextView",
            "continuous_update": true,
            "description": "P1",
            "description_tooltip": null,
            "disabled": false,
            "layout": "IPY_MODEL_47c0af503c01446e9fc1c82c10e51580",
            "placeholder": "​",
            "style": "IPY_MODEL_2f21cba522d943478f16f5ff21fa2e37",
            "value": ""
          }
        },
        "7a45a0f150344de4acb4654df5ba99e9": {
          "model_module": "@jupyter-widgets/controls",
          "model_name": "TextModel",
          "model_module_version": "1.5.0",
          "state": {
            "_dom_classes": [],
            "_model_module": "@jupyter-widgets/controls",
            "_model_module_version": "1.5.0",
            "_model_name": "TextModel",
            "_view_count": null,
            "_view_module": "@jupyter-widgets/controls",
            "_view_module_version": "1.5.0",
            "_view_name": "TextView",
            "continuous_update": true,
            "description": "P2",
            "description_tooltip": null,
            "disabled": false,
            "layout": "IPY_MODEL_cba9454651a9402fb45bbbfc7d9f7107",
            "placeholder": "​",
            "style": "IPY_MODEL_02dfa1df5cc04185a874cda71965b9e8",
            "value": ""
          }
        },
        "c5b1c7bca74140ce9bba0cdcff65e456": {
          "model_module": "@jupyter-widgets/controls",
          "model_name": "TextModel",
          "model_module_version": "1.5.0",
          "state": {
            "_dom_classes": [],
            "_model_module": "@jupyter-widgets/controls",
            "_model_module_version": "1.5.0",
            "_model_name": "TextModel",
            "_view_count": null,
            "_view_module": "@jupyter-widgets/controls",
            "_view_module_version": "1.5.0",
            "_view_name": "TextView",
            "continuous_update": true,
            "description": "P3",
            "description_tooltip": null,
            "disabled": false,
            "layout": "IPY_MODEL_656df941b05c4c78bf644600de730705",
            "placeholder": "​",
            "style": "IPY_MODEL_c4f1e389b5dd409f8de03680c8f4401b",
            "value": ""
          }
        },
        "76a242f58f4b4b7189e7acef9cd323fd": {
          "model_module": "@jupyter-widgets/controls",
          "model_name": "TextModel",
          "model_module_version": "1.5.0",
          "state": {
            "_dom_classes": [],
            "_model_module": "@jupyter-widgets/controls",
            "_model_module_version": "1.5.0",
            "_model_name": "TextModel",
            "_view_count": null,
            "_view_module": "@jupyter-widgets/controls",
            "_view_module_version": "1.5.0",
            "_view_name": "TextView",
            "continuous_update": true,
            "description": "P4",
            "description_tooltip": null,
            "disabled": false,
            "layout": "IPY_MODEL_15f7e197ffa6432f8915b020a9e89b53",
            "placeholder": "​",
            "style": "IPY_MODEL_f91449002ec7454f873c216a60942e42",
            "value": ""
          }
        },
        "311efbe3dba04af7b2e8d0e412525322": {
          "model_module": "@jupyter-widgets/base",
          "model_name": "LayoutModel",
          "model_module_version": "1.2.0",
          "state": {
            "_model_module": "@jupyter-widgets/base",
            "_model_module_version": "1.2.0",
            "_model_name": "LayoutModel",
            "_view_count": null,
            "_view_module": "@jupyter-widgets/base",
            "_view_module_version": "1.2.0",
            "_view_name": "LayoutView",
            "align_content": null,
            "align_items": null,
            "align_self": null,
            "border": null,
            "bottom": null,
            "display": null,
            "flex": null,
            "flex_flow": null,
            "grid_area": null,
            "grid_auto_columns": null,
            "grid_auto_flow": null,
            "grid_auto_rows": null,
            "grid_column": null,
            "grid_gap": null,
            "grid_row": null,
            "grid_template_areas": null,
            "grid_template_columns": null,
            "grid_template_rows": null,
            "height": null,
            "justify_content": null,
            "justify_items": null,
            "left": null,
            "margin": null,
            "max_height": null,
            "max_width": null,
            "min_height": null,
            "min_width": null,
            "object_fit": null,
            "object_position": null,
            "order": null,
            "overflow": null,
            "overflow_x": null,
            "overflow_y": null,
            "padding": null,
            "right": null,
            "top": null,
            "visibility": null,
            "width": null
          }
        },
        "feb141e3614e43feb18638496446a22c": {
          "model_module": "@jupyter-widgets/base",
          "model_name": "LayoutModel",
          "model_module_version": "1.2.0",
          "state": {
            "_model_module": "@jupyter-widgets/base",
            "_model_module_version": "1.2.0",
            "_model_name": "LayoutModel",
            "_view_count": null,
            "_view_module": "@jupyter-widgets/base",
            "_view_module_version": "1.2.0",
            "_view_name": "LayoutView",
            "align_content": null,
            "align_items": null,
            "align_self": null,
            "border": null,
            "bottom": null,
            "display": null,
            "flex": null,
            "flex_flow": null,
            "grid_area": null,
            "grid_auto_columns": null,
            "grid_auto_flow": null,
            "grid_auto_rows": null,
            "grid_column": null,
            "grid_gap": null,
            "grid_row": null,
            "grid_template_areas": null,
            "grid_template_columns": null,
            "grid_template_rows": null,
            "height": null,
            "justify_content": null,
            "justify_items": null,
            "left": null,
            "margin": null,
            "max_height": null,
            "max_width": null,
            "min_height": null,
            "min_width": null,
            "object_fit": null,
            "object_position": null,
            "order": null,
            "overflow": null,
            "overflow_x": null,
            "overflow_y": null,
            "padding": null,
            "right": null,
            "top": null,
            "visibility": null,
            "width": null
          }
        },
        "780c4695e2c146edb69a3437e2405c9f": {
          "model_module": "@jupyter-widgets/controls",
          "model_name": "DescriptionStyleModel",
          "model_module_version": "1.5.0",
          "state": {
            "_model_module": "@jupyter-widgets/controls",
            "_model_module_version": "1.5.0",
            "_model_name": "DescriptionStyleModel",
            "_view_count": null,
            "_view_module": "@jupyter-widgets/base",
            "_view_module_version": "1.2.0",
            "_view_name": "StyleView",
            "description_width": ""
          }
        },
        "47c0af503c01446e9fc1c82c10e51580": {
          "model_module": "@jupyter-widgets/base",
          "model_name": "LayoutModel",
          "model_module_version": "1.2.0",
          "state": {
            "_model_module": "@jupyter-widgets/base",
            "_model_module_version": "1.2.0",
            "_model_name": "LayoutModel",
            "_view_count": null,
            "_view_module": "@jupyter-widgets/base",
            "_view_module_version": "1.2.0",
            "_view_name": "LayoutView",
            "align_content": null,
            "align_items": null,
            "align_self": null,
            "border": null,
            "bottom": null,
            "display": null,
            "flex": null,
            "flex_flow": null,
            "grid_area": null,
            "grid_auto_columns": null,
            "grid_auto_flow": null,
            "grid_auto_rows": null,
            "grid_column": null,
            "grid_gap": null,
            "grid_row": null,
            "grid_template_areas": null,
            "grid_template_columns": null,
            "grid_template_rows": null,
            "height": null,
            "justify_content": null,
            "justify_items": null,
            "left": null,
            "margin": null,
            "max_height": null,
            "max_width": null,
            "min_height": null,
            "min_width": null,
            "object_fit": null,
            "object_position": null,
            "order": null,
            "overflow": null,
            "overflow_x": null,
            "overflow_y": null,
            "padding": null,
            "right": null,
            "top": null,
            "visibility": null,
            "width": null
          }
        },
        "2f21cba522d943478f16f5ff21fa2e37": {
          "model_module": "@jupyter-widgets/controls",
          "model_name": "DescriptionStyleModel",
          "model_module_version": "1.5.0",
          "state": {
            "_model_module": "@jupyter-widgets/controls",
            "_model_module_version": "1.5.0",
            "_model_name": "DescriptionStyleModel",
            "_view_count": null,
            "_view_module": "@jupyter-widgets/base",
            "_view_module_version": "1.2.0",
            "_view_name": "StyleView",
            "description_width": ""
          }
        },
        "cba9454651a9402fb45bbbfc7d9f7107": {
          "model_module": "@jupyter-widgets/base",
          "model_name": "LayoutModel",
          "model_module_version": "1.2.0",
          "state": {
            "_model_module": "@jupyter-widgets/base",
            "_model_module_version": "1.2.0",
            "_model_name": "LayoutModel",
            "_view_count": null,
            "_view_module": "@jupyter-widgets/base",
            "_view_module_version": "1.2.0",
            "_view_name": "LayoutView",
            "align_content": null,
            "align_items": null,
            "align_self": null,
            "border": null,
            "bottom": null,
            "display": null,
            "flex": null,
            "flex_flow": null,
            "grid_area": null,
            "grid_auto_columns": null,
            "grid_auto_flow": null,
            "grid_auto_rows": null,
            "grid_column": null,
            "grid_gap": null,
            "grid_row": null,
            "grid_template_areas": null,
            "grid_template_columns": null,
            "grid_template_rows": null,
            "height": null,
            "justify_content": null,
            "justify_items": null,
            "left": null,
            "margin": null,
            "max_height": null,
            "max_width": null,
            "min_height": null,
            "min_width": null,
            "object_fit": null,
            "object_position": null,
            "order": null,
            "overflow": null,
            "overflow_x": null,
            "overflow_y": null,
            "padding": null,
            "right": null,
            "top": null,
            "visibility": null,
            "width": null
          }
        },
        "02dfa1df5cc04185a874cda71965b9e8": {
          "model_module": "@jupyter-widgets/controls",
          "model_name": "DescriptionStyleModel",
          "model_module_version": "1.5.0",
          "state": {
            "_model_module": "@jupyter-widgets/controls",
            "_model_module_version": "1.5.0",
            "_model_name": "DescriptionStyleModel",
            "_view_count": null,
            "_view_module": "@jupyter-widgets/base",
            "_view_module_version": "1.2.0",
            "_view_name": "StyleView",
            "description_width": ""
          }
        },
        "656df941b05c4c78bf644600de730705": {
          "model_module": "@jupyter-widgets/base",
          "model_name": "LayoutModel",
          "model_module_version": "1.2.0",
          "state": {
            "_model_module": "@jupyter-widgets/base",
            "_model_module_version": "1.2.0",
            "_model_name": "LayoutModel",
            "_view_count": null,
            "_view_module": "@jupyter-widgets/base",
            "_view_module_version": "1.2.0",
            "_view_name": "LayoutView",
            "align_content": null,
            "align_items": null,
            "align_self": null,
            "border": null,
            "bottom": null,
            "display": null,
            "flex": null,
            "flex_flow": null,
            "grid_area": null,
            "grid_auto_columns": null,
            "grid_auto_flow": null,
            "grid_auto_rows": null,
            "grid_column": null,
            "grid_gap": null,
            "grid_row": null,
            "grid_template_areas": null,
            "grid_template_columns": null,
            "grid_template_rows": null,
            "height": null,
            "justify_content": null,
            "justify_items": null,
            "left": null,
            "margin": null,
            "max_height": null,
            "max_width": null,
            "min_height": null,
            "min_width": null,
            "object_fit": null,
            "object_position": null,
            "order": null,
            "overflow": null,
            "overflow_x": null,
            "overflow_y": null,
            "padding": null,
            "right": null,
            "top": null,
            "visibility": null,
            "width": null
          }
        },
        "c4f1e389b5dd409f8de03680c8f4401b": {
          "model_module": "@jupyter-widgets/controls",
          "model_name": "DescriptionStyleModel",
          "model_module_version": "1.5.0",
          "state": {
            "_model_module": "@jupyter-widgets/controls",
            "_model_module_version": "1.5.0",
            "_model_name": "DescriptionStyleModel",
            "_view_count": null,
            "_view_module": "@jupyter-widgets/base",
            "_view_module_version": "1.2.0",
            "_view_name": "StyleView",
            "description_width": ""
          }
        },
        "15f7e197ffa6432f8915b020a9e89b53": {
          "model_module": "@jupyter-widgets/base",
          "model_name": "LayoutModel",
          "model_module_version": "1.2.0",
          "state": {
            "_model_module": "@jupyter-widgets/base",
            "_model_module_version": "1.2.0",
            "_model_name": "LayoutModel",
            "_view_count": null,
            "_view_module": "@jupyter-widgets/base",
            "_view_module_version": "1.2.0",
            "_view_name": "LayoutView",
            "align_content": null,
            "align_items": null,
            "align_self": null,
            "border": null,
            "bottom": null,
            "display": null,
            "flex": null,
            "flex_flow": null,
            "grid_area": null,
            "grid_auto_columns": null,
            "grid_auto_flow": null,
            "grid_auto_rows": null,
            "grid_column": null,
            "grid_gap": null,
            "grid_row": null,
            "grid_template_areas": null,
            "grid_template_columns": null,
            "grid_template_rows": null,
            "height": null,
            "justify_content": null,
            "justify_items": null,
            "left": null,
            "margin": null,
            "max_height": null,
            "max_width": null,
            "min_height": null,
            "min_width": null,
            "object_fit": null,
            "object_position": null,
            "order": null,
            "overflow": null,
            "overflow_x": null,
            "overflow_y": null,
            "padding": null,
            "right": null,
            "top": null,
            "visibility": null,
            "width": null
          }
        },
        "f91449002ec7454f873c216a60942e42": {
          "model_module": "@jupyter-widgets/controls",
          "model_name": "DescriptionStyleModel",
          "model_module_version": "1.5.0",
          "state": {
            "_model_module": "@jupyter-widgets/controls",
            "_model_module_version": "1.5.0",
            "_model_name": "DescriptionStyleModel",
            "_view_count": null,
            "_view_module": "@jupyter-widgets/base",
            "_view_module_version": "1.2.0",
            "_view_name": "StyleView",
            "description_width": ""
          }
        },
        "920f6cd376ab4f6586b31598a0971ebf": {
          "model_module": "@jupyter-widgets/controls",
          "model_name": "GridBoxModel",
          "model_module_version": "1.5.0",
          "state": {
            "_dom_classes": [],
            "_model_module": "@jupyter-widgets/controls",
            "_model_module_version": "1.5.0",
            "_model_name": "GridBoxModel",
            "_view_count": null,
            "_view_module": "@jupyter-widgets/controls",
            "_view_module_version": "1.5.0",
            "_view_name": "GridBoxView",
            "box_style": "",
            "children": [
              "IPY_MODEL_e79ed30722eb46ca83ea9d7804006518",
              "IPY_MODEL_af63da3cdcb544daa914a42e316ffcd3",
              "IPY_MODEL_8cb5a20cbec54266808e247f95dff086",
              "IPY_MODEL_ba2d05636c54425cbdd3a717a7e6c77b",
              "IPY_MODEL_a8693126d8e9421c95c865e34f5458e8"
            ],
            "layout": "IPY_MODEL_f7d765b02e6a46b7beb77ebf00f20343"
          }
        },
        "e79ed30722eb46ca83ea9d7804006518": {
          "model_module": "@jupyter-widgets/controls",
          "model_name": "ButtonModel",
          "model_module_version": "1.5.0",
          "state": {
            "_dom_classes": [],
            "_model_module": "@jupyter-widgets/controls",
            "_model_module_version": "1.5.0",
            "_model_name": "ButtonModel",
            "_view_count": null,
            "_view_module": "@jupyter-widgets/controls",
            "_view_module_version": "1.5.0",
            "_view_name": "ButtonView",
            "button_style": "success",
            "description": "Header",
            "disabled": false,
            "icon": "",
            "layout": "IPY_MODEL_4b66753cda4f40db92aaac0afa963acd",
            "style": "IPY_MODEL_4006e7bb055342978608b005b730ae75",
            "tooltip": ""
          }
        },
        "af63da3cdcb544daa914a42e316ffcd3": {
          "model_module": "@jupyter-widgets/controls",
          "model_name": "ButtonModel",
          "model_module_version": "1.5.0",
          "state": {
            "_dom_classes": [],
            "_model_module": "@jupyter-widgets/controls",
            "_model_module_version": "1.5.0",
            "_model_name": "ButtonModel",
            "_view_count": null,
            "_view_module": "@jupyter-widgets/controls",
            "_view_module_version": "1.5.0",
            "_view_name": "ButtonView",
            "button_style": "success",
            "description": "Footer",
            "disabled": false,
            "icon": "",
            "layout": "IPY_MODEL_ae677dfc9239408481ac22c7653da3d2",
            "style": "IPY_MODEL_6dfeb881192944448e120d65d3dbd8cb",
            "tooltip": ""
          }
        },
        "8cb5a20cbec54266808e247f95dff086": {
          "model_module": "@jupyter-widgets/controls",
          "model_name": "ButtonModel",
          "model_module_version": "1.5.0",
          "state": {
            "_dom_classes": [],
            "_model_module": "@jupyter-widgets/controls",
            "_model_module_version": "1.5.0",
            "_model_name": "ButtonModel",
            "_view_count": null,
            "_view_module": "@jupyter-widgets/controls",
            "_view_module_version": "1.5.0",
            "_view_name": "ButtonView",
            "button_style": "info",
            "description": "Left",
            "disabled": false,
            "icon": "",
            "layout": "IPY_MODEL_f6f0bd3ed4024268870a191a3ef914e8",
            "style": "IPY_MODEL_41e021d4f545413987053252c554934b",
            "tooltip": ""
          }
        },
        "ba2d05636c54425cbdd3a717a7e6c77b": {
          "model_module": "@jupyter-widgets/controls",
          "model_name": "ButtonModel",
          "model_module_version": "1.5.0",
          "state": {
            "_dom_classes": [],
            "_model_module": "@jupyter-widgets/controls",
            "_model_module_version": "1.5.0",
            "_model_name": "ButtonModel",
            "_view_count": null,
            "_view_module": "@jupyter-widgets/controls",
            "_view_module_version": "1.5.0",
            "_view_name": "ButtonView",
            "button_style": "info",
            "description": "Right",
            "disabled": false,
            "icon": "",
            "layout": "IPY_MODEL_428395500eb0434a8d7ff21152a182d9",
            "style": "IPY_MODEL_7150860f95c848c6a2bacb1fe92b407b",
            "tooltip": ""
          }
        },
        "a8693126d8e9421c95c865e34f5458e8": {
          "model_module": "@jupyter-widgets/controls",
          "model_name": "ButtonModel",
          "model_module_version": "1.5.0",
          "state": {
            "_dom_classes": [],
            "_model_module": "@jupyter-widgets/controls",
            "_model_module_version": "1.5.0",
            "_model_name": "ButtonModel",
            "_view_count": null,
            "_view_module": "@jupyter-widgets/controls",
            "_view_module_version": "1.5.0",
            "_view_name": "ButtonView",
            "button_style": "warning",
            "description": "Center",
            "disabled": false,
            "icon": "",
            "layout": "IPY_MODEL_346d16bb23684eb09487d3dc80df2082",
            "style": "IPY_MODEL_d3e3d0276c9440fdadd6a9bf514c9f5b",
            "tooltip": ""
          }
        },
        "f7d765b02e6a46b7beb77ebf00f20343": {
          "model_module": "@jupyter-widgets/base",
          "model_name": "LayoutModel",
          "model_module_version": "1.2.0",
          "state": {
            "_model_module": "@jupyter-widgets/base",
            "_model_module_version": "1.2.0",
            "_model_name": "LayoutModel",
            "_view_count": null,
            "_view_module": "@jupyter-widgets/base",
            "_view_module_version": "1.2.0",
            "_view_name": "LayoutView",
            "align_content": null,
            "align_items": null,
            "align_self": null,
            "border": null,
            "bottom": null,
            "display": null,
            "flex": null,
            "flex_flow": null,
            "grid_area": null,
            "grid_auto_columns": null,
            "grid_auto_flow": null,
            "grid_auto_rows": null,
            "grid_column": null,
            "grid_gap": null,
            "grid_row": null,
            "grid_template_areas": "\"header header header\"\n\"left-sidebar center right-sidebar\"\n\"footer footer footer\"",
            "grid_template_columns": "1fr 2fr 1fr",
            "grid_template_rows": "1fr 3fr 1fr",
            "height": "300px",
            "justify_content": null,
            "justify_items": null,
            "left": null,
            "margin": null,
            "max_height": null,
            "max_width": null,
            "min_height": null,
            "min_width": null,
            "object_fit": null,
            "object_position": null,
            "order": null,
            "overflow": null,
            "overflow_x": null,
            "overflow_y": null,
            "padding": null,
            "right": null,
            "top": null,
            "visibility": null,
            "width": null
          }
        },
        "4b66753cda4f40db92aaac0afa963acd": {
          "model_module": "@jupyter-widgets/base",
          "model_name": "LayoutModel",
          "model_module_version": "1.2.0",
          "state": {
            "_model_module": "@jupyter-widgets/base",
            "_model_module_version": "1.2.0",
            "_model_name": "LayoutModel",
            "_view_count": null,
            "_view_module": "@jupyter-widgets/base",
            "_view_module_version": "1.2.0",
            "_view_name": "LayoutView",
            "align_content": null,
            "align_items": null,
            "align_self": null,
            "border": null,
            "bottom": null,
            "display": null,
            "flex": null,
            "flex_flow": null,
            "grid_area": "header",
            "grid_auto_columns": null,
            "grid_auto_flow": null,
            "grid_auto_rows": null,
            "grid_column": null,
            "grid_gap": null,
            "grid_row": null,
            "grid_template_areas": null,
            "grid_template_columns": null,
            "grid_template_rows": null,
            "height": "auto",
            "justify_content": null,
            "justify_items": null,
            "left": null,
            "margin": null,
            "max_height": null,
            "max_width": null,
            "min_height": null,
            "min_width": null,
            "object_fit": null,
            "object_position": null,
            "order": null,
            "overflow": null,
            "overflow_x": null,
            "overflow_y": null,
            "padding": null,
            "right": null,
            "top": null,
            "visibility": null,
            "width": "auto"
          }
        },
        "4006e7bb055342978608b005b730ae75": {
          "model_module": "@jupyter-widgets/controls",
          "model_name": "ButtonStyleModel",
          "model_module_version": "1.5.0",
          "state": {
            "_model_module": "@jupyter-widgets/controls",
            "_model_module_version": "1.5.0",
            "_model_name": "ButtonStyleModel",
            "_view_count": null,
            "_view_module": "@jupyter-widgets/base",
            "_view_module_version": "1.2.0",
            "_view_name": "StyleView",
            "button_color": null,
            "font_weight": ""
          }
        },
        "ae677dfc9239408481ac22c7653da3d2": {
          "model_module": "@jupyter-widgets/base",
          "model_name": "LayoutModel",
          "model_module_version": "1.2.0",
          "state": {
            "_model_module": "@jupyter-widgets/base",
            "_model_module_version": "1.2.0",
            "_model_name": "LayoutModel",
            "_view_count": null,
            "_view_module": "@jupyter-widgets/base",
            "_view_module_version": "1.2.0",
            "_view_name": "LayoutView",
            "align_content": null,
            "align_items": null,
            "align_self": null,
            "border": null,
            "bottom": null,
            "display": null,
            "flex": null,
            "flex_flow": null,
            "grid_area": "footer",
            "grid_auto_columns": null,
            "grid_auto_flow": null,
            "grid_auto_rows": null,
            "grid_column": null,
            "grid_gap": null,
            "grid_row": null,
            "grid_template_areas": null,
            "grid_template_columns": null,
            "grid_template_rows": null,
            "height": "auto",
            "justify_content": null,
            "justify_items": null,
            "left": null,
            "margin": null,
            "max_height": null,
            "max_width": null,
            "min_height": null,
            "min_width": null,
            "object_fit": null,
            "object_position": null,
            "order": null,
            "overflow": null,
            "overflow_x": null,
            "overflow_y": null,
            "padding": null,
            "right": null,
            "top": null,
            "visibility": null,
            "width": "auto"
          }
        },
        "6dfeb881192944448e120d65d3dbd8cb": {
          "model_module": "@jupyter-widgets/controls",
          "model_name": "ButtonStyleModel",
          "model_module_version": "1.5.0",
          "state": {
            "_model_module": "@jupyter-widgets/controls",
            "_model_module_version": "1.5.0",
            "_model_name": "ButtonStyleModel",
            "_view_count": null,
            "_view_module": "@jupyter-widgets/base",
            "_view_module_version": "1.2.0",
            "_view_name": "StyleView",
            "button_color": null,
            "font_weight": ""
          }
        },
        "f6f0bd3ed4024268870a191a3ef914e8": {
          "model_module": "@jupyter-widgets/base",
          "model_name": "LayoutModel",
          "model_module_version": "1.2.0",
          "state": {
            "_model_module": "@jupyter-widgets/base",
            "_model_module_version": "1.2.0",
            "_model_name": "LayoutModel",
            "_view_count": null,
            "_view_module": "@jupyter-widgets/base",
            "_view_module_version": "1.2.0",
            "_view_name": "LayoutView",
            "align_content": null,
            "align_items": null,
            "align_self": null,
            "border": null,
            "bottom": null,
            "display": null,
            "flex": null,
            "flex_flow": null,
            "grid_area": "left-sidebar",
            "grid_auto_columns": null,
            "grid_auto_flow": null,
            "grid_auto_rows": null,
            "grid_column": null,
            "grid_gap": null,
            "grid_row": null,
            "grid_template_areas": null,
            "grid_template_columns": null,
            "grid_template_rows": null,
            "height": "auto",
            "justify_content": null,
            "justify_items": null,
            "left": null,
            "margin": null,
            "max_height": null,
            "max_width": null,
            "min_height": null,
            "min_width": null,
            "object_fit": null,
            "object_position": null,
            "order": null,
            "overflow": null,
            "overflow_x": null,
            "overflow_y": null,
            "padding": null,
            "right": null,
            "top": null,
            "visibility": null,
            "width": "auto"
          }
        },
        "41e021d4f545413987053252c554934b": {
          "model_module": "@jupyter-widgets/controls",
          "model_name": "ButtonStyleModel",
          "model_module_version": "1.5.0",
          "state": {
            "_model_module": "@jupyter-widgets/controls",
            "_model_module_version": "1.5.0",
            "_model_name": "ButtonStyleModel",
            "_view_count": null,
            "_view_module": "@jupyter-widgets/base",
            "_view_module_version": "1.2.0",
            "_view_name": "StyleView",
            "button_color": null,
            "font_weight": ""
          }
        },
        "428395500eb0434a8d7ff21152a182d9": {
          "model_module": "@jupyter-widgets/base",
          "model_name": "LayoutModel",
          "model_module_version": "1.2.0",
          "state": {
            "_model_module": "@jupyter-widgets/base",
            "_model_module_version": "1.2.0",
            "_model_name": "LayoutModel",
            "_view_count": null,
            "_view_module": "@jupyter-widgets/base",
            "_view_module_version": "1.2.0",
            "_view_name": "LayoutView",
            "align_content": null,
            "align_items": null,
            "align_self": null,
            "border": null,
            "bottom": null,
            "display": null,
            "flex": null,
            "flex_flow": null,
            "grid_area": "right-sidebar",
            "grid_auto_columns": null,
            "grid_auto_flow": null,
            "grid_auto_rows": null,
            "grid_column": null,
            "grid_gap": null,
            "grid_row": null,
            "grid_template_areas": null,
            "grid_template_columns": null,
            "grid_template_rows": null,
            "height": "auto",
            "justify_content": null,
            "justify_items": null,
            "left": null,
            "margin": null,
            "max_height": null,
            "max_width": null,
            "min_height": null,
            "min_width": null,
            "object_fit": null,
            "object_position": null,
            "order": null,
            "overflow": null,
            "overflow_x": null,
            "overflow_y": null,
            "padding": null,
            "right": null,
            "top": null,
            "visibility": null,
            "width": "auto"
          }
        },
        "7150860f95c848c6a2bacb1fe92b407b": {
          "model_module": "@jupyter-widgets/controls",
          "model_name": "ButtonStyleModel",
          "model_module_version": "1.5.0",
          "state": {
            "_model_module": "@jupyter-widgets/controls",
            "_model_module_version": "1.5.0",
            "_model_name": "ButtonStyleModel",
            "_view_count": null,
            "_view_module": "@jupyter-widgets/base",
            "_view_module_version": "1.2.0",
            "_view_name": "StyleView",
            "button_color": null,
            "font_weight": ""
          }
        },
        "346d16bb23684eb09487d3dc80df2082": {
          "model_module": "@jupyter-widgets/base",
          "model_name": "LayoutModel",
          "model_module_version": "1.2.0",
          "state": {
            "_model_module": "@jupyter-widgets/base",
            "_model_module_version": "1.2.0",
            "_model_name": "LayoutModel",
            "_view_count": null,
            "_view_module": "@jupyter-widgets/base",
            "_view_module_version": "1.2.0",
            "_view_name": "LayoutView",
            "align_content": null,
            "align_items": null,
            "align_self": null,
            "border": null,
            "bottom": null,
            "display": null,
            "flex": null,
            "flex_flow": null,
            "grid_area": "center",
            "grid_auto_columns": null,
            "grid_auto_flow": null,
            "grid_auto_rows": null,
            "grid_column": null,
            "grid_gap": null,
            "grid_row": null,
            "grid_template_areas": null,
            "grid_template_columns": null,
            "grid_template_rows": null,
            "height": "auto",
            "justify_content": null,
            "justify_items": null,
            "left": null,
            "margin": null,
            "max_height": null,
            "max_width": null,
            "min_height": null,
            "min_width": null,
            "object_fit": null,
            "object_position": null,
            "order": null,
            "overflow": null,
            "overflow_x": null,
            "overflow_y": null,
            "padding": null,
            "right": null,
            "top": null,
            "visibility": null,
            "width": "auto"
          }
        },
        "d3e3d0276c9440fdadd6a9bf514c9f5b": {
          "model_module": "@jupyter-widgets/controls",
          "model_name": "ButtonStyleModel",
          "model_module_version": "1.5.0",
          "state": {
            "_model_module": "@jupyter-widgets/controls",
            "_model_module_version": "1.5.0",
            "_model_name": "ButtonStyleModel",
            "_view_count": null,
            "_view_module": "@jupyter-widgets/base",
            "_view_module_version": "1.2.0",
            "_view_name": "StyleView",
            "button_color": null,
            "font_weight": ""
          }
        },
        "a904bbed5abc44dd828e4450d7591282": {
          "model_module": "jupyterlab-plotly",
          "model_name": "FigureModel",
          "model_module_version": "^5.5.0",
          "state": {
            "_config": {
              "plotlyServerURL": "https://plot.ly"
            },
            "_data": [
              {
                "cells": {
                  "align": [
                    "left",
                    "center"
                  ],
                  "fill": {
                    "color": [
                      [
                        "#636EFA",
                        "#EF553B",
                        "#00CC96",
                        "#00CC96",
                        "#AB63FA",
                        "#FFA15A",
                        "#EF553B",
                        "#636EFA",
                        "#636EFA",
                        "#EF553B",
                        "#00CC96",
                        "#AB63FA",
                        "#EF553B",
                        "#00CC96",
                        "#AB63FA",
                        "#EF553B",
                        "#00CC96",
                        "#00CC96",
                        "#636EFA",
                        "#00CC96",
                        "#AB63FA",
                        "#00CC96",
                        "#00CC96",
                        "#AB63FA",
                        "#636EFA",
                        "#AB63FA",
                        "#00CC96",
                        "#00CC96",
                        "#00CC96",
                        "#AB63FA",
                        "#00CC96",
                        "#EF553B",
                        "#AB63FA",
                        "#EF553B",
                        "#EF553B",
                        "#00CC96",
                        "#AB63FA",
                        "#AB63FA",
                        "#00CC96",
                        "#AB63FA",
                        "#00CC96",
                        "#00CC96",
                        "#00CC96",
                        "#EF553B",
                        "#EF553B",
                        "#00CC96",
                        "#00CC96",
                        "#EF553B",
                        "#00CC96",
                        "#EF553B",
                        "#AB63FA",
                        "#00CC96",
                        "#00CC96",
                        "#AB63FA",
                        "#AB63FA",
                        "#636EFA",
                        "#EF553B",
                        "#EF553B",
                        "#636EFA",
                        "#636EFA",
                        "#636EFA",
                        "#636EFA",
                        "#EF553B",
                        "#636EFA",
                        "#EF553B",
                        "#AB63FA",
                        "#636EFA",
                        "#636EFA",
                        "#00CC96",
                        "#636EFA",
                        "#636EFA",
                        "#636EFA",
                        "#636EFA",
                        "#00CC96",
                        "#00CC96",
                        "#00CC96",
                        "#00CC96",
                        "#00CC96",
                        "#636EFA",
                        "#00CC96",
                        "#00CC96",
                        "#00CC96",
                        "#AB63FA",
                        "#636EFA",
                        "#EF553B",
                        "#00CC96",
                        "#00CC96",
                        "#636EFA",
                        "#00CC96",
                        "#636EFA",
                        "#EF553B",
                        "#FFA15A",
                        "#AB63FA",
                        "#00CC96",
                        "#00CC96",
                        "#EF553B",
                        "#636EFA",
                        "#636EFA",
                        "#AB63FA",
                        "#AB63FA",
                        "#AB63FA",
                        "#636EFA",
                        "#EF553B",
                        "#EF553B",
                        "#AB63FA",
                        "#00CC96",
                        "#EF553B",
                        "#00CC96",
                        "#00CC96",
                        "#636EFA",
                        "#00CC96",
                        "#EF553B",
                        "#00CC96",
                        "#636EFA",
                        "#EF553B",
                        "#EF553B",
                        "#00CC96",
                        "#00CC96",
                        "#EF553B",
                        "#636EFA",
                        "#00CC96",
                        "#00CC96",
                        "#EF553B",
                        "#EF553B",
                        "#636EFA",
                        "#636EFA",
                        "#00CC96",
                        "#636EFA",
                        "#00CC96",
                        "#AB63FA",
                        "#00CC96",
                        "#EF553B",
                        "#00CC96",
                        "#EF553B",
                        "#AB63FA",
                        "#AB63FA",
                        "#AB63FA",
                        "#636EFA",
                        "#636EFA",
                        "#636EFA",
                        "#00CC96",
                        "#00CC96"
                      ],
                      [
                        "#636EFA",
                        "#EF553B",
                        "#00CC96",
                        "#00CC96",
                        "#AB63FA",
                        "#FFA15A",
                        "#EF553B",
                        "#636EFA",
                        "#636EFA",
                        "#EF553B",
                        "#00CC96",
                        "#AB63FA",
                        "#EF553B",
                        "#00CC96",
                        "#AB63FA",
                        "#EF553B",
                        "#00CC96",
                        "#00CC96",
                        "#636EFA",
                        "#00CC96",
                        "#AB63FA",
                        "#00CC96",
                        "#00CC96",
                        "#AB63FA",
                        "#636EFA",
                        "#AB63FA",
                        "#00CC96",
                        "#00CC96",
                        "#00CC96",
                        "#AB63FA",
                        "#00CC96",
                        "#EF553B",
                        "#AB63FA",
                        "#EF553B",
                        "#EF553B",
                        "#00CC96",
                        "#AB63FA",
                        "#AB63FA",
                        "#00CC96",
                        "#AB63FA",
                        "#00CC96",
                        "#00CC96",
                        "#00CC96",
                        "#EF553B",
                        "#EF553B",
                        "#00CC96",
                        "#00CC96",
                        "#EF553B",
                        "#00CC96",
                        "#EF553B",
                        "#AB63FA",
                        "#00CC96",
                        "#00CC96",
                        "#AB63FA",
                        "#AB63FA",
                        "#636EFA",
                        "#EF553B",
                        "#EF553B",
                        "#636EFA",
                        "#636EFA",
                        "#636EFA",
                        "#636EFA",
                        "#EF553B",
                        "#636EFA",
                        "#EF553B",
                        "#AB63FA",
                        "#636EFA",
                        "#636EFA",
                        "#00CC96",
                        "#636EFA",
                        "#636EFA",
                        "#636EFA",
                        "#636EFA",
                        "#00CC96",
                        "#00CC96",
                        "#00CC96",
                        "#00CC96",
                        "#00CC96",
                        "#636EFA",
                        "#00CC96",
                        "#00CC96",
                        "#00CC96",
                        "#AB63FA",
                        "#636EFA",
                        "#EF553B",
                        "#00CC96",
                        "#00CC96",
                        "#636EFA",
                        "#00CC96",
                        "#636EFA",
                        "#EF553B",
                        "#FFA15A",
                        "#AB63FA",
                        "#00CC96",
                        "#00CC96",
                        "#EF553B",
                        "#636EFA",
                        "#636EFA",
                        "#AB63FA",
                        "#AB63FA",
                        "#AB63FA",
                        "#636EFA",
                        "#EF553B",
                        "#EF553B",
                        "#AB63FA",
                        "#00CC96",
                        "#EF553B",
                        "#00CC96",
                        "#00CC96",
                        "#636EFA",
                        "#00CC96",
                        "#EF553B",
                        "#00CC96",
                        "#636EFA",
                        "#EF553B",
                        "#EF553B",
                        "#00CC96",
                        "#00CC96",
                        "#EF553B",
                        "#636EFA",
                        "#00CC96",
                        "#00CC96",
                        "#EF553B",
                        "#EF553B",
                        "#636EFA",
                        "#636EFA",
                        "#00CC96",
                        "#636EFA",
                        "#00CC96",
                        "#AB63FA",
                        "#00CC96",
                        "#EF553B",
                        "#00CC96",
                        "#EF553B",
                        "#AB63FA",
                        "#AB63FA",
                        "#AB63FA",
                        "#636EFA",
                        "#636EFA",
                        "#636EFA",
                        "#00CC96",
                        "#00CC96"
                      ]
                    ]
                  },
                  "line": {
                    "color": "darkslategray"
                  },
                  "values": [
                    [
                      "Afghanistan",
                      "Albania",
                      "Algeria",
                      "Angola",
                      "Argentina",
                      "Australia",
                      "Austria",
                      "Bahrain",
                      "Bangladesh",
                      "Belgium",
                      "Benin",
                      "Bolivia",
                      "Bosnia and Herzegovina",
                      "Botswana",
                      "Brazil",
                      "Bulgaria",
                      "Burkina Faso",
                      "Burundi",
                      "Cambodia",
                      "Cameroon",
                      "Canada",
                      "Central African Republic",
                      "Chad",
                      "Chile",
                      "China",
                      "Colombia",
                      "Comoros",
                      "Congo, Dem. Rep.",
                      "Congo, Rep.",
                      "Costa Rica",
                      "Cote d'Ivoire",
                      "Croatia",
                      "Cuba",
                      "Czech Republic",
                      "Denmark",
                      "Djibouti",
                      "Dominican Republic",
                      "Ecuador",
                      "Egypt",
                      "El Salvador",
                      "Equatorial Guinea",
                      "Eritrea",
                      "Ethiopia",
                      "Finland",
                      "France",
                      "Gabon",
                      "Gambia",
                      "Germany",
                      "Ghana",
                      "Greece",
                      "Guatemala",
                      "Guinea",
                      "Guinea-Bissau",
                      "Haiti",
                      "Honduras",
                      "Hong Kong, China",
                      "Hungary",
                      "Iceland",
                      "India",
                      "Indonesia",
                      "Iran",
                      "Iraq",
                      "Ireland",
                      "Israel",
                      "Italy",
                      "Jamaica",
                      "Japan",
                      "Jordan",
                      "Kenya",
                      "Korea, Dem. Rep.",
                      "Korea, Rep.",
                      "Kuwait",
                      "Lebanon",
                      "Lesotho",
                      "Liberia",
                      "Libya",
                      "Madagascar",
                      "Malawi",
                      "Malaysia",
                      "Mali",
                      "Mauritania",
                      "Mauritius",
                      "Mexico",
                      "Mongolia",
                      "Montenegro",
                      "Morocco",
                      "Mozambique",
                      "Myanmar",
                      "Namibia",
                      "Nepal",
                      "Netherlands",
                      "New Zealand",
                      "Nicaragua",
                      "Niger",
                      "Nigeria",
                      "Norway",
                      "Oman",
                      "Pakistan",
                      "Panama",
                      "Paraguay",
                      "Peru",
                      "Philippines",
                      "Poland",
                      "Portugal",
                      "Puerto Rico",
                      "Reunion",
                      "Romania",
                      "Rwanda",
                      "Sao Tome and Principe",
                      "Saudi Arabia",
                      "Senegal",
                      "Serbia",
                      "Sierra Leone",
                      "Singapore",
                      "Slovak Republic",
                      "Slovenia",
                      "Somalia",
                      "South Africa",
                      "Spain",
                      "Sri Lanka",
                      "Sudan",
                      "Swaziland",
                      "Sweden",
                      "Switzerland",
                      "Syria",
                      "Taiwan",
                      "Tanzania",
                      "Thailand",
                      "Togo",
                      "Trinidad and Tobago",
                      "Tunisia",
                      "Turkey",
                      "Uganda",
                      "United Kingdom",
                      "United States",
                      "Uruguay",
                      "Venezuela",
                      "Vietnam",
                      "West Bank and Gaza",
                      "Yemen, Rep.",
                      "Zambia",
                      "Zimbabwe"
                    ],
                    [
                      "AFG",
                      "ALB",
                      "DZA",
                      "AGO",
                      "ARG",
                      "AUS",
                      "AUT",
                      "BHR",
                      "BGD",
                      "BEL",
                      "BEN",
                      "BOL",
                      "BIH",
                      "BWA",
                      "BRA",
                      "BGR",
                      "BFA",
                      "BDI",
                      "KHM",
                      "CMR",
                      "CAN",
                      "CAF",
                      "TCD",
                      "CHL",
                      "CHN",
                      "COL",
                      "COM",
                      "COD",
                      "COG",
                      "CRI",
                      "CIV",
                      "HRV",
                      "CUB",
                      "CZE",
                      "DNK",
                      "DJI",
                      "DOM",
                      "ECU",
                      "EGY",
                      "SLV",
                      "GNQ",
                      "ERI",
                      "ETH",
                      "FIN",
                      "FRA",
                      "GAB",
                      "GMB",
                      "DEU",
                      "GHA",
                      "GRC",
                      "GTM",
                      "GIN",
                      "GNB",
                      "HTI",
                      "HND",
                      "HKG",
                      "HUN",
                      "ISL",
                      "IND",
                      "IDN",
                      "IRN",
                      "IRQ",
                      "IRL",
                      "ISR",
                      "ITA",
                      "JAM",
                      "JPN",
                      "JOR",
                      "KEN",
                      "KOR",
                      "KOR",
                      "KWT",
                      "LBN",
                      "LSO",
                      "LBR",
                      "LBY",
                      "MDG",
                      "MWI",
                      "MYS",
                      "MLI",
                      "MRT",
                      "MUS",
                      "MEX",
                      "MNG",
                      "MNE",
                      "MAR",
                      "MOZ",
                      "MMR",
                      "NAM",
                      "NPL",
                      "NLD",
                      "NZL",
                      "NIC",
                      "NER",
                      "NGA",
                      "NOR",
                      "OMN",
                      "PAK",
                      "PAN",
                      "PRY",
                      "PER",
                      "PHL",
                      "POL",
                      "PRT",
                      "PRI",
                      "REU",
                      "ROU",
                      "RWA",
                      "STP",
                      "SAU",
                      "SEN",
                      "SRB",
                      "SLE",
                      "SGP",
                      "SVK",
                      "SVN",
                      "SOM",
                      "ZAF",
                      "ESP",
                      "LKA",
                      "SDN",
                      "SWZ",
                      "SWE",
                      "CHE",
                      "SYR",
                      "TWN",
                      "TZA",
                      "THA",
                      "TGO",
                      "TTO",
                      "TUN",
                      "TUR",
                      "UGA",
                      "GBR",
                      "USA",
                      "URY",
                      "VEN",
                      "VNM",
                      "PSE",
                      "YEM",
                      "ZMB",
                      "ZWE"
                    ]
                  ]
                },
                "header": {
                  "align": "left",
                  "fill": {
                    "color": "darkslategray"
                  },
                  "line": {
                    "color": "white"
                  },
                  "values": [
                    "País",
                    "ISO"
                  ]
                },
                "type": "table",
                "uid": "23f8bbba-50c0-4844-b426-d0bc3a81d75a"
              }
            ],
            "_dom_classes": [],
            "_js2py_layoutDelta": null,
            "_js2py_pointsCallback": {},
            "_js2py_relayout": {},
            "_js2py_restyle": {},
            "_js2py_traceDeltas": null,
            "_js2py_update": {},
            "_last_layout_edit_id": 0,
            "_last_trace_edit_id": 0,
            "_layout": {
              "margin": {
                "b": 0,
                "l": 0,
                "r": 0,
                "t": 25
              },
              "width": 600
            },
            "_model_module": "jupyterlab-plotly",
            "_model_module_version": "^5.5.0",
            "_model_name": "FigureModel",
            "_py2js_addTraces": {},
            "_py2js_animate": {},
            "_py2js_deleteTraces": {},
            "_py2js_moveTraces": {},
            "_py2js_relayout": null,
            "_py2js_removeLayoutProps": {},
            "_py2js_removeTraceProps": {},
            "_py2js_restyle": {},
            "_py2js_update": {},
            "_view_count": 1,
            "_view_module": "jupyterlab-plotly",
            "_view_module_version": "^5.5.0",
            "_view_name": "FigureView"
          }
        },
        "88e3519b94ab44aba3b24c33a79d3c19": {
          "model_module": "jupyterlab-plotly",
          "model_name": "FigureModel",
          "model_module_version": "^5.5.0",
          "state": {
            "_config": {
              "plotlyServerURL": "https://plot.ly"
            },
            "_data": [
              {
                "hovertemplate": "<b>%{hovertext}</b><br><br>Continente=Asia<br>PIB per capita=%{x}<br>Expectativa de vida=%{y}<br>População=%{marker.size}<extra></extra>",
                "hovertext": [
                  "Afghanistan",
                  "Bahrain",
                  "Bangladesh",
                  "Cambodia",
                  "China",
                  "Hong Kong, China",
                  "India",
                  "Indonesia",
                  "Iran",
                  "Iraq",
                  "Israel",
                  "Japan",
                  "Jordan",
                  "Korea, Dem. Rep.",
                  "Korea, Rep.",
                  "Kuwait",
                  "Lebanon",
                  "Malaysia",
                  "Mongolia",
                  "Myanmar",
                  "Nepal",
                  "Oman",
                  "Pakistan",
                  "Philippines",
                  "Saudi Arabia",
                  "Singapore",
                  "Sri Lanka",
                  "Syria",
                  "Taiwan",
                  "Thailand",
                  "Vietnam",
                  "West Bank and Gaza",
                  "Yemen, Rep."
                ],
                "legendgroup": "Asia",
                "marker": {
                  "color": "#636EFA",
                  "size": [
                    8425333,
                    120447,
                    46886859,
                    4693836,
                    556263527,
                    2125900,
                    372000000,
                    82052000,
                    17272000,
                    5441766,
                    1620914,
                    86459025,
                    607914,
                    8865488,
                    20947571,
                    160000,
                    1439529,
                    6748378,
                    800663,
                    20092996,
                    9182536,
                    507833,
                    41346560,
                    22438691,
                    4005677,
                    1127000,
                    7982342,
                    3661549,
                    8550362,
                    21289402,
                    26246839,
                    1030585,
                    4963829
                  ],
                  "sizemode": "area",
                  "sizeref": 183888.76925619834,
                  "symbol": "circle"
                },
                "mode": "markers",
                "name": "Asia",
                "orientation": "v",
                "showlegend": true,
                "x": {
                  "dtype": "float64",
                  "shape": [
                    33
                  ]
                },
                "xaxis": "x",
                "y": {
                  "dtype": "float64",
                  "shape": [
                    33
                  ]
                },
                "yaxis": "y",
                "type": "scatter",
                "uid": "f303cbc0-7dfa-44c9-b335-5184dad86f94"
              },
              {
                "hovertemplate": "<b>%{hovertext}</b><br><br>Continente=Europe<br>PIB per capita=%{x}<br>Expectativa de vida=%{y}<br>População=%{marker.size}<extra></extra>",
                "hovertext": [
                  "Albania",
                  "Austria",
                  "Belgium",
                  "Bosnia and Herzegovina",
                  "Bulgaria",
                  "Croatia",
                  "Czech Republic",
                  "Denmark",
                  "Finland",
                  "France",
                  "Germany",
                  "Greece",
                  "Hungary",
                  "Iceland",
                  "Ireland",
                  "Italy",
                  "Montenegro",
                  "Netherlands",
                  "Norway",
                  "Poland",
                  "Portugal",
                  "Romania",
                  "Serbia",
                  "Slovak Republic",
                  "Slovenia",
                  "Spain",
                  "Sweden",
                  "Switzerland",
                  "Turkey",
                  "United Kingdom"
                ],
                "legendgroup": "Europe",
                "marker": {
                  "color": "#EF553B",
                  "size": [
                    1282697,
                    6927772,
                    8730405,
                    2791000,
                    7274900,
                    3882229,
                    9125183,
                    4334000,
                    4090500,
                    42459667,
                    69145952,
                    7733250,
                    9504000,
                    147962,
                    2952156,
                    47666000,
                    413834,
                    10381988,
                    3327728,
                    25730551,
                    8526050,
                    16630000,
                    6860147,
                    3558137,
                    1489518,
                    28549870,
                    7124673,
                    4815000,
                    22235677,
                    50430000
                  ],
                  "sizemode": "area",
                  "sizeref": 183888.76925619834,
                  "symbol": "circle"
                },
                "mode": "markers",
                "name": "Europe",
                "orientation": "v",
                "showlegend": true,
                "x": {
                  "dtype": "float64",
                  "shape": [
                    30
                  ]
                },
                "xaxis": "x",
                "y": {
                  "dtype": "float64",
                  "shape": [
                    30
                  ]
                },
                "yaxis": "y",
                "type": "scatter",
                "uid": "a71e9c37-1378-49bc-bf97-c9ab83e42ce5"
              },
              {
                "hovertemplate": "<b>%{hovertext}</b><br><br>Continente=Africa<br>PIB per capita=%{x}<br>Expectativa de vida=%{y}<br>População=%{marker.size}<extra></extra>",
                "hovertext": [
                  "Algeria",
                  "Angola",
                  "Benin",
                  "Botswana",
                  "Burkina Faso",
                  "Burundi",
                  "Cameroon",
                  "Central African Republic",
                  "Chad",
                  "Comoros",
                  "Congo, Dem. Rep.",
                  "Congo, Rep.",
                  "Cote d'Ivoire",
                  "Djibouti",
                  "Egypt",
                  "Equatorial Guinea",
                  "Eritrea",
                  "Ethiopia",
                  "Gabon",
                  "Gambia",
                  "Ghana",
                  "Guinea",
                  "Guinea-Bissau",
                  "Kenya",
                  "Lesotho",
                  "Liberia",
                  "Libya",
                  "Madagascar",
                  "Malawi",
                  "Mali",
                  "Mauritania",
                  "Mauritius",
                  "Morocco",
                  "Mozambique",
                  "Namibia",
                  "Niger",
                  "Nigeria",
                  "Reunion",
                  "Rwanda",
                  "Sao Tome and Principe",
                  "Senegal",
                  "Sierra Leone",
                  "Somalia",
                  "South Africa",
                  "Sudan",
                  "Swaziland",
                  "Tanzania",
                  "Togo",
                  "Tunisia",
                  "Uganda",
                  "Zambia",
                  "Zimbabwe"
                ],
                "legendgroup": "Africa",
                "marker": {
                  "color": "#00CC96",
                  "size": [
                    9279525,
                    4232095,
                    1738315,
                    442308,
                    4469979,
                    2445618,
                    5009067,
                    1291695,
                    2682462,
                    153936,
                    14100005,
                    854885,
                    2977019,
                    63149,
                    22223309,
                    216964,
                    1438760,
                    20860941,
                    420702,
                    284320,
                    5581001,
                    2664249,
                    580653,
                    6464046,
                    748747,
                    863308,
                    1019729,
                    4762912,
                    2917802,
                    3838168,
                    1022556,
                    516556,
                    9939217,
                    6446316,
                    485831,
                    3379468,
                    33119096,
                    257700,
                    2534927,
                    60011,
                    2755589,
                    2143249,
                    2526994,
                    14264935,
                    8504667,
                    290243,
                    8322925,
                    1219113,
                    3647735,
                    5824797,
                    2672000,
                    3080907
                  ],
                  "sizemode": "area",
                  "sizeref": 183888.76925619834,
                  "symbol": "circle"
                },
                "mode": "markers",
                "name": "Africa",
                "orientation": "v",
                "showlegend": true,
                "x": {
                  "dtype": "float64",
                  "shape": [
                    52
                  ]
                },
                "xaxis": "x",
                "y": {
                  "dtype": "float64",
                  "shape": [
                    52
                  ]
                },
                "yaxis": "y",
                "type": "scatter",
                "uid": "66490f31-ad9c-46b2-b442-1810cfaa8b30"
              },
              {
                "hovertemplate": "<b>%{hovertext}</b><br><br>Continente=Americas<br>PIB per capita=%{x}<br>Expectativa de vida=%{y}<br>População=%{marker.size}<extra></extra>",
                "hovertext": [
                  "Argentina",
                  "Bolivia",
                  "Brazil",
                  "Canada",
                  "Chile",
                  "Colombia",
                  "Costa Rica",
                  "Cuba",
                  "Dominican Republic",
                  "Ecuador",
                  "El Salvador",
                  "Guatemala",
                  "Haiti",
                  "Honduras",
                  "Jamaica",
                  "Mexico",
                  "Nicaragua",
                  "Panama",
                  "Paraguay",
                  "Peru",
                  "Puerto Rico",
                  "Trinidad and Tobago",
                  "United States",
                  "Uruguay",
                  "Venezuela"
                ],
                "legendgroup": "Americas",
                "marker": {
                  "color": "#AB63FA",
                  "size": [
                    17876956,
                    2883315,
                    56602560,
                    14785584,
                    6377619,
                    12350771,
                    926317,
                    6007797,
                    2491346,
                    3548753,
                    2042865,
                    3146381,
                    3201488,
                    1517453,
                    1426095,
                    30144317,
                    1165790,
                    940080,
                    1555876,
                    8025700,
                    2227000,
                    662850,
                    157553000,
                    2252965,
                    5439568
                  ],
                  "sizemode": "area",
                  "sizeref": 183888.76925619834,
                  "symbol": "circle"
                },
                "mode": "markers",
                "name": "Americas",
                "orientation": "v",
                "showlegend": true,
                "x": {
                  "dtype": "float64",
                  "shape": [
                    25
                  ]
                },
                "xaxis": "x",
                "y": {
                  "dtype": "float64",
                  "shape": [
                    25
                  ]
                },
                "yaxis": "y",
                "type": "scatter",
                "uid": "a0ff6ccb-10f2-4039-a2ce-7da9e458ea0a"
              },
              {
                "hovertemplate": "<b>%{hovertext}</b><br><br>Continente=Oceania<br>PIB per capita=%{x}<br>Expectativa de vida=%{y}<br>População=%{marker.size}<extra></extra>",
                "hovertext": [
                  "Australia",
                  "New Zealand"
                ],
                "legendgroup": "Oceania",
                "marker": {
                  "color": "#FFA15A",
                  "size": [
                    8691212,
                    1994794
                  ],
                  "sizemode": "area",
                  "sizeref": 183888.76925619834,
                  "symbol": "circle"
                },
                "mode": "markers",
                "name": "Oceania",
                "orientation": "v",
                "showlegend": true,
                "x": {
                  "dtype": "float64",
                  "shape": [
                    2
                  ]
                },
                "xaxis": "x",
                "y": {
                  "dtype": "float64",
                  "shape": [
                    2
                  ]
                },
                "yaxis": "y",
                "type": "scatter",
                "uid": "25a4bcd9-89f6-405c-8427-03ac1867a7b6"
              }
            ],
            "_dom_classes": [],
            "_js2py_layoutDelta": null,
            "_js2py_pointsCallback": {},
            "_js2py_relayout": null,
            "_js2py_restyle": {},
            "_js2py_traceDeltas": null,
            "_js2py_update": {},
            "_last_layout_edit_id": 7,
            "_last_trace_edit_id": 6,
            "_layout": {
              "legend": {
                "itemsizing": "constant",
                "title": {
                  "text": "Continente"
                },
                "tracegroupgap": 0
              },
              "margin": {
                "t": 60
              },
              "template": {
                "data": {
                  "barpolar": [
                    {
                      "marker": {
                        "line": {
                          "color": "#E5ECF6",
                          "width": 0.5
                        },
                        "pattern": {
                          "fillmode": "overlay",
                          "size": 10,
                          "solidity": 0.2
                        }
                      },
                      "type": "barpolar"
                    }
                  ],
                  "bar": [
                    {
                      "error_x": {
                        "color": "#2a3f5f"
                      },
                      "error_y": {
                        "color": "#2a3f5f"
                      },
                      "marker": {
                        "line": {
                          "color": "#E5ECF6",
                          "width": 0.5
                        },
                        "pattern": {
                          "fillmode": "overlay",
                          "size": 10,
                          "solidity": 0.2
                        }
                      },
                      "type": "bar"
                    }
                  ],
                  "carpet": [
                    {
                      "aaxis": {
                        "endlinecolor": "#2a3f5f",
                        "gridcolor": "white",
                        "linecolor": "white",
                        "minorgridcolor": "white",
                        "startlinecolor": "#2a3f5f"
                      },
                      "baxis": {
                        "endlinecolor": "#2a3f5f",
                        "gridcolor": "white",
                        "linecolor": "white",
                        "minorgridcolor": "white",
                        "startlinecolor": "#2a3f5f"
                      },
                      "type": "carpet"
                    }
                  ],
                  "choropleth": [
                    {
                      "colorbar": {
                        "outlinewidth": 0,
                        "ticks": ""
                      },
                      "type": "choropleth"
                    }
                  ],
                  "contourcarpet": [
                    {
                      "colorbar": {
                        "outlinewidth": 0,
                        "ticks": ""
                      },
                      "type": "contourcarpet"
                    }
                  ],
                  "contour": [
                    {
                      "colorbar": {
                        "outlinewidth": 0,
                        "ticks": ""
                      },
                      "colorscale": [
                        [
                          0,
                          "#0d0887"
                        ],
                        [
                          0.1111111111111111,
                          "#46039f"
                        ],
                        [
                          0.2222222222222222,
                          "#7201a8"
                        ],
                        [
                          0.3333333333333333,
                          "#9c179e"
                        ],
                        [
                          0.4444444444444444,
                          "#bd3786"
                        ],
                        [
                          0.5555555555555556,
                          "#d8576b"
                        ],
                        [
                          0.6666666666666666,
                          "#ed7953"
                        ],
                        [
                          0.7777777777777778,
                          "#fb9f3a"
                        ],
                        [
                          0.8888888888888888,
                          "#fdca26"
                        ],
                        [
                          1,
                          "#f0f921"
                        ]
                      ],
                      "type": "contour"
                    }
                  ],
                  "heatmapgl": [
                    {
                      "colorbar": {
                        "outlinewidth": 0,
                        "ticks": ""
                      },
                      "colorscale": [
                        [
                          0,
                          "#0d0887"
                        ],
                        [
                          0.1111111111111111,
                          "#46039f"
                        ],
                        [
                          0.2222222222222222,
                          "#7201a8"
                        ],
                        [
                          0.3333333333333333,
                          "#9c179e"
                        ],
                        [
                          0.4444444444444444,
                          "#bd3786"
                        ],
                        [
                          0.5555555555555556,
                          "#d8576b"
                        ],
                        [
                          0.6666666666666666,
                          "#ed7953"
                        ],
                        [
                          0.7777777777777778,
                          "#fb9f3a"
                        ],
                        [
                          0.8888888888888888,
                          "#fdca26"
                        ],
                        [
                          1,
                          "#f0f921"
                        ]
                      ],
                      "type": "heatmapgl"
                    }
                  ],
                  "heatmap": [
                    {
                      "colorbar": {
                        "outlinewidth": 0,
                        "ticks": ""
                      },
                      "colorscale": [
                        [
                          0,
                          "#0d0887"
                        ],
                        [
                          0.1111111111111111,
                          "#46039f"
                        ],
                        [
                          0.2222222222222222,
                          "#7201a8"
                        ],
                        [
                          0.3333333333333333,
                          "#9c179e"
                        ],
                        [
                          0.4444444444444444,
                          "#bd3786"
                        ],
                        [
                          0.5555555555555556,
                          "#d8576b"
                        ],
                        [
                          0.6666666666666666,
                          "#ed7953"
                        ],
                        [
                          0.7777777777777778,
                          "#fb9f3a"
                        ],
                        [
                          0.8888888888888888,
                          "#fdca26"
                        ],
                        [
                          1,
                          "#f0f921"
                        ]
                      ],
                      "type": "heatmap"
                    }
                  ],
                  "histogram2dcontour": [
                    {
                      "colorbar": {
                        "outlinewidth": 0,
                        "ticks": ""
                      },
                      "colorscale": [
                        [
                          0,
                          "#0d0887"
                        ],
                        [
                          0.1111111111111111,
                          "#46039f"
                        ],
                        [
                          0.2222222222222222,
                          "#7201a8"
                        ],
                        [
                          0.3333333333333333,
                          "#9c179e"
                        ],
                        [
                          0.4444444444444444,
                          "#bd3786"
                        ],
                        [
                          0.5555555555555556,
                          "#d8576b"
                        ],
                        [
                          0.6666666666666666,
                          "#ed7953"
                        ],
                        [
                          0.7777777777777778,
                          "#fb9f3a"
                        ],
                        [
                          0.8888888888888888,
                          "#fdca26"
                        ],
                        [
                          1,
                          "#f0f921"
                        ]
                      ],
                      "type": "histogram2dcontour"
                    }
                  ],
                  "histogram2d": [
                    {
                      "colorbar": {
                        "outlinewidth": 0,
                        "ticks": ""
                      },
                      "colorscale": [
                        [
                          0,
                          "#0d0887"
                        ],
                        [
                          0.1111111111111111,
                          "#46039f"
                        ],
                        [
                          0.2222222222222222,
                          "#7201a8"
                        ],
                        [
                          0.3333333333333333,
                          "#9c179e"
                        ],
                        [
                          0.4444444444444444,
                          "#bd3786"
                        ],
                        [
                          0.5555555555555556,
                          "#d8576b"
                        ],
                        [
                          0.6666666666666666,
                          "#ed7953"
                        ],
                        [
                          0.7777777777777778,
                          "#fb9f3a"
                        ],
                        [
                          0.8888888888888888,
                          "#fdca26"
                        ],
                        [
                          1,
                          "#f0f921"
                        ]
                      ],
                      "type": "histogram2d"
                    }
                  ],
                  "histogram": [
                    {
                      "marker": {
                        "pattern": {
                          "fillmode": "overlay",
                          "size": 10,
                          "solidity": 0.2
                        }
                      },
                      "type": "histogram"
                    }
                  ],
                  "mesh3d": [
                    {
                      "colorbar": {
                        "outlinewidth": 0,
                        "ticks": ""
                      },
                      "type": "mesh3d"
                    }
                  ],
                  "parcoords": [
                    {
                      "line": {
                        "colorbar": {
                          "outlinewidth": 0,
                          "ticks": ""
                        }
                      },
                      "type": "parcoords"
                    }
                  ],
                  "pie": [
                    {
                      "automargin": true,
                      "type": "pie"
                    }
                  ],
                  "scatter3d": [
                    {
                      "line": {
                        "colorbar": {
                          "outlinewidth": 0,
                          "ticks": ""
                        }
                      },
                      "marker": {
                        "colorbar": {
                          "outlinewidth": 0,
                          "ticks": ""
                        }
                      },
                      "type": "scatter3d"
                    }
                  ],
                  "scattercarpet": [
                    {
                      "marker": {
                        "colorbar": {
                          "outlinewidth": 0,
                          "ticks": ""
                        }
                      },
                      "type": "scattercarpet"
                    }
                  ],
                  "scattergeo": [
                    {
                      "marker": {
                        "colorbar": {
                          "outlinewidth": 0,
                          "ticks": ""
                        }
                      },
                      "type": "scattergeo"
                    }
                  ],
                  "scattergl": [
                    {
                      "marker": {
                        "colorbar": {
                          "outlinewidth": 0,
                          "ticks": ""
                        }
                      },
                      "type": "scattergl"
                    }
                  ],
                  "scattermapbox": [
                    {
                      "marker": {
                        "colorbar": {
                          "outlinewidth": 0,
                          "ticks": ""
                        }
                      },
                      "type": "scattermapbox"
                    }
                  ],
                  "scatterpolargl": [
                    {
                      "marker": {
                        "colorbar": {
                          "outlinewidth": 0,
                          "ticks": ""
                        }
                      },
                      "type": "scatterpolargl"
                    }
                  ],
                  "scatterpolar": [
                    {
                      "marker": {
                        "colorbar": {
                          "outlinewidth": 0,
                          "ticks": ""
                        }
                      },
                      "type": "scatterpolar"
                    }
                  ],
                  "scatter": [
                    {
                      "marker": {
                        "colorbar": {
                          "outlinewidth": 0,
                          "ticks": ""
                        }
                      },
                      "type": "scatter"
                    }
                  ],
                  "scatterternary": [
                    {
                      "marker": {
                        "colorbar": {
                          "outlinewidth": 0,
                          "ticks": ""
                        }
                      },
                      "type": "scatterternary"
                    }
                  ],
                  "surface": [
                    {
                      "colorbar": {
                        "outlinewidth": 0,
                        "ticks": ""
                      },
                      "colorscale": [
                        [
                          0,
                          "#0d0887"
                        ],
                        [
                          0.1111111111111111,
                          "#46039f"
                        ],
                        [
                          0.2222222222222222,
                          "#7201a8"
                        ],
                        [
                          0.3333333333333333,
                          "#9c179e"
                        ],
                        [
                          0.4444444444444444,
                          "#bd3786"
                        ],
                        [
                          0.5555555555555556,
                          "#d8576b"
                        ],
                        [
                          0.6666666666666666,
                          "#ed7953"
                        ],
                        [
                          0.7777777777777778,
                          "#fb9f3a"
                        ],
                        [
                          0.8888888888888888,
                          "#fdca26"
                        ],
                        [
                          1,
                          "#f0f921"
                        ]
                      ],
                      "type": "surface"
                    }
                  ],
                  "table": [
                    {
                      "cells": {
                        "fill": {
                          "color": "#EBF0F8"
                        },
                        "line": {
                          "color": "white"
                        }
                      },
                      "header": {
                        "fill": {
                          "color": "#C8D4E3"
                        },
                        "line": {
                          "color": "white"
                        }
                      },
                      "type": "table"
                    }
                  ]
                },
                "layout": {
                  "annotationdefaults": {
                    "arrowcolor": "#2a3f5f",
                    "arrowhead": 0,
                    "arrowwidth": 1
                  },
                  "autotypenumbers": "strict",
                  "coloraxis": {
                    "colorbar": {
                      "outlinewidth": 0,
                      "ticks": ""
                    }
                  },
                  "colorscale": {
                    "diverging": [
                      [
                        0,
                        "#8e0152"
                      ],
                      [
                        0.1,
                        "#c51b7d"
                      ],
                      [
                        0.2,
                        "#de77ae"
                      ],
                      [
                        0.3,
                        "#f1b6da"
                      ],
                      [
                        0.4,
                        "#fde0ef"
                      ],
                      [
                        0.5,
                        "#f7f7f7"
                      ],
                      [
                        0.6,
                        "#e6f5d0"
                      ],
                      [
                        0.7,
                        "#b8e186"
                      ],
                      [
                        0.8,
                        "#7fbc41"
                      ],
                      [
                        0.9,
                        "#4d9221"
                      ],
                      [
                        1,
                        "#276419"
                      ]
                    ],
                    "sequential": [
                      [
                        0,
                        "#0d0887"
                      ],
                      [
                        0.1111111111111111,
                        "#46039f"
                      ],
                      [
                        0.2222222222222222,
                        "#7201a8"
                      ],
                      [
                        0.3333333333333333,
                        "#9c179e"
                      ],
                      [
                        0.4444444444444444,
                        "#bd3786"
                      ],
                      [
                        0.5555555555555556,
                        "#d8576b"
                      ],
                      [
                        0.6666666666666666,
                        "#ed7953"
                      ],
                      [
                        0.7777777777777778,
                        "#fb9f3a"
                      ],
                      [
                        0.8888888888888888,
                        "#fdca26"
                      ],
                      [
                        1,
                        "#f0f921"
                      ]
                    ],
                    "sequentialminus": [
                      [
                        0,
                        "#0d0887"
                      ],
                      [
                        0.1111111111111111,
                        "#46039f"
                      ],
                      [
                        0.2222222222222222,
                        "#7201a8"
                      ],
                      [
                        0.3333333333333333,
                        "#9c179e"
                      ],
                      [
                        0.4444444444444444,
                        "#bd3786"
                      ],
                      [
                        0.5555555555555556,
                        "#d8576b"
                      ],
                      [
                        0.6666666666666666,
                        "#ed7953"
                      ],
                      [
                        0.7777777777777778,
                        "#fb9f3a"
                      ],
                      [
                        0.8888888888888888,
                        "#fdca26"
                      ],
                      [
                        1,
                        "#f0f921"
                      ]
                    ]
                  },
                  "colorway": [
                    "#636efa",
                    "#EF553B",
                    "#00cc96",
                    "#ab63fa",
                    "#FFA15A",
                    "#19d3f3",
                    "#FF6692",
                    "#B6E880",
                    "#FF97FF",
                    "#FECB52"
                  ],
                  "font": {
                    "color": "#2a3f5f"
                  },
                  "geo": {
                    "bgcolor": "white",
                    "lakecolor": "white",
                    "landcolor": "#E5ECF6",
                    "showlakes": true,
                    "showland": true,
                    "subunitcolor": "white"
                  },
                  "hoverlabel": {
                    "align": "left"
                  },
                  "hovermode": "closest",
                  "mapbox": {
                    "style": "light"
                  },
                  "paper_bgcolor": "white",
                  "plot_bgcolor": "#E5ECF6",
                  "polar": {
                    "angularaxis": {
                      "gridcolor": "white",
                      "linecolor": "white",
                      "ticks": ""
                    },
                    "bgcolor": "#E5ECF6",
                    "radialaxis": {
                      "gridcolor": "white",
                      "linecolor": "white",
                      "ticks": ""
                    }
                  },
                  "scene": {
                    "xaxis": {
                      "backgroundcolor": "#E5ECF6",
                      "gridcolor": "white",
                      "gridwidth": 2,
                      "linecolor": "white",
                      "showbackground": true,
                      "ticks": "",
                      "zerolinecolor": "white"
                    },
                    "yaxis": {
                      "backgroundcolor": "#E5ECF6",
                      "gridcolor": "white",
                      "gridwidth": 2,
                      "linecolor": "white",
                      "showbackground": true,
                      "ticks": "",
                      "zerolinecolor": "white"
                    },
                    "zaxis": {
                      "backgroundcolor": "#E5ECF6",
                      "gridcolor": "white",
                      "gridwidth": 2,
                      "linecolor": "white",
                      "showbackground": true,
                      "ticks": "",
                      "zerolinecolor": "white"
                    }
                  },
                  "shapedefaults": {
                    "line": {
                      "color": "#2a3f5f"
                    }
                  },
                  "ternary": {
                    "aaxis": {
                      "gridcolor": "white",
                      "linecolor": "white",
                      "ticks": ""
                    },
                    "baxis": {
                      "gridcolor": "white",
                      "linecolor": "white",
                      "ticks": ""
                    },
                    "bgcolor": "#E5ECF6",
                    "caxis": {
                      "gridcolor": "white",
                      "linecolor": "white",
                      "ticks": ""
                    }
                  },
                  "title": {
                    "x": 0.05
                  },
                  "xaxis": {
                    "automargin": true,
                    "gridcolor": "white",
                    "linecolor": "white",
                    "ticks": "",
                    "title": {
                      "standoff": 15
                    },
                    "zerolinecolor": "white",
                    "zerolinewidth": 2
                  },
                  "yaxis": {
                    "automargin": true,
                    "gridcolor": "white",
                    "linecolor": "white",
                    "ticks": "",
                    "title": {
                      "standoff": 15
                    },
                    "zerolinecolor": "white",
                    "zerolinewidth": 2
                  }
                }
              },
              "xaxis": {
                "anchor": "y",
                "domain": [
                  0,
                  1
                ],
                "range": [
                  2,
                  5
                ],
                "title": {
                  "text": "PIB per capita"
                },
                "type": "log"
              },
              "yaxis": {
                "anchor": "x",
                "domain": [
                  0,
                  1
                ],
                "range": [
                  25,
                  90
                ],
                "title": {
                  "text": "Expectativa de vida"
                }
              }
            },
            "_model_module": "jupyterlab-plotly",
            "_model_module_version": "^5.5.0",
            "_model_name": "FigureModel",
            "_py2js_addTraces": {},
            "_py2js_animate": {},
            "_py2js_deleteTraces": {},
            "_py2js_moveTraces": {},
            "_py2js_relayout": null,
            "_py2js_removeLayoutProps": {},
            "_py2js_removeTraceProps": {},
            "_py2js_restyle": {},
            "_py2js_update": null,
            "_view_count": 2,
            "_view_module": "jupyterlab-plotly",
            "_view_module_version": "^5.5.0",
            "_view_name": "FigureView"
          }
        },
        "f293b4eac2f640839a3b0c957eed8683": {
          "model_module": "jupyterlab-plotly",
          "model_name": "FigureModel",
          "model_module_version": "^5.5.0",
          "state": {
            "_config": {
              "plotlyServerURL": "https://plot.ly"
            },
            "_data": [],
            "_dom_classes": [],
            "_js2py_layoutDelta": {},
            "_js2py_pointsCallback": {},
            "_js2py_relayout": {},
            "_js2py_restyle": {},
            "_js2py_traceDeltas": {},
            "_js2py_update": {},
            "_last_layout_edit_id": 430,
            "_last_trace_edit_id": 430,
            "_layout": {
              "annotations": [
                {
                  "font": {
                    "size": 16
                  },
                  "showarrow": false,
                  "text": "Expectativa de vida",
                  "x": 0.5,
                  "xanchor": "center",
                  "xref": "paper",
                  "y": 1,
                  "yanchor": "bottom",
                  "yref": "paper"
                },
                {
                  "font": {
                    "size": 16
                  },
                  "showarrow": false,
                  "text": "PIB per capita",
                  "x": 0.5,
                  "xanchor": "center",
                  "xref": "paper",
                  "y": 0.6111111111111112,
                  "yanchor": "bottom",
                  "yref": "paper"
                },
                {
                  "font": {
                    "size": 16
                  },
                  "showarrow": false,
                  "text": "População",
                  "x": 0.5,
                  "xanchor": "center",
                  "xref": "paper",
                  "y": 0.22222222222222224,
                  "yanchor": "bottom",
                  "yref": "paper"
                }
              ],
              "template": {
                "data": {
                  "barpolar": [
                    {
                      "marker": {
                        "line": {
                          "color": "#E5ECF6",
                          "width": 0.5
                        },
                        "pattern": {
                          "fillmode": "overlay",
                          "size": 10,
                          "solidity": 0.2
                        }
                      },
                      "type": "barpolar"
                    }
                  ],
                  "bar": [
                    {
                      "error_x": {
                        "color": "#2a3f5f"
                      },
                      "error_y": {
                        "color": "#2a3f5f"
                      },
                      "marker": {
                        "line": {
                          "color": "#E5ECF6",
                          "width": 0.5
                        },
                        "pattern": {
                          "fillmode": "overlay",
                          "size": 10,
                          "solidity": 0.2
                        }
                      },
                      "type": "bar"
                    }
                  ],
                  "carpet": [
                    {
                      "aaxis": {
                        "endlinecolor": "#2a3f5f",
                        "gridcolor": "white",
                        "linecolor": "white",
                        "minorgridcolor": "white",
                        "startlinecolor": "#2a3f5f"
                      },
                      "baxis": {
                        "endlinecolor": "#2a3f5f",
                        "gridcolor": "white",
                        "linecolor": "white",
                        "minorgridcolor": "white",
                        "startlinecolor": "#2a3f5f"
                      },
                      "type": "carpet"
                    }
                  ],
                  "choropleth": [
                    {
                      "colorbar": {
                        "outlinewidth": 0,
                        "ticks": ""
                      },
                      "type": "choropleth"
                    }
                  ],
                  "contourcarpet": [
                    {
                      "colorbar": {
                        "outlinewidth": 0,
                        "ticks": ""
                      },
                      "type": "contourcarpet"
                    }
                  ],
                  "contour": [
                    {
                      "colorbar": {
                        "outlinewidth": 0,
                        "ticks": ""
                      },
                      "colorscale": [
                        [
                          0,
                          "#0d0887"
                        ],
                        [
                          0.1111111111111111,
                          "#46039f"
                        ],
                        [
                          0.2222222222222222,
                          "#7201a8"
                        ],
                        [
                          0.3333333333333333,
                          "#9c179e"
                        ],
                        [
                          0.4444444444444444,
                          "#bd3786"
                        ],
                        [
                          0.5555555555555556,
                          "#d8576b"
                        ],
                        [
                          0.6666666666666666,
                          "#ed7953"
                        ],
                        [
                          0.7777777777777778,
                          "#fb9f3a"
                        ],
                        [
                          0.8888888888888888,
                          "#fdca26"
                        ],
                        [
                          1,
                          "#f0f921"
                        ]
                      ],
                      "type": "contour"
                    }
                  ],
                  "heatmapgl": [
                    {
                      "colorbar": {
                        "outlinewidth": 0,
                        "ticks": ""
                      },
                      "colorscale": [
                        [
                          0,
                          "#0d0887"
                        ],
                        [
                          0.1111111111111111,
                          "#46039f"
                        ],
                        [
                          0.2222222222222222,
                          "#7201a8"
                        ],
                        [
                          0.3333333333333333,
                          "#9c179e"
                        ],
                        [
                          0.4444444444444444,
                          "#bd3786"
                        ],
                        [
                          0.5555555555555556,
                          "#d8576b"
                        ],
                        [
                          0.6666666666666666,
                          "#ed7953"
                        ],
                        [
                          0.7777777777777778,
                          "#fb9f3a"
                        ],
                        [
                          0.8888888888888888,
                          "#fdca26"
                        ],
                        [
                          1,
                          "#f0f921"
                        ]
                      ],
                      "type": "heatmapgl"
                    }
                  ],
                  "heatmap": [
                    {
                      "colorbar": {
                        "outlinewidth": 0,
                        "ticks": ""
                      },
                      "colorscale": [
                        [
                          0,
                          "#0d0887"
                        ],
                        [
                          0.1111111111111111,
                          "#46039f"
                        ],
                        [
                          0.2222222222222222,
                          "#7201a8"
                        ],
                        [
                          0.3333333333333333,
                          "#9c179e"
                        ],
                        [
                          0.4444444444444444,
                          "#bd3786"
                        ],
                        [
                          0.5555555555555556,
                          "#d8576b"
                        ],
                        [
                          0.6666666666666666,
                          "#ed7953"
                        ],
                        [
                          0.7777777777777778,
                          "#fb9f3a"
                        ],
                        [
                          0.8888888888888888,
                          "#fdca26"
                        ],
                        [
                          1,
                          "#f0f921"
                        ]
                      ],
                      "type": "heatmap"
                    }
                  ],
                  "histogram2dcontour": [
                    {
                      "colorbar": {
                        "outlinewidth": 0,
                        "ticks": ""
                      },
                      "colorscale": [
                        [
                          0,
                          "#0d0887"
                        ],
                        [
                          0.1111111111111111,
                          "#46039f"
                        ],
                        [
                          0.2222222222222222,
                          "#7201a8"
                        ],
                        [
                          0.3333333333333333,
                          "#9c179e"
                        ],
                        [
                          0.4444444444444444,
                          "#bd3786"
                        ],
                        [
                          0.5555555555555556,
                          "#d8576b"
                        ],
                        [
                          0.6666666666666666,
                          "#ed7953"
                        ],
                        [
                          0.7777777777777778,
                          "#fb9f3a"
                        ],
                        [
                          0.8888888888888888,
                          "#fdca26"
                        ],
                        [
                          1,
                          "#f0f921"
                        ]
                      ],
                      "type": "histogram2dcontour"
                    }
                  ],
                  "histogram2d": [
                    {
                      "colorbar": {
                        "outlinewidth": 0,
                        "ticks": ""
                      },
                      "colorscale": [
                        [
                          0,
                          "#0d0887"
                        ],
                        [
                          0.1111111111111111,
                          "#46039f"
                        ],
                        [
                          0.2222222222222222,
                          "#7201a8"
                        ],
                        [
                          0.3333333333333333,
                          "#9c179e"
                        ],
                        [
                          0.4444444444444444,
                          "#bd3786"
                        ],
                        [
                          0.5555555555555556,
                          "#d8576b"
                        ],
                        [
                          0.6666666666666666,
                          "#ed7953"
                        ],
                        [
                          0.7777777777777778,
                          "#fb9f3a"
                        ],
                        [
                          0.8888888888888888,
                          "#fdca26"
                        ],
                        [
                          1,
                          "#f0f921"
                        ]
                      ],
                      "type": "histogram2d"
                    }
                  ],
                  "histogram": [
                    {
                      "marker": {
                        "pattern": {
                          "fillmode": "overlay",
                          "size": 10,
                          "solidity": 0.2
                        }
                      },
                      "type": "histogram"
                    }
                  ],
                  "mesh3d": [
                    {
                      "colorbar": {
                        "outlinewidth": 0,
                        "ticks": ""
                      },
                      "type": "mesh3d"
                    }
                  ],
                  "parcoords": [
                    {
                      "line": {
                        "colorbar": {
                          "outlinewidth": 0,
                          "ticks": ""
                        }
                      },
                      "type": "parcoords"
                    }
                  ],
                  "pie": [
                    {
                      "automargin": true,
                      "type": "pie"
                    }
                  ],
                  "scatter3d": [
                    {
                      "line": {
                        "colorbar": {
                          "outlinewidth": 0,
                          "ticks": ""
                        }
                      },
                      "marker": {
                        "colorbar": {
                          "outlinewidth": 0,
                          "ticks": ""
                        }
                      },
                      "type": "scatter3d"
                    }
                  ],
                  "scattercarpet": [
                    {
                      "marker": {
                        "colorbar": {
                          "outlinewidth": 0,
                          "ticks": ""
                        }
                      },
                      "type": "scattercarpet"
                    }
                  ],
                  "scattergeo": [
                    {
                      "marker": {
                        "colorbar": {
                          "outlinewidth": 0,
                          "ticks": ""
                        }
                      },
                      "type": "scattergeo"
                    }
                  ],
                  "scattergl": [
                    {
                      "marker": {
                        "colorbar": {
                          "outlinewidth": 0,
                          "ticks": ""
                        }
                      },
                      "type": "scattergl"
                    }
                  ],
                  "scattermapbox": [
                    {
                      "marker": {
                        "colorbar": {
                          "outlinewidth": 0,
                          "ticks": ""
                        }
                      },
                      "type": "scattermapbox"
                    }
                  ],
                  "scatterpolargl": [
                    {
                      "marker": {
                        "colorbar": {
                          "outlinewidth": 0,
                          "ticks": ""
                        }
                      },
                      "type": "scatterpolargl"
                    }
                  ],
                  "scatterpolar": [
                    {
                      "marker": {
                        "colorbar": {
                          "outlinewidth": 0,
                          "ticks": ""
                        }
                      },
                      "type": "scatterpolar"
                    }
                  ],
                  "scatter": [
                    {
                      "marker": {
                        "colorbar": {
                          "outlinewidth": 0,
                          "ticks": ""
                        }
                      },
                      "type": "scatter"
                    }
                  ],
                  "scatterternary": [
                    {
                      "marker": {
                        "colorbar": {
                          "outlinewidth": 0,
                          "ticks": ""
                        }
                      },
                      "type": "scatterternary"
                    }
                  ],
                  "surface": [
                    {
                      "colorbar": {
                        "outlinewidth": 0,
                        "ticks": ""
                      },
                      "colorscale": [
                        [
                          0,
                          "#0d0887"
                        ],
                        [
                          0.1111111111111111,
                          "#46039f"
                        ],
                        [
                          0.2222222222222222,
                          "#7201a8"
                        ],
                        [
                          0.3333333333333333,
                          "#9c179e"
                        ],
                        [
                          0.4444444444444444,
                          "#bd3786"
                        ],
                        [
                          0.5555555555555556,
                          "#d8576b"
                        ],
                        [
                          0.6666666666666666,
                          "#ed7953"
                        ],
                        [
                          0.7777777777777778,
                          "#fb9f3a"
                        ],
                        [
                          0.8888888888888888,
                          "#fdca26"
                        ],
                        [
                          1,
                          "#f0f921"
                        ]
                      ],
                      "type": "surface"
                    }
                  ],
                  "table": [
                    {
                      "cells": {
                        "fill": {
                          "color": "#EBF0F8"
                        },
                        "line": {
                          "color": "white"
                        }
                      },
                      "header": {
                        "fill": {
                          "color": "#C8D4E3"
                        },
                        "line": {
                          "color": "white"
                        }
                      },
                      "type": "table"
                    }
                  ]
                },
                "layout": {
                  "annotationdefaults": {
                    "arrowcolor": "#2a3f5f",
                    "arrowhead": 0,
                    "arrowwidth": 1
                  },
                  "autotypenumbers": "strict",
                  "coloraxis": {
                    "colorbar": {
                      "outlinewidth": 0,
                      "ticks": ""
                    }
                  },
                  "colorscale": {
                    "diverging": [
                      [
                        0,
                        "#8e0152"
                      ],
                      [
                        0.1,
                        "#c51b7d"
                      ],
                      [
                        0.2,
                        "#de77ae"
                      ],
                      [
                        0.3,
                        "#f1b6da"
                      ],
                      [
                        0.4,
                        "#fde0ef"
                      ],
                      [
                        0.5,
                        "#f7f7f7"
                      ],
                      [
                        0.6,
                        "#e6f5d0"
                      ],
                      [
                        0.7,
                        "#b8e186"
                      ],
                      [
                        0.8,
                        "#7fbc41"
                      ],
                      [
                        0.9,
                        "#4d9221"
                      ],
                      [
                        1,
                        "#276419"
                      ]
                    ],
                    "sequential": [
                      [
                        0,
                        "#0d0887"
                      ],
                      [
                        0.1111111111111111,
                        "#46039f"
                      ],
                      [
                        0.2222222222222222,
                        "#7201a8"
                      ],
                      [
                        0.3333333333333333,
                        "#9c179e"
                      ],
                      [
                        0.4444444444444444,
                        "#bd3786"
                      ],
                      [
                        0.5555555555555556,
                        "#d8576b"
                      ],
                      [
                        0.6666666666666666,
                        "#ed7953"
                      ],
                      [
                        0.7777777777777778,
                        "#fb9f3a"
                      ],
                      [
                        0.8888888888888888,
                        "#fdca26"
                      ],
                      [
                        1,
                        "#f0f921"
                      ]
                    ],
                    "sequentialminus": [
                      [
                        0,
                        "#0d0887"
                      ],
                      [
                        0.1111111111111111,
                        "#46039f"
                      ],
                      [
                        0.2222222222222222,
                        "#7201a8"
                      ],
                      [
                        0.3333333333333333,
                        "#9c179e"
                      ],
                      [
                        0.4444444444444444,
                        "#bd3786"
                      ],
                      [
                        0.5555555555555556,
                        "#d8576b"
                      ],
                      [
                        0.6666666666666666,
                        "#ed7953"
                      ],
                      [
                        0.7777777777777778,
                        "#fb9f3a"
                      ],
                      [
                        0.8888888888888888,
                        "#fdca26"
                      ],
                      [
                        1,
                        "#f0f921"
                      ]
                    ]
                  },
                  "colorway": [
                    "#636efa",
                    "#EF553B",
                    "#00cc96",
                    "#ab63fa",
                    "#FFA15A",
                    "#19d3f3",
                    "#FF6692",
                    "#B6E880",
                    "#FF97FF",
                    "#FECB52"
                  ],
                  "font": {
                    "color": "#2a3f5f"
                  },
                  "geo": {
                    "bgcolor": "white",
                    "lakecolor": "white",
                    "landcolor": "#E5ECF6",
                    "showlakes": true,
                    "showland": true,
                    "subunitcolor": "white"
                  },
                  "hoverlabel": {
                    "align": "left"
                  },
                  "hovermode": "closest",
                  "mapbox": {
                    "style": "light"
                  },
                  "paper_bgcolor": "white",
                  "plot_bgcolor": "#E5ECF6",
                  "polar": {
                    "angularaxis": {
                      "gridcolor": "white",
                      "linecolor": "white",
                      "ticks": ""
                    },
                    "bgcolor": "#E5ECF6",
                    "radialaxis": {
                      "gridcolor": "white",
                      "linecolor": "white",
                      "ticks": ""
                    }
                  },
                  "scene": {
                    "xaxis": {
                      "backgroundcolor": "#E5ECF6",
                      "gridcolor": "white",
                      "gridwidth": 2,
                      "linecolor": "white",
                      "showbackground": true,
                      "ticks": "",
                      "zerolinecolor": "white"
                    },
                    "yaxis": {
                      "backgroundcolor": "#E5ECF6",
                      "gridcolor": "white",
                      "gridwidth": 2,
                      "linecolor": "white",
                      "showbackground": true,
                      "ticks": "",
                      "zerolinecolor": "white"
                    },
                    "zaxis": {
                      "backgroundcolor": "#E5ECF6",
                      "gridcolor": "white",
                      "gridwidth": 2,
                      "linecolor": "white",
                      "showbackground": true,
                      "ticks": "",
                      "zerolinecolor": "white"
                    }
                  },
                  "shapedefaults": {
                    "line": {
                      "color": "#2a3f5f"
                    }
                  },
                  "ternary": {
                    "aaxis": {
                      "gridcolor": "white",
                      "linecolor": "white",
                      "ticks": ""
                    },
                    "baxis": {
                      "gridcolor": "white",
                      "linecolor": "white",
                      "ticks": ""
                    },
                    "bgcolor": "#E5ECF6",
                    "caxis": {
                      "gridcolor": "white",
                      "linecolor": "white",
                      "ticks": ""
                    }
                  },
                  "title": {
                    "x": 0.05
                  },
                  "xaxis": {
                    "automargin": true,
                    "gridcolor": "white",
                    "linecolor": "white",
                    "ticks": "",
                    "title": {
                      "standoff": 15
                    },
                    "zerolinecolor": "white",
                    "zerolinewidth": 2
                  },
                  "yaxis": {
                    "automargin": true,
                    "gridcolor": "white",
                    "linecolor": "white",
                    "ticks": "",
                    "title": {
                      "standoff": 15
                    },
                    "zerolinecolor": "white",
                    "zerolinewidth": 2
                  }
                }
              },
              "xaxis": {
                "anchor": "y",
                "domain": [
                  0,
                  1
                ],
                "matches": "x3",
                "showticklabels": false
              },
              "yaxis": {
                "anchor": "x",
                "domain": [
                  0.7777777777777778,
                  1
                ]
              },
              "xaxis2": {
                "anchor": "y2",
                "domain": [
                  0,
                  1
                ],
                "matches": "x3",
                "showticklabels": false
              },
              "yaxis2": {
                "anchor": "x2",
                "domain": [
                  0.3888888888888889,
                  0.6111111111111112
                ]
              },
              "xaxis3": {
                "anchor": "y3",
                "domain": [
                  0,
                  1
                ]
              },
              "yaxis3": {
                "anchor": "x3",
                "domain": [
                  0,
                  0.22222222222222224
                ]
              }
            },
            "_model_module": "jupyterlab-plotly",
            "_model_module_version": "^5.5.0",
            "_model_name": "FigureModel",
            "_py2js_addTraces": null,
            "_py2js_animate": {},
            "_py2js_deleteTraces": {},
            "_py2js_moveTraces": {},
            "_py2js_relayout": {},
            "_py2js_removeLayoutProps": {},
            "_py2js_removeTraceProps": {},
            "_py2js_restyle": {},
            "_py2js_update": null,
            "_view_count": 0,
            "_view_module": "jupyterlab-plotly",
            "_view_module_version": "^5.5.0",
            "_view_name": "FigureView"
          }
        },
        "1291651fa98849c78e7b42436cbaeed4": {
          "model_module": "@jupyter-widgets/controls",
          "model_name": "HBoxModel",
          "model_module_version": "1.5.0",
          "state": {
            "_dom_classes": [],
            "_model_module": "@jupyter-widgets/controls",
            "_model_module_version": "1.5.0",
            "_model_name": "HBoxModel",
            "_view_count": null,
            "_view_module": "@jupyter-widgets/controls",
            "_view_module_version": "1.5.0",
            "_view_name": "HBoxView",
            "box_style": "",
            "children": [
              "IPY_MODEL_ff1b11c37638424fb8bd64ad42cba901",
              "IPY_MODEL_4c470423bee341efad7d3e340b158c03"
            ],
            "layout": "IPY_MODEL_ba03f2c22c7d41ba8fefbaa391d74f3a"
          }
        },
        "ff1b11c37638424fb8bd64ad42cba901": {
          "model_module": "@jupyter-widgets/controls",
          "model_name": "PlayModel",
          "model_module_version": "1.5.0",
          "state": {
            "_dom_classes": [],
            "_model_module": "@jupyter-widgets/controls",
            "_model_module_version": "1.5.0",
            "_model_name": "PlayModel",
            "_playing": false,
            "_repeat": false,
            "_view_count": null,
            "_view_module": "@jupyter-widgets/controls",
            "_view_module_version": "1.5.0",
            "_view_name": "PlayView",
            "description": " Ano ",
            "description_tooltip": null,
            "disabled": false,
            "interval": 1000,
            "layout": "IPY_MODEL_3e25ecc5ea7b484f8215c797d9296109",
            "max": 2007,
            "min": 1952,
            "show_repeat": true,
            "step": 5,
            "style": "IPY_MODEL_897002d3a21b4f258d97455dc2187341",
            "value": 1952
          }
        },
        "4c470423bee341efad7d3e340b158c03": {
          "model_module": "@jupyter-widgets/controls",
          "model_name": "IntSliderModel",
          "model_module_version": "1.5.0",
          "state": {
            "_dom_classes": [],
            "_model_module": "@jupyter-widgets/controls",
            "_model_module_version": "1.5.0",
            "_model_name": "IntSliderModel",
            "_view_count": null,
            "_view_module": "@jupyter-widgets/controls",
            "_view_module_version": "1.5.0",
            "_view_name": "IntSliderView",
            "continuous_update": false,
            "description": " Ano ",
            "description_tooltip": null,
            "disabled": false,
            "layout": "IPY_MODEL_e5ecc28b25d74413813de6e04a5f74f6",
            "max": 2007,
            "min": 1952,
            "orientation": "horizontal",
            "readout": true,
            "readout_format": "d",
            "step": 5,
            "style": "IPY_MODEL_e9f090e597e74c1c953a2df62a0f9773",
            "value": 1952
          }
        },
        "ba03f2c22c7d41ba8fefbaa391d74f3a": {
          "model_module": "@jupyter-widgets/base",
          "model_name": "LayoutModel",
          "model_module_version": "1.2.0",
          "state": {
            "_model_module": "@jupyter-widgets/base",
            "_model_module_version": "1.2.0",
            "_model_name": "LayoutModel",
            "_view_count": null,
            "_view_module": "@jupyter-widgets/base",
            "_view_module_version": "1.2.0",
            "_view_name": "LayoutView",
            "align_content": null,
            "align_items": null,
            "align_self": null,
            "border": null,
            "bottom": null,
            "display": null,
            "flex": null,
            "flex_flow": null,
            "grid_area": null,
            "grid_auto_columns": null,
            "grid_auto_flow": null,
            "grid_auto_rows": null,
            "grid_column": null,
            "grid_gap": null,
            "grid_row": null,
            "grid_template_areas": null,
            "grid_template_columns": null,
            "grid_template_rows": null,
            "height": null,
            "justify_content": null,
            "justify_items": null,
            "left": null,
            "margin": null,
            "max_height": null,
            "max_width": null,
            "min_height": null,
            "min_width": null,
            "object_fit": null,
            "object_position": null,
            "order": null,
            "overflow": null,
            "overflow_x": null,
            "overflow_y": null,
            "padding": null,
            "right": null,
            "top": null,
            "visibility": null,
            "width": null
          }
        },
        "3e25ecc5ea7b484f8215c797d9296109": {
          "model_module": "@jupyter-widgets/base",
          "model_name": "LayoutModel",
          "model_module_version": "1.2.0",
          "state": {
            "_model_module": "@jupyter-widgets/base",
            "_model_module_version": "1.2.0",
            "_model_name": "LayoutModel",
            "_view_count": null,
            "_view_module": "@jupyter-widgets/base",
            "_view_module_version": "1.2.0",
            "_view_name": "LayoutView",
            "align_content": null,
            "align_items": null,
            "align_self": null,
            "border": null,
            "bottom": null,
            "display": null,
            "flex": null,
            "flex_flow": null,
            "grid_area": null,
            "grid_auto_columns": null,
            "grid_auto_flow": null,
            "grid_auto_rows": null,
            "grid_column": null,
            "grid_gap": null,
            "grid_row": null,
            "grid_template_areas": null,
            "grid_template_columns": null,
            "grid_template_rows": null,
            "height": null,
            "justify_content": null,
            "justify_items": null,
            "left": null,
            "margin": null,
            "max_height": null,
            "max_width": null,
            "min_height": null,
            "min_width": null,
            "object_fit": null,
            "object_position": null,
            "order": null,
            "overflow": null,
            "overflow_x": null,
            "overflow_y": null,
            "padding": null,
            "right": null,
            "top": null,
            "visibility": null,
            "width": null
          }
        },
        "897002d3a21b4f258d97455dc2187341": {
          "model_module": "@jupyter-widgets/controls",
          "model_name": "DescriptionStyleModel",
          "model_module_version": "1.5.0",
          "state": {
            "_model_module": "@jupyter-widgets/controls",
            "_model_module_version": "1.5.0",
            "_model_name": "DescriptionStyleModel",
            "_view_count": null,
            "_view_module": "@jupyter-widgets/base",
            "_view_module_version": "1.2.0",
            "_view_name": "StyleView",
            "description_width": ""
          }
        },
        "e5ecc28b25d74413813de6e04a5f74f6": {
          "model_module": "@jupyter-widgets/base",
          "model_name": "LayoutModel",
          "model_module_version": "1.2.0",
          "state": {
            "_model_module": "@jupyter-widgets/base",
            "_model_module_version": "1.2.0",
            "_model_name": "LayoutModel",
            "_view_count": null,
            "_view_module": "@jupyter-widgets/base",
            "_view_module_version": "1.2.0",
            "_view_name": "LayoutView",
            "align_content": null,
            "align_items": null,
            "align_self": null,
            "border": null,
            "bottom": null,
            "display": null,
            "flex": null,
            "flex_flow": null,
            "grid_area": null,
            "grid_auto_columns": null,
            "grid_auto_flow": null,
            "grid_auto_rows": null,
            "grid_column": null,
            "grid_gap": null,
            "grid_row": null,
            "grid_template_areas": null,
            "grid_template_columns": null,
            "grid_template_rows": null,
            "height": null,
            "justify_content": null,
            "justify_items": null,
            "left": null,
            "margin": null,
            "max_height": null,
            "max_width": null,
            "min_height": null,
            "min_width": null,
            "object_fit": null,
            "object_position": null,
            "order": null,
            "overflow": null,
            "overflow_x": null,
            "overflow_y": null,
            "padding": null,
            "right": null,
            "top": null,
            "visibility": null,
            "width": null
          }
        },
        "e9f090e597e74c1c953a2df62a0f9773": {
          "model_module": "@jupyter-widgets/controls",
          "model_name": "SliderStyleModel",
          "model_module_version": "1.5.0",
          "state": {
            "_model_module": "@jupyter-widgets/controls",
            "_model_module_version": "1.5.0",
            "_model_name": "SliderStyleModel",
            "_view_count": null,
            "_view_module": "@jupyter-widgets/base",
            "_view_module_version": "1.2.0",
            "_view_name": "StyleView",
            "description_width": "",
            "handle_color": null
          }
        },
        "46815fa4e7544dfe89cdece10f6df7ef": {
          "model_module": "@jupyter-widgets/controls",
          "model_name": "VBoxModel",
          "model_module_version": "1.5.0",
          "state": {
            "_dom_classes": [],
            "_model_module": "@jupyter-widgets/controls",
            "_model_module_version": "1.5.0",
            "_model_name": "VBoxModel",
            "_view_count": null,
            "_view_module": "@jupyter-widgets/controls",
            "_view_module_version": "1.5.0",
            "_view_name": "VBoxView",
            "box_style": "",
            "children": [
              "IPY_MODEL_88e3519b94ab44aba3b24c33a79d3c19",
              "IPY_MODEL_5792efc8d9ec4cdfb3e85a7ac4fb988e"
            ],
            "layout": "IPY_MODEL_b78dbb7c8bb84f36b97b62c18bbfe497"
          }
        },
        "5792efc8d9ec4cdfb3e85a7ac4fb988e": {
          "model_module": "@jupyter-widgets/controls",
          "model_name": "HBoxModel",
          "model_module_version": "1.5.0",
          "state": {
            "_dom_classes": [],
            "_model_module": "@jupyter-widgets/controls",
            "_model_module_version": "1.5.0",
            "_model_name": "HBoxModel",
            "_view_count": null,
            "_view_module": "@jupyter-widgets/controls",
            "_view_module_version": "1.5.0",
            "_view_name": "HBoxView",
            "box_style": "",
            "children": [
              "IPY_MODEL_a904bbed5abc44dd828e4450d7591282",
              "IPY_MODEL_f293b4eac2f640839a3b0c957eed8683"
            ],
            "layout": "IPY_MODEL_574c2c27b87d4cb8a9c3ececde7ee8e9"
          }
        },
        "b78dbb7c8bb84f36b97b62c18bbfe497": {
          "model_module": "@jupyter-widgets/base",
          "model_name": "LayoutModel",
          "model_module_version": "1.2.0",
          "state": {
            "_model_module": "@jupyter-widgets/base",
            "_model_module_version": "1.2.0",
            "_model_name": "LayoutModel",
            "_view_count": null,
            "_view_module": "@jupyter-widgets/base",
            "_view_module_version": "1.2.0",
            "_view_name": "LayoutView",
            "align_content": null,
            "align_items": null,
            "align_self": null,
            "border": null,
            "bottom": null,
            "display": null,
            "flex": null,
            "flex_flow": null,
            "grid_area": null,
            "grid_auto_columns": null,
            "grid_auto_flow": null,
            "grid_auto_rows": null,
            "grid_column": null,
            "grid_gap": null,
            "grid_row": null,
            "grid_template_areas": null,
            "grid_template_columns": null,
            "grid_template_rows": null,
            "height": null,
            "justify_content": null,
            "justify_items": null,
            "left": null,
            "margin": null,
            "max_height": null,
            "max_width": null,
            "min_height": null,
            "min_width": null,
            "object_fit": null,
            "object_position": null,
            "order": null,
            "overflow": null,
            "overflow_x": null,
            "overflow_y": null,
            "padding": null,
            "right": null,
            "top": null,
            "visibility": null,
            "width": null
          }
        },
        "574c2c27b87d4cb8a9c3ececde7ee8e9": {
          "model_module": "@jupyter-widgets/base",
          "model_name": "LayoutModel",
          "model_module_version": "1.2.0",
          "state": {
            "_model_module": "@jupyter-widgets/base",
            "_model_module_version": "1.2.0",
            "_model_name": "LayoutModel",
            "_view_count": null,
            "_view_module": "@jupyter-widgets/base",
            "_view_module_version": "1.2.0",
            "_view_name": "LayoutView",
            "align_content": null,
            "align_items": null,
            "align_self": null,
            "border": null,
            "bottom": null,
            "display": null,
            "flex": null,
            "flex_flow": null,
            "grid_area": null,
            "grid_auto_columns": null,
            "grid_auto_flow": null,
            "grid_auto_rows": null,
            "grid_column": null,
            "grid_gap": null,
            "grid_row": null,
            "grid_template_areas": null,
            "grid_template_columns": null,
            "grid_template_rows": null,
            "height": null,
            "justify_content": null,
            "justify_items": null,
            "left": null,
            "margin": null,
            "max_height": null,
            "max_width": null,
            "min_height": null,
            "min_width": null,
            "object_fit": null,
            "object_position": null,
            "order": null,
            "overflow": null,
            "overflow_x": null,
            "overflow_y": null,
            "padding": null,
            "right": null,
            "top": null,
            "visibility": null,
            "width": null
          }
        },
        "108d105b00184979b5ae21de47df9418": {
          "model_module": "@jupyter-widgets/controls",
          "model_name": "VBoxModel",
          "model_module_version": "1.5.0",
          "state": {
            "_dom_classes": [],
            "_model_module": "@jupyter-widgets/controls",
            "_model_module_version": "1.5.0",
            "_model_name": "VBoxModel",
            "_view_count": null,
            "_view_module": "@jupyter-widgets/controls",
            "_view_module_version": "1.5.0",
            "_view_name": "VBoxView",
            "box_style": "",
            "children": [
              "IPY_MODEL_1291651fa98849c78e7b42436cbaeed4",
              "IPY_MODEL_88e3519b94ab44aba3b24c33a79d3c19"
            ],
            "layout": "IPY_MODEL_ef38dfbf94b94c799cef3effd53715e2"
          }
        },
        "ef38dfbf94b94c799cef3effd53715e2": {
          "model_module": "@jupyter-widgets/base",
          "model_name": "LayoutModel",
          "model_module_version": "1.2.0",
          "state": {
            "_model_module": "@jupyter-widgets/base",
            "_model_module_version": "1.2.0",
            "_model_name": "LayoutModel",
            "_view_count": null,
            "_view_module": "@jupyter-widgets/base",
            "_view_module_version": "1.2.0",
            "_view_name": "LayoutView",
            "align_content": null,
            "align_items": null,
            "align_self": null,
            "border": null,
            "bottom": null,
            "display": null,
            "flex": null,
            "flex_flow": null,
            "grid_area": null,
            "grid_auto_columns": null,
            "grid_auto_flow": null,
            "grid_auto_rows": null,
            "grid_column": null,
            "grid_gap": null,
            "grid_row": null,
            "grid_template_areas": null,
            "grid_template_columns": null,
            "grid_template_rows": null,
            "height": null,
            "justify_content": null,
            "justify_items": null,
            "left": null,
            "margin": null,
            "max_height": null,
            "max_width": null,
            "min_height": null,
            "min_width": null,
            "object_fit": null,
            "object_position": null,
            "order": null,
            "overflow": null,
            "overflow_x": null,
            "overflow_y": null,
            "padding": null,
            "right": null,
            "top": null,
            "visibility": null,
            "width": null
          }
        },
        "cfee8269a7004971bad3e5a97b7d5ef1": {
          "model_module": "@jupyter-widgets/controls",
          "model_name": "VBoxModel",
          "model_module_version": "1.5.0",
          "state": {
            "_dom_classes": [],
            "_model_module": "@jupyter-widgets/controls",
            "_model_module_version": "1.5.0",
            "_model_name": "VBoxModel",
            "_view_count": null,
            "_view_module": "@jupyter-widgets/controls",
            "_view_module_version": "1.5.0",
            "_view_name": "VBoxView",
            "box_style": "",
            "children": [
              "IPY_MODEL_1291651fa98849c78e7b42436cbaeed4",
              "IPY_MODEL_88e3519b94ab44aba3b24c33a79d3c19",
              "IPY_MODEL_66ee5cd4f5e94a2a8e1aa6359f886686"
            ],
            "layout": "IPY_MODEL_01799f7486d64154a0028fdedb755491"
          }
        },
        "66ee5cd4f5e94a2a8e1aa6359f886686": {
          "model_module": "@jupyter-widgets/controls",
          "model_name": "HBoxModel",
          "model_module_version": "1.5.0",
          "state": {
            "_dom_classes": [],
            "_model_module": "@jupyter-widgets/controls",
            "_model_module_version": "1.5.0",
            "_model_name": "HBoxModel",
            "_view_count": null,
            "_view_module": "@jupyter-widgets/controls",
            "_view_module_version": "1.5.0",
            "_view_name": "HBoxView",
            "box_style": "",
            "children": [
              "IPY_MODEL_a904bbed5abc44dd828e4450d7591282",
              "IPY_MODEL_f293b4eac2f640839a3b0c957eed8683"
            ],
            "layout": "IPY_MODEL_430f9fb3977145a8a243f0af0a94b776"
          }
        },
        "01799f7486d64154a0028fdedb755491": {
          "model_module": "@jupyter-widgets/base",
          "model_name": "LayoutModel",
          "model_module_version": "1.2.0",
          "state": {
            "_model_module": "@jupyter-widgets/base",
            "_model_module_version": "1.2.0",
            "_model_name": "LayoutModel",
            "_view_count": null,
            "_view_module": "@jupyter-widgets/base",
            "_view_module_version": "1.2.0",
            "_view_name": "LayoutView",
            "align_content": null,
            "align_items": null,
            "align_self": null,
            "border": null,
            "bottom": null,
            "display": null,
            "flex": null,
            "flex_flow": null,
            "grid_area": null,
            "grid_auto_columns": null,
            "grid_auto_flow": null,
            "grid_auto_rows": null,
            "grid_column": null,
            "grid_gap": null,
            "grid_row": null,
            "grid_template_areas": null,
            "grid_template_columns": null,
            "grid_template_rows": null,
            "height": null,
            "justify_content": null,
            "justify_items": null,
            "left": null,
            "margin": null,
            "max_height": null,
            "max_width": null,
            "min_height": null,
            "min_width": null,
            "object_fit": null,
            "object_position": null,
            "order": null,
            "overflow": null,
            "overflow_x": null,
            "overflow_y": null,
            "padding": null,
            "right": null,
            "top": null,
            "visibility": null,
            "width": null
          }
        },
        "430f9fb3977145a8a243f0af0a94b776": {
          "model_module": "@jupyter-widgets/base",
          "model_name": "LayoutModel",
          "model_module_version": "1.2.0",
          "state": {
            "_model_module": "@jupyter-widgets/base",
            "_model_module_version": "1.2.0",
            "_model_name": "LayoutModel",
            "_view_count": null,
            "_view_module": "@jupyter-widgets/base",
            "_view_module_version": "1.2.0",
            "_view_name": "LayoutView",
            "align_content": null,
            "align_items": null,
            "align_self": null,
            "border": null,
            "bottom": null,
            "display": null,
            "flex": null,
            "flex_flow": null,
            "grid_area": null,
            "grid_auto_columns": null,
            "grid_auto_flow": null,
            "grid_auto_rows": null,
            "grid_column": null,
            "grid_gap": null,
            "grid_row": null,
            "grid_template_areas": null,
            "grid_template_columns": null,
            "grid_template_rows": null,
            "height": null,
            "justify_content": null,
            "justify_items": null,
            "left": null,
            "margin": null,
            "max_height": null,
            "max_width": null,
            "min_height": null,
            "min_width": null,
            "object_fit": null,
            "object_position": null,
            "order": null,
            "overflow": null,
            "overflow_x": null,
            "overflow_y": null,
            "padding": null,
            "right": null,
            "top": null,
            "visibility": null,
            "width": null
          }
        }
      }
    }
  },
  "nbformat": 4,
  "nbformat_minor": 5
}